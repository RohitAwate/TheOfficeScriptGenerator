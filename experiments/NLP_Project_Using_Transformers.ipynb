{
  "nbformat": 4,
  "nbformat_minor": 0,
  "metadata": {
    "colab": {
      "provenance": [],
      "collapsed_sections": [
        "QGEp-v_jqWsO",
        "qgdAPJwprWRh",
        "kGznrYjyqo_J"
      ],
      "toc_visible": true
    },
    "kernelspec": {
      "name": "python3",
      "display_name": "Python 3"
    },
    "language_info": {
      "name": "python"
    },
    "accelerator": "GPU",
    "gpuClass": "standard"
  },
  "cells": [
    {
      "cell_type": "markdown",
      "source": [
        "## Get dataset from Kaggle"
      ],
      "metadata": {
        "id": "QGEp-v_jqWsO"
      }
    },
    {
      "cell_type": "code",
      "execution_count": null,
      "metadata": {
        "id": "6vN_xXflp7Ro"
      },
      "outputs": [],
      "source": [
        "!mkdir -p ~/.kaggle\n",
        "!touch ~/.kaggle/kaggle.json\n",
        "!chmod 600 ~/.kaggle/kaggle.json\n",
        "!echo '{\"username\":\"rohitawate\",\"key\":\"14a69194fa4cd4e37490796b1f37ff69\"}' > ~/.kaggle/kaggle.json"
      ]
    },
    {
      "cell_type": "code",
      "source": [
        "!kaggle datasets download -d nasirkhalid24/the-office-us-complete-dialoguetranscript"
      ],
      "metadata": {
        "colab": {
          "base_uri": "https://localhost:8080/"
        },
        "id": "M47CiWF9qTO2",
        "outputId": "4cb26760-28cd-4769-a8ae-1bf4f0c283f2"
      },
      "execution_count": null,
      "outputs": [
        {
          "output_type": "stream",
          "name": "stdout",
          "text": [
            "Downloading the-office-us-complete-dialoguetranscript.zip to /content\n",
            " 73% 1.00M/1.37M [00:00<00:00, 1.83MB/s]\n",
            "100% 1.37M/1.37M [00:00<00:00, 2.37MB/s]\n"
          ]
        }
      ]
    },
    {
      "cell_type": "code",
      "source": [
        "!ls"
      ],
      "metadata": {
        "colab": {
          "base_uri": "https://localhost:8080/"
        },
        "id": "IQTjR10Yqaer",
        "outputId": "5fe57750-066d-45f0-d4f2-9872c97f106c"
      },
      "execution_count": null,
      "outputs": [
        {
          "output_type": "stream",
          "name": "stdout",
          "text": [
            "sample_data  the-office-us-complete-dialoguetranscript.zip\n"
          ]
        }
      ]
    },
    {
      "cell_type": "code",
      "source": [
        "!unzip the-office-us-complete-dialoguetranscript.zip\n",
        "!ls"
      ],
      "metadata": {
        "colab": {
          "base_uri": "https://localhost:8080/"
        },
        "id": "9qMtUWGZqb-x",
        "outputId": "7ea7bc67-930a-449c-ebf3-dd0a895a30ae"
      },
      "execution_count": null,
      "outputs": [
        {
          "output_type": "stream",
          "name": "stdout",
          "text": [
            "Archive:  the-office-us-complete-dialoguetranscript.zip\n",
            "  inflating: The-Office-Lines-V4.csv  \n",
            "sample_data\t\t the-office-us-complete-dialoguetranscript.zip\n",
            "The-Office-Lines-V4.csv\n"
          ]
        }
      ]
    },
    {
      "cell_type": "code",
      "source": [
        "!mv The-Office-Lines-V4.csv data.csv"
      ],
      "metadata": {
        "id": "X46-ux3jqgDZ"
      },
      "execution_count": null,
      "outputs": []
    },
    {
      "cell_type": "markdown",
      "source": [
        "# EDA and Pre-processing"
      ],
      "metadata": {
        "id": "qgdAPJwprWRh"
      }
    },
    {
      "cell_type": "code",
      "source": [
        "import pandas as pd\n",
        "df = pd.read_csv(\"data.csv\")\n",
        "df.head()"
      ],
      "metadata": {
        "colab": {
          "base_uri": "https://localhost:8080/"
        },
        "id": "F9oR5mqtrYbJ",
        "outputId": "7355df85-5f13-4948-f831-190149fb272d"
      },
      "execution_count": null,
      "outputs": [
        {
          "output_type": "execute_result",
          "data": {
            "text/plain": [
              "   season  episode  title  scene  speaker  \\\n",
              "0       1        1  Pilot      1  Michael   \n",
              "1       1        1  Pilot      1      Jim   \n",
              "2       1        1  Pilot      1  Michael   \n",
              "3       1        1  Pilot      1      Jim   \n",
              "4       1        1  Pilot      1  Michael   \n",
              "\n",
              "                                                line Unnamed: 6  \n",
              "0  All right Jim. Your quarterlies look very good...        NaN  \n",
              "1         Oh, I told you. I couldn't close it. So...        NaN  \n",
              "2  So you've come to the master for guidance? Is ...        NaN  \n",
              "3         Actually, you called me in here, but yeah.        NaN  \n",
              "4    All right. Well, let me show you how it's done.        NaN  "
            ],
            "text/html": [
              "\n",
              "  <div id=\"df-c05fec15-d4ff-492d-9c6d-95d2ec2d52d6\">\n",
              "    <div class=\"colab-df-container\">\n",
              "      <div>\n",
              "<style scoped>\n",
              "    .dataframe tbody tr th:only-of-type {\n",
              "        vertical-align: middle;\n",
              "    }\n",
              "\n",
              "    .dataframe tbody tr th {\n",
              "        vertical-align: top;\n",
              "    }\n",
              "\n",
              "    .dataframe thead th {\n",
              "        text-align: right;\n",
              "    }\n",
              "</style>\n",
              "<table border=\"1\" class=\"dataframe\">\n",
              "  <thead>\n",
              "    <tr style=\"text-align: right;\">\n",
              "      <th></th>\n",
              "      <th>season</th>\n",
              "      <th>episode</th>\n",
              "      <th>title</th>\n",
              "      <th>scene</th>\n",
              "      <th>speaker</th>\n",
              "      <th>line</th>\n",
              "      <th>Unnamed: 6</th>\n",
              "    </tr>\n",
              "  </thead>\n",
              "  <tbody>\n",
              "    <tr>\n",
              "      <th>0</th>\n",
              "      <td>1</td>\n",
              "      <td>1</td>\n",
              "      <td>Pilot</td>\n",
              "      <td>1</td>\n",
              "      <td>Michael</td>\n",
              "      <td>All right Jim. Your quarterlies look very good...</td>\n",
              "      <td>NaN</td>\n",
              "    </tr>\n",
              "    <tr>\n",
              "      <th>1</th>\n",
              "      <td>1</td>\n",
              "      <td>1</td>\n",
              "      <td>Pilot</td>\n",
              "      <td>1</td>\n",
              "      <td>Jim</td>\n",
              "      <td>Oh, I told you. I couldn't close it. So...</td>\n",
              "      <td>NaN</td>\n",
              "    </tr>\n",
              "    <tr>\n",
              "      <th>2</th>\n",
              "      <td>1</td>\n",
              "      <td>1</td>\n",
              "      <td>Pilot</td>\n",
              "      <td>1</td>\n",
              "      <td>Michael</td>\n",
              "      <td>So you've come to the master for guidance? Is ...</td>\n",
              "      <td>NaN</td>\n",
              "    </tr>\n",
              "    <tr>\n",
              "      <th>3</th>\n",
              "      <td>1</td>\n",
              "      <td>1</td>\n",
              "      <td>Pilot</td>\n",
              "      <td>1</td>\n",
              "      <td>Jim</td>\n",
              "      <td>Actually, you called me in here, but yeah.</td>\n",
              "      <td>NaN</td>\n",
              "    </tr>\n",
              "    <tr>\n",
              "      <th>4</th>\n",
              "      <td>1</td>\n",
              "      <td>1</td>\n",
              "      <td>Pilot</td>\n",
              "      <td>1</td>\n",
              "      <td>Michael</td>\n",
              "      <td>All right. Well, let me show you how it's done.</td>\n",
              "      <td>NaN</td>\n",
              "    </tr>\n",
              "  </tbody>\n",
              "</table>\n",
              "</div>\n",
              "      <button class=\"colab-df-convert\" onclick=\"convertToInteractive('df-c05fec15-d4ff-492d-9c6d-95d2ec2d52d6')\"\n",
              "              title=\"Convert this dataframe to an interactive table.\"\n",
              "              style=\"display:none;\">\n",
              "        \n",
              "  <svg xmlns=\"http://www.w3.org/2000/svg\" height=\"24px\"viewBox=\"0 0 24 24\"\n",
              "       width=\"24px\">\n",
              "    <path d=\"M0 0h24v24H0V0z\" fill=\"none\"/>\n",
              "    <path d=\"M18.56 5.44l.94 2.06.94-2.06 2.06-.94-2.06-.94-.94-2.06-.94 2.06-2.06.94zm-11 1L8.5 8.5l.94-2.06 2.06-.94-2.06-.94L8.5 2.5l-.94 2.06-2.06.94zm10 10l.94 2.06.94-2.06 2.06-.94-2.06-.94-.94-2.06-.94 2.06-2.06.94z\"/><path d=\"M17.41 7.96l-1.37-1.37c-.4-.4-.92-.59-1.43-.59-.52 0-1.04.2-1.43.59L10.3 9.45l-7.72 7.72c-.78.78-.78 2.05 0 2.83L4 21.41c.39.39.9.59 1.41.59.51 0 1.02-.2 1.41-.59l7.78-7.78 2.81-2.81c.8-.78.8-2.07 0-2.86zM5.41 20L4 18.59l7.72-7.72 1.47 1.35L5.41 20z\"/>\n",
              "  </svg>\n",
              "      </button>\n",
              "      \n",
              "  <style>\n",
              "    .colab-df-container {\n",
              "      display:flex;\n",
              "      flex-wrap:wrap;\n",
              "      gap: 12px;\n",
              "    }\n",
              "\n",
              "    .colab-df-convert {\n",
              "      background-color: #E8F0FE;\n",
              "      border: none;\n",
              "      border-radius: 50%;\n",
              "      cursor: pointer;\n",
              "      display: none;\n",
              "      fill: #1967D2;\n",
              "      height: 32px;\n",
              "      padding: 0 0 0 0;\n",
              "      width: 32px;\n",
              "    }\n",
              "\n",
              "    .colab-df-convert:hover {\n",
              "      background-color: #E2EBFA;\n",
              "      box-shadow: 0px 1px 2px rgba(60, 64, 67, 0.3), 0px 1px 3px 1px rgba(60, 64, 67, 0.15);\n",
              "      fill: #174EA6;\n",
              "    }\n",
              "\n",
              "    [theme=dark] .colab-df-convert {\n",
              "      background-color: #3B4455;\n",
              "      fill: #D2E3FC;\n",
              "    }\n",
              "\n",
              "    [theme=dark] .colab-df-convert:hover {\n",
              "      background-color: #434B5C;\n",
              "      box-shadow: 0px 1px 3px 1px rgba(0, 0, 0, 0.15);\n",
              "      filter: drop-shadow(0px 1px 2px rgba(0, 0, 0, 0.3));\n",
              "      fill: #FFFFFF;\n",
              "    }\n",
              "  </style>\n",
              "\n",
              "      <script>\n",
              "        const buttonEl =\n",
              "          document.querySelector('#df-c05fec15-d4ff-492d-9c6d-95d2ec2d52d6 button.colab-df-convert');\n",
              "        buttonEl.style.display =\n",
              "          google.colab.kernel.accessAllowed ? 'block' : 'none';\n",
              "\n",
              "        async function convertToInteractive(key) {\n",
              "          const element = document.querySelector('#df-c05fec15-d4ff-492d-9c6d-95d2ec2d52d6');\n",
              "          const dataTable =\n",
              "            await google.colab.kernel.invokeFunction('convertToInteractive',\n",
              "                                                     [key], {});\n",
              "          if (!dataTable) return;\n",
              "\n",
              "          const docLinkHtml = 'Like what you see? Visit the ' +\n",
              "            '<a target=\"_blank\" href=https://colab.research.google.com/notebooks/data_table.ipynb>data table notebook</a>'\n",
              "            + ' to learn more about interactive tables.';\n",
              "          element.innerHTML = '';\n",
              "          dataTable['output_type'] = 'display_data';\n",
              "          await google.colab.output.renderOutput(dataTable, element);\n",
              "          const docLink = document.createElement('div');\n",
              "          docLink.innerHTML = docLinkHtml;\n",
              "          element.appendChild(docLink);\n",
              "        }\n",
              "      </script>\n",
              "    </div>\n",
              "  </div>\n",
              "  "
            ]
          },
          "metadata": {},
          "execution_count": 6
        }
      ]
    },
    {
      "cell_type": "markdown",
      "source": [
        "### Drop unnecessary columns"
      ],
      "metadata": {
        "id": "onVliD2HsPfj"
      }
    },
    {
      "cell_type": "code",
      "source": [
        "df = df.drop(columns=[\"season\", \"episode\", \"Unnamed: 6\"], axis=1)\n",
        "df.head()"
      ],
      "metadata": {
        "colab": {
          "base_uri": "https://localhost:8080/"
        },
        "id": "KaxBgSYmreZq",
        "outputId": "f7ce7b0f-9115-4050-8b0e-253b9e7795e4"
      },
      "execution_count": null,
      "outputs": [
        {
          "output_type": "execute_result",
          "data": {
            "text/plain": [
              "   title  scene  speaker                                               line\n",
              "0  Pilot      1  Michael  All right Jim. Your quarterlies look very good...\n",
              "1  Pilot      1      Jim         Oh, I told you. I couldn't close it. So...\n",
              "2  Pilot      1  Michael  So you've come to the master for guidance? Is ...\n",
              "3  Pilot      1      Jim         Actually, you called me in here, but yeah.\n",
              "4  Pilot      1  Michael    All right. Well, let me show you how it's done."
            ],
            "text/html": [
              "\n",
              "  <div id=\"df-c2f75bb0-51c2-40e3-aed2-885208ff9024\">\n",
              "    <div class=\"colab-df-container\">\n",
              "      <div>\n",
              "<style scoped>\n",
              "    .dataframe tbody tr th:only-of-type {\n",
              "        vertical-align: middle;\n",
              "    }\n",
              "\n",
              "    .dataframe tbody tr th {\n",
              "        vertical-align: top;\n",
              "    }\n",
              "\n",
              "    .dataframe thead th {\n",
              "        text-align: right;\n",
              "    }\n",
              "</style>\n",
              "<table border=\"1\" class=\"dataframe\">\n",
              "  <thead>\n",
              "    <tr style=\"text-align: right;\">\n",
              "      <th></th>\n",
              "      <th>title</th>\n",
              "      <th>scene</th>\n",
              "      <th>speaker</th>\n",
              "      <th>line</th>\n",
              "    </tr>\n",
              "  </thead>\n",
              "  <tbody>\n",
              "    <tr>\n",
              "      <th>0</th>\n",
              "      <td>Pilot</td>\n",
              "      <td>1</td>\n",
              "      <td>Michael</td>\n",
              "      <td>All right Jim. Your quarterlies look very good...</td>\n",
              "    </tr>\n",
              "    <tr>\n",
              "      <th>1</th>\n",
              "      <td>Pilot</td>\n",
              "      <td>1</td>\n",
              "      <td>Jim</td>\n",
              "      <td>Oh, I told you. I couldn't close it. So...</td>\n",
              "    </tr>\n",
              "    <tr>\n",
              "      <th>2</th>\n",
              "      <td>Pilot</td>\n",
              "      <td>1</td>\n",
              "      <td>Michael</td>\n",
              "      <td>So you've come to the master for guidance? Is ...</td>\n",
              "    </tr>\n",
              "    <tr>\n",
              "      <th>3</th>\n",
              "      <td>Pilot</td>\n",
              "      <td>1</td>\n",
              "      <td>Jim</td>\n",
              "      <td>Actually, you called me in here, but yeah.</td>\n",
              "    </tr>\n",
              "    <tr>\n",
              "      <th>4</th>\n",
              "      <td>Pilot</td>\n",
              "      <td>1</td>\n",
              "      <td>Michael</td>\n",
              "      <td>All right. Well, let me show you how it's done.</td>\n",
              "    </tr>\n",
              "  </tbody>\n",
              "</table>\n",
              "</div>\n",
              "      <button class=\"colab-df-convert\" onclick=\"convertToInteractive('df-c2f75bb0-51c2-40e3-aed2-885208ff9024')\"\n",
              "              title=\"Convert this dataframe to an interactive table.\"\n",
              "              style=\"display:none;\">\n",
              "        \n",
              "  <svg xmlns=\"http://www.w3.org/2000/svg\" height=\"24px\"viewBox=\"0 0 24 24\"\n",
              "       width=\"24px\">\n",
              "    <path d=\"M0 0h24v24H0V0z\" fill=\"none\"/>\n",
              "    <path d=\"M18.56 5.44l.94 2.06.94-2.06 2.06-.94-2.06-.94-.94-2.06-.94 2.06-2.06.94zm-11 1L8.5 8.5l.94-2.06 2.06-.94-2.06-.94L8.5 2.5l-.94 2.06-2.06.94zm10 10l.94 2.06.94-2.06 2.06-.94-2.06-.94-.94-2.06-.94 2.06-2.06.94z\"/><path d=\"M17.41 7.96l-1.37-1.37c-.4-.4-.92-.59-1.43-.59-.52 0-1.04.2-1.43.59L10.3 9.45l-7.72 7.72c-.78.78-.78 2.05 0 2.83L4 21.41c.39.39.9.59 1.41.59.51 0 1.02-.2 1.41-.59l7.78-7.78 2.81-2.81c.8-.78.8-2.07 0-2.86zM5.41 20L4 18.59l7.72-7.72 1.47 1.35L5.41 20z\"/>\n",
              "  </svg>\n",
              "      </button>\n",
              "      \n",
              "  <style>\n",
              "    .colab-df-container {\n",
              "      display:flex;\n",
              "      flex-wrap:wrap;\n",
              "      gap: 12px;\n",
              "    }\n",
              "\n",
              "    .colab-df-convert {\n",
              "      background-color: #E8F0FE;\n",
              "      border: none;\n",
              "      border-radius: 50%;\n",
              "      cursor: pointer;\n",
              "      display: none;\n",
              "      fill: #1967D2;\n",
              "      height: 32px;\n",
              "      padding: 0 0 0 0;\n",
              "      width: 32px;\n",
              "    }\n",
              "\n",
              "    .colab-df-convert:hover {\n",
              "      background-color: #E2EBFA;\n",
              "      box-shadow: 0px 1px 2px rgba(60, 64, 67, 0.3), 0px 1px 3px 1px rgba(60, 64, 67, 0.15);\n",
              "      fill: #174EA6;\n",
              "    }\n",
              "\n",
              "    [theme=dark] .colab-df-convert {\n",
              "      background-color: #3B4455;\n",
              "      fill: #D2E3FC;\n",
              "    }\n",
              "\n",
              "    [theme=dark] .colab-df-convert:hover {\n",
              "      background-color: #434B5C;\n",
              "      box-shadow: 0px 1px 3px 1px rgba(0, 0, 0, 0.15);\n",
              "      filter: drop-shadow(0px 1px 2px rgba(0, 0, 0, 0.3));\n",
              "      fill: #FFFFFF;\n",
              "    }\n",
              "  </style>\n",
              "\n",
              "      <script>\n",
              "        const buttonEl =\n",
              "          document.querySelector('#df-c2f75bb0-51c2-40e3-aed2-885208ff9024 button.colab-df-convert');\n",
              "        buttonEl.style.display =\n",
              "          google.colab.kernel.accessAllowed ? 'block' : 'none';\n",
              "\n",
              "        async function convertToInteractive(key) {\n",
              "          const element = document.querySelector('#df-c2f75bb0-51c2-40e3-aed2-885208ff9024');\n",
              "          const dataTable =\n",
              "            await google.colab.kernel.invokeFunction('convertToInteractive',\n",
              "                                                     [key], {});\n",
              "          if (!dataTable) return;\n",
              "\n",
              "          const docLinkHtml = 'Like what you see? Visit the ' +\n",
              "            '<a target=\"_blank\" href=https://colab.research.google.com/notebooks/data_table.ipynb>data table notebook</a>'\n",
              "            + ' to learn more about interactive tables.';\n",
              "          element.innerHTML = '';\n",
              "          dataTable['output_type'] = 'display_data';\n",
              "          await google.colab.output.renderOutput(dataTable, element);\n",
              "          const docLink = document.createElement('div');\n",
              "          docLink.innerHTML = docLinkHtml;\n",
              "          element.appendChild(docLink);\n",
              "        }\n",
              "      </script>\n",
              "    </div>\n",
              "  </div>\n",
              "  "
            ]
          },
          "metadata": {},
          "execution_count": 7
        }
      ]
    },
    {
      "cell_type": "markdown",
      "source": [
        "## Sanitize speaker names\n",
        "\n",
        "### Collapse \"Michael: \" into \"Michael\" and similar examples\n",
        "\n",
        "Note: We decided against doing this because the lines corresponding to these\n",
        "speaker names with colons are poor quality as can be observed below. This is likely because the dataset\n",
        "is compiled from a variety of sources.\n",
        "\n",
        "No need to explicitly drop these, we filter out the top 40 characters in terms of number of lines and these ones don't make that cut either way.\n"
      ],
      "metadata": {
        "id": "CVnt0lWBs47i"
      }
    },
    {
      "cell_type": "code",
      "source": [
        "df[df[\"speaker\"] == \"Michael: \"]"
      ],
      "metadata": {
        "colab": {
          "base_uri": "https://localhost:8080/"
        },
        "id": "T0xITrg4tBxx",
        "outputId": "dc0a2639-07c8-4f2d-f97e-ce63a8d334b1"
      },
      "execution_count": null,
      "outputs": [
        {
          "output_type": "execute_result",
          "data": {
            "text/plain": [
              "            title  scene    speaker  \\\n",
              "31793  Happy Hour   4846  Michael:    \n",
              "31795  Happy Hour   4846  Michael:    \n",
              "31797  Happy Hour   4846  Michael:    \n",
              "31799  Happy Hour   4846  Michael:    \n",
              "31801  Happy Hour   4846  Michael:    \n",
              "...           ...    ...        ...   \n",
              "32088  Happy Hour   4888  Michael:    \n",
              "32090  Happy Hour   4888  Michael:    \n",
              "32102  Happy Hour   4890  Michael:    \n",
              "32145  Happy Hour   4896  Michael:    \n",
              "32148  Happy Hour   4896  Michael:    \n",
              "\n",
              "                                                    line  \n",
              "31793                                    w many is that?  \n",
              "31795                                  unt the last one.  \n",
              "31797                                      , new record!  \n",
              "31799                           , what did you do today?  \n",
              "31801  , yeah, sitting on your big fat butt. Alright,...  \n",
              "...                                                  ...  \n",
              "32088                                              is I.  \n",
              "32090                                       , hey guys.   \n",
              "32102                         y, Julie! You having fun?   \n",
              "32145  lperts, wait up. Oh, what a great night. Got t...  \n",
              "32148  think I did. But I can't take all of the credi...  \n",
              "\n",
              "[74 rows x 4 columns]"
            ],
            "text/html": [
              "\n",
              "  <div id=\"df-e8b6fd11-7f04-486a-b0e5-bd9ffd6b4823\">\n",
              "    <div class=\"colab-df-container\">\n",
              "      <div>\n",
              "<style scoped>\n",
              "    .dataframe tbody tr th:only-of-type {\n",
              "        vertical-align: middle;\n",
              "    }\n",
              "\n",
              "    .dataframe tbody tr th {\n",
              "        vertical-align: top;\n",
              "    }\n",
              "\n",
              "    .dataframe thead th {\n",
              "        text-align: right;\n",
              "    }\n",
              "</style>\n",
              "<table border=\"1\" class=\"dataframe\">\n",
              "  <thead>\n",
              "    <tr style=\"text-align: right;\">\n",
              "      <th></th>\n",
              "      <th>title</th>\n",
              "      <th>scene</th>\n",
              "      <th>speaker</th>\n",
              "      <th>line</th>\n",
              "    </tr>\n",
              "  </thead>\n",
              "  <tbody>\n",
              "    <tr>\n",
              "      <th>31793</th>\n",
              "      <td>Happy Hour</td>\n",
              "      <td>4846</td>\n",
              "      <td>Michael:</td>\n",
              "      <td>w many is that?</td>\n",
              "    </tr>\n",
              "    <tr>\n",
              "      <th>31795</th>\n",
              "      <td>Happy Hour</td>\n",
              "      <td>4846</td>\n",
              "      <td>Michael:</td>\n",
              "      <td>unt the last one.</td>\n",
              "    </tr>\n",
              "    <tr>\n",
              "      <th>31797</th>\n",
              "      <td>Happy Hour</td>\n",
              "      <td>4846</td>\n",
              "      <td>Michael:</td>\n",
              "      <td>, new record!</td>\n",
              "    </tr>\n",
              "    <tr>\n",
              "      <th>31799</th>\n",
              "      <td>Happy Hour</td>\n",
              "      <td>4846</td>\n",
              "      <td>Michael:</td>\n",
              "      <td>, what did you do today?</td>\n",
              "    </tr>\n",
              "    <tr>\n",
              "      <th>31801</th>\n",
              "      <td>Happy Hour</td>\n",
              "      <td>4846</td>\n",
              "      <td>Michael:</td>\n",
              "      <td>, yeah, sitting on your big fat butt. Alright,...</td>\n",
              "    </tr>\n",
              "    <tr>\n",
              "      <th>...</th>\n",
              "      <td>...</td>\n",
              "      <td>...</td>\n",
              "      <td>...</td>\n",
              "      <td>...</td>\n",
              "    </tr>\n",
              "    <tr>\n",
              "      <th>32088</th>\n",
              "      <td>Happy Hour</td>\n",
              "      <td>4888</td>\n",
              "      <td>Michael:</td>\n",
              "      <td>is I.</td>\n",
              "    </tr>\n",
              "    <tr>\n",
              "      <th>32090</th>\n",
              "      <td>Happy Hour</td>\n",
              "      <td>4888</td>\n",
              "      <td>Michael:</td>\n",
              "      <td>, hey guys.</td>\n",
              "    </tr>\n",
              "    <tr>\n",
              "      <th>32102</th>\n",
              "      <td>Happy Hour</td>\n",
              "      <td>4890</td>\n",
              "      <td>Michael:</td>\n",
              "      <td>y, Julie! You having fun?</td>\n",
              "    </tr>\n",
              "    <tr>\n",
              "      <th>32145</th>\n",
              "      <td>Happy Hour</td>\n",
              "      <td>4896</td>\n",
              "      <td>Michael:</td>\n",
              "      <td>lperts, wait up. Oh, what a great night. Got t...</td>\n",
              "    </tr>\n",
              "    <tr>\n",
              "      <th>32148</th>\n",
              "      <td>Happy Hour</td>\n",
              "      <td>4896</td>\n",
              "      <td>Michael:</td>\n",
              "      <td>think I did. But I can't take all of the credi...</td>\n",
              "    </tr>\n",
              "  </tbody>\n",
              "</table>\n",
              "<p>74 rows × 4 columns</p>\n",
              "</div>\n",
              "      <button class=\"colab-df-convert\" onclick=\"convertToInteractive('df-e8b6fd11-7f04-486a-b0e5-bd9ffd6b4823')\"\n",
              "              title=\"Convert this dataframe to an interactive table.\"\n",
              "              style=\"display:none;\">\n",
              "        \n",
              "  <svg xmlns=\"http://www.w3.org/2000/svg\" height=\"24px\"viewBox=\"0 0 24 24\"\n",
              "       width=\"24px\">\n",
              "    <path d=\"M0 0h24v24H0V0z\" fill=\"none\"/>\n",
              "    <path d=\"M18.56 5.44l.94 2.06.94-2.06 2.06-.94-2.06-.94-.94-2.06-.94 2.06-2.06.94zm-11 1L8.5 8.5l.94-2.06 2.06-.94-2.06-.94L8.5 2.5l-.94 2.06-2.06.94zm10 10l.94 2.06.94-2.06 2.06-.94-2.06-.94-.94-2.06-.94 2.06-2.06.94z\"/><path d=\"M17.41 7.96l-1.37-1.37c-.4-.4-.92-.59-1.43-.59-.52 0-1.04.2-1.43.59L10.3 9.45l-7.72 7.72c-.78.78-.78 2.05 0 2.83L4 21.41c.39.39.9.59 1.41.59.51 0 1.02-.2 1.41-.59l7.78-7.78 2.81-2.81c.8-.78.8-2.07 0-2.86zM5.41 20L4 18.59l7.72-7.72 1.47 1.35L5.41 20z\"/>\n",
              "  </svg>\n",
              "      </button>\n",
              "      \n",
              "  <style>\n",
              "    .colab-df-container {\n",
              "      display:flex;\n",
              "      flex-wrap:wrap;\n",
              "      gap: 12px;\n",
              "    }\n",
              "\n",
              "    .colab-df-convert {\n",
              "      background-color: #E8F0FE;\n",
              "      border: none;\n",
              "      border-radius: 50%;\n",
              "      cursor: pointer;\n",
              "      display: none;\n",
              "      fill: #1967D2;\n",
              "      height: 32px;\n",
              "      padding: 0 0 0 0;\n",
              "      width: 32px;\n",
              "    }\n",
              "\n",
              "    .colab-df-convert:hover {\n",
              "      background-color: #E2EBFA;\n",
              "      box-shadow: 0px 1px 2px rgba(60, 64, 67, 0.3), 0px 1px 3px 1px rgba(60, 64, 67, 0.15);\n",
              "      fill: #174EA6;\n",
              "    }\n",
              "\n",
              "    [theme=dark] .colab-df-convert {\n",
              "      background-color: #3B4455;\n",
              "      fill: #D2E3FC;\n",
              "    }\n",
              "\n",
              "    [theme=dark] .colab-df-convert:hover {\n",
              "      background-color: #434B5C;\n",
              "      box-shadow: 0px 1px 3px 1px rgba(0, 0, 0, 0.15);\n",
              "      filter: drop-shadow(0px 1px 2px rgba(0, 0, 0, 0.3));\n",
              "      fill: #FFFFFF;\n",
              "    }\n",
              "  </style>\n",
              "\n",
              "      <script>\n",
              "        const buttonEl =\n",
              "          document.querySelector('#df-e8b6fd11-7f04-486a-b0e5-bd9ffd6b4823 button.colab-df-convert');\n",
              "        buttonEl.style.display =\n",
              "          google.colab.kernel.accessAllowed ? 'block' : 'none';\n",
              "\n",
              "        async function convertToInteractive(key) {\n",
              "          const element = document.querySelector('#df-e8b6fd11-7f04-486a-b0e5-bd9ffd6b4823');\n",
              "          const dataTable =\n",
              "            await google.colab.kernel.invokeFunction('convertToInteractive',\n",
              "                                                     [key], {});\n",
              "          if (!dataTable) return;\n",
              "\n",
              "          const docLinkHtml = 'Like what you see? Visit the ' +\n",
              "            '<a target=\"_blank\" href=https://colab.research.google.com/notebooks/data_table.ipynb>data table notebook</a>'\n",
              "            + ' to learn more about interactive tables.';\n",
              "          element.innerHTML = '';\n",
              "          dataTable['output_type'] = 'display_data';\n",
              "          await google.colab.output.renderOutput(dataTable, element);\n",
              "          const docLink = document.createElement('div');\n",
              "          docLink.innerHTML = docLinkHtml;\n",
              "          element.appendChild(docLink);\n",
              "        }\n",
              "      </script>\n",
              "    </div>\n",
              "  </div>\n",
              "  "
            ]
          },
          "metadata": {},
          "execution_count": 8
        }
      ]
    },
    {
      "cell_type": "markdown",
      "source": [
        "### Correct typos: Deangelo > DeAngelo"
      ],
      "metadata": {
        "id": "fwljeygDt80S"
      }
    },
    {
      "cell_type": "code",
      "source": [
        "typos = {\n",
        "    \"Deangelo\": \"DeAngelo\"\n",
        "}\n",
        "\n",
        "df[\"speaker\"] = df[\"speaker\"].replace(typos, regex=True)"
      ],
      "metadata": {
        "id": "SwVCdk_Cut4H"
      },
      "execution_count": null,
      "outputs": []
    },
    {
      "cell_type": "markdown",
      "source": [
        "### Drop lines from characters that don't fall in the top 40 in terms of number of lines"
      ],
      "metadata": {
        "id": "F5b_mr13sRc1"
      }
    },
    {
      "cell_type": "code",
      "source": [
        "TOP_COUNT = 40\n",
        "\n",
        "top_speakers = df.value_counts(\"speaker\").head(TOP_COUNT).keys()"
      ],
      "metadata": {
        "id": "KTY77Ma6sKBS"
      },
      "execution_count": null,
      "outputs": []
    },
    {
      "cell_type": "code",
      "source": [
        "df = df[df[\"speaker\"].isin(top_speakers)]\n",
        "df = df.reset_index(drop=True)\n",
        "df.info()"
      ],
      "metadata": {
        "colab": {
          "base_uri": "https://localhost:8080/"
        },
        "id": "yf6nywb-wshe",
        "outputId": "3304a138-4817-4764-a34f-c8a9646c2366"
      },
      "execution_count": null,
      "outputs": [
        {
          "output_type": "stream",
          "name": "stdout",
          "text": [
            "<class 'pandas.core.frame.DataFrame'>\n",
            "RangeIndex: 50300 entries, 0 to 50299\n",
            "Data columns (total 4 columns):\n",
            " #   Column   Non-Null Count  Dtype \n",
            "---  ------   --------------  ----- \n",
            " 0   title    50300 non-null  object\n",
            " 1   scene    50300 non-null  int64 \n",
            " 2   speaker  50300 non-null  object\n",
            " 3   line     50300 non-null  object\n",
            "dtypes: int64(1), object(3)\n",
            "memory usage: 1.5+ MB\n"
          ]
        }
      ]
    },
    {
      "cell_type": "markdown",
      "source": [
        "### Save new CSV to disk"
      ],
      "metadata": {
        "id": "Z-YWl-48x4hT"
      }
    },
    {
      "cell_type": "code",
      "source": [
        "with open(\"processed_data.csv\", \"w\") as out_fd:\n",
        "    df.to_csv(out_fd, index=False)"
      ],
      "metadata": {
        "id": "EHggPsoNxpmB"
      },
      "execution_count": null,
      "outputs": []
    },
    {
      "cell_type": "code",
      "source": [
        "!ls -lh"
      ],
      "metadata": {
        "colab": {
          "base_uri": "https://localhost:8080/"
        },
        "id": "E1mudIXMyMNs",
        "outputId": "72199a50-329f-40b3-883d-39dac92fe9c7"
      },
      "execution_count": null,
      "outputs": [
        {
          "output_type": "stream",
          "name": "stdout",
          "text": [
            "total 10M\n",
            "-rw-r--r-- 1 root root 4.6M Jan 18  2021 data.csv\n",
            "-rw-r--r-- 1 root root 4.0M Apr 15 22:27 processed_data.csv\n",
            "drwxr-xr-x 1 root root 4.0K Apr 13 13:30 sample_data\n",
            "-rw-r--r-- 1 root root 1.4M Apr 15 22:27 the-office-us-complete-dialoguetranscript.zip\n"
          ]
        }
      ]
    },
    {
      "cell_type": "code",
      "source": [
        "!head -10 processed_data.csv"
      ],
      "metadata": {
        "colab": {
          "base_uri": "https://localhost:8080/"
        },
        "id": "MnopHFxwz_e9",
        "outputId": "50d9b7f8-f789-433b-9386-f2d02645888f"
      },
      "execution_count": null,
      "outputs": [
        {
          "output_type": "stream",
          "name": "stdout",
          "text": [
            "title,scene,speaker,line\n",
            "Pilot,1,Michael,All right Jim. Your quarterlies look very good. How are things at the library?\n",
            "Pilot,1,Jim,\"Oh, I told you. I couldn't close it. So...\"\n",
            "Pilot,1,Michael,\"So you've come to the master for guidance? Is this what you're saying, grasshopper?\"\n",
            "Pilot,1,Jim,\"Actually, you called me in here, but yeah.\"\n",
            "Pilot,1,Michael,\"All right. Well, let me show you how it's done.\"\n",
            "Pilot,2,Michael,\" Yes, I'd like to speak to your office manager, please. Yes, hello. This is Michael Scott. I am the Regional Manager of Dunder Mifflin Paper Products. Just wanted to talk to you manager-a-manger.  All right. Done deal. Thank you very much, sir. You're a gentleman and a scholar. Oh, I'm sorry. OK. I'm sorry. My mistake.  That was a woman I was talking to, so... She had a very low voice. Probably a smoker, so...  So that's the way it's done.\"\n",
            "Pilot,3,Michael,\"I've, uh, I've been at Dunder Mifflin for 12 years, the last four as Regional Manager. If you want to come through here... See we have the entire floor. So this is my kingdom, as far as the eye can see. This is our receptionist, Pam. Pam! Pam-Pam! Pam Beesly. Pam has been with us for... forever. Right, Pam?\"\n",
            "Pilot,3,Pam,Well. I don't know.\n",
            "Pilot,3,Michael,\"If you think she's cute now, you should have seen her a couple of years ago. \"\n"
          ]
        }
      ]
    },
    {
      "cell_type": "markdown",
      "source": [
        "# Convert .csv to a textual script for tokenization"
      ],
      "metadata": {
        "id": "kGznrYjyqo_J"
      }
    },
    {
      "cell_type": "markdown",
      "source": [
        "### Meta tokens for the script text"
      ],
      "metadata": {
        "id": "c4CZmtAW0ee7"
      }
    },
    {
      "cell_type": "code",
      "source": [
        "SCENE_START = \"<scene_start>\"\n",
        "SCENE_END = \"<scene_end>\"\n",
        "\n",
        "SPEAKER_START = \"<speaker_start>\"\n",
        "SPEAKER_END = \"<speaker_end>\"\n",
        "\n",
        "LINE_START = \"<line_start>\"\n",
        "LINE_END = \"<line_end>\"\n",
        "\n",
        "SENT_START = \"<sent_start>\"\n",
        "SENT_END = \"<sent_end>\"\n",
        "\n",
        "NEWLINE = \"<NEWLINE>\""
      ],
      "metadata": {
        "id": "8AecOdW40Rnz"
      },
      "execution_count": null,
      "outputs": []
    },
    {
      "cell_type": "code",
      "source": [
        "import csv\n",
        "import nltk\n",
        "import string\n",
        "from nltk.tokenize import sent_tokenize\n",
        "\n",
        "nltk.download('punkt')\n",
        "\n",
        "# Used to remove punctuation from strings\n",
        "translator = str.maketrans('', '', string.punctuation)\n",
        "\n",
        "with open(\"script.txt\", \"w\") as out_fd:\n",
        "    out_fd.write(SCENE_START + \" \")\n",
        "\n",
        "    with open(\"processed_data.csv\") as in_fd:\n",
        "        csv_reader = csv.DictReader(in_fd)\n",
        "\n",
        "        scene = 1\n",
        "        for row in csv_reader:\n",
        "            if int(row[\"scene\"]) > scene:\n",
        "                scene = int(row[\"scene\"])\n",
        "                out_fd.write(SCENE_END + \" \" + SCENE_START + \" \")\n",
        "\n",
        "            out_fd.write(f\"{SPEAKER_START} {row['speaker']} {SPEAKER_END} {LINE_START} \")\n",
        "            \n",
        "            # A line may have multiple sentences\n",
        "            sentences = sent_tokenize(row['line'])\n",
        "            for sentence in sentences:\n",
        "                sentence = sentence.translate(translator)\n",
        "                out_fd.write(f\"{SENT_START} {sentence} {SENT_END} \")\n",
        "\n",
        "            out_fd.write(LINE_END + \" \")\n",
        "\n",
        "    out_fd.write(SCENE_END + \" \")"
      ],
      "metadata": {
        "colab": {
          "base_uri": "https://localhost:8080/"
        },
        "id": "nhwwQDiLqnyg",
        "outputId": "febd43b0-a1af-4743-e5c9-04e97e739c90"
      },
      "execution_count": null,
      "outputs": [
        {
          "output_type": "stream",
          "name": "stderr",
          "text": [
            "[nltk_data] Downloading package punkt to /root/nltk_data...\n",
            "[nltk_data]   Unzipping tokenizers/punkt.zip.\n"
          ]
        }
      ]
    },
    {
      "cell_type": "code",
      "source": [
        "# Checking the first 500 characters of the file\n",
        "!head -c500 script.txt"
      ],
      "metadata": {
        "colab": {
          "base_uri": "https://localhost:8080/"
        },
        "id": "qFFLJnvf12uP",
        "outputId": "979cbc52-67dd-48f6-e47b-13528b1c4f52"
      },
      "execution_count": null,
      "outputs": [
        {
          "output_type": "stream",
          "name": "stdout",
          "text": [
            "<scene_start> <speaker_start> Michael <speaker_end> <line_start> <sent_start> All right Jim <sent_end> <sent_start> Your quarterlies look very good <sent_end> <sent_start> How are things at the library <sent_end> <line_end> <speaker_start> Jim <speaker_end> <line_start> <sent_start> Oh I told you <sent_end> <sent_start> I couldnt close it <sent_end> <sent_start> So <sent_end> <line_end> <speaker_start> Michael <speaker_end> <line_start> <sent_start> So youve come to the master for guidance <sent"
          ]
        }
      ]
    },
    {
      "cell_type": "code",
      "source": [
        "import csv\n",
        "import nltk\n",
        "import string\n",
        "from nltk.tokenize import sent_tokenize\n",
        "\n",
        "nltk.download('punkt')\n",
        "\n",
        "# Used to remove punctuation from strings\n",
        "translator = str.maketrans('', '', string.punctuation)\n",
        "\n",
        "with open(\"script_simple.txt\", \"w\") as out_fd:\n",
        "    with open(\"processed_data.csv\") as in_fd:\n",
        "        csv_reader = csv.DictReader(in_fd)\n",
        "\n",
        "        scene = 1\n",
        "        for row in csv_reader:\n",
        "            if int(row[\"scene\"]) > scene:\n",
        "                scene = int(row[\"scene\"])\n",
        "\n",
        "            out_fd.write(f\"{row['speaker']}: {row['line']}\\n\")"
      ],
      "metadata": {
        "colab": {
          "base_uri": "https://localhost:8080/"
        },
        "id": "NUBa82fvTiyz",
        "outputId": "cdc72f02-ac5d-49f0-93fa-fdb694750143"
      },
      "execution_count": null,
      "outputs": [
        {
          "output_type": "stream",
          "name": "stderr",
          "text": [
            "[nltk_data] Downloading package punkt to /root/nltk_data...\n",
            "[nltk_data]   Package punkt is already up-to-date!\n"
          ]
        }
      ]
    },
    {
      "cell_type": "code",
      "source": [
        "# Checking the first 500 characters of the file\n",
        "!head -c500 script_simple.txt"
      ],
      "metadata": {
        "colab": {
          "base_uri": "https://localhost:8080/"
        },
        "id": "pfIXpWE4T-M9",
        "outputId": "cd5971b0-a063-495d-a8d9-28419d36637d"
      },
      "execution_count": null,
      "outputs": [
        {
          "output_type": "stream",
          "name": "stdout",
          "text": [
            "Michael: All right Jim. Your quarterlies look very good. How are things at the library?\n",
            "Jim: Oh, I told you. I couldn't close it. So...\n",
            "Michael: So you've come to the master for guidance? Is this what you're saying, grasshopper?\n",
            "Jim: Actually, you called me in here, but yeah.\n",
            "Michael: All right. Well, let me show you how it's done.\n",
            "Michael:  Yes, I'd like to speak to your office manager, please. Yes, hello. This is Michael Scott. I am the Regional Manager of Dunder Mifflin Paper Products. Just w"
          ]
        }
      ]
    },
    {
      "cell_type": "markdown",
      "source": [
        "# Train word embedding model"
      ],
      "metadata": {
        "id": "1VE-OEAW21FK"
      }
    },
    {
      "cell_type": "code",
      "source": [
        "from gensim.models import Word2Vec"
      ],
      "metadata": {
        "id": "usRJMUF0GyKa"
      },
      "execution_count": null,
      "outputs": []
    },
    {
      "cell_type": "code",
      "source": [
        "# Load the training script\n",
        "filename = \"script.txt\"\n",
        "raw_text = open(filename, \"r\").read()"
      ],
      "metadata": {
        "id": "z2rn6aH5AEhV"
      },
      "execution_count": null,
      "outputs": []
    },
    {
      "cell_type": "markdown",
      "source": [
        "### Separate punctuation from words"
      ],
      "metadata": {
        "id": "fPlqju33bzpF"
      }
    },
    {
      "cell_type": "code",
      "source": [
        "PUNCTUATIONS = set(['.', '[', ']', '(', ')', ';', ':', \"'\", '/', '\"', ',', '?', '*', '!', '-', '$', '%', '&'])\n",
        "\n",
        "for punct in PUNCTUATIONS:\n",
        "    raw_text = raw_text.replace(punct, f\" {punct} \")\n",
        "\n",
        "# Keras' tokenizer gets rid of \\n\n",
        "raw_text = raw_text.replace(\"\\n\", f\" {NEWLINE} \")"
      ],
      "metadata": {
        "id": "bukwI7RMb209"
      },
      "execution_count": null,
      "outputs": []
    },
    {
      "cell_type": "code",
      "source": [
        "raw_text[:120]"
      ],
      "metadata": {
        "colab": {
          "base_uri": "https://localhost:8080/",
          "height": 35
        },
        "id": "w_0KhAkPcK4R",
        "outputId": "99770b7a-57eb-48ed-82a1-6b54687b06ae"
      },
      "execution_count": null,
      "outputs": [
        {
          "output_type": "execute_result",
          "data": {
            "text/plain": [
              "'<scene_start> <speaker_start> Michael <speaker_end> <line_start> <sent_start> All right Jim <sent_end> <sent_start> Your'"
            ],
            "application/vnd.google.colaboratory.intrinsic+json": {
              "type": "string"
            }
          },
          "metadata": {},
          "execution_count": 23
        }
      ]
    },
    {
      "cell_type": "code",
      "source": [
        "# Convert all tokens to lower-case\n",
        "tokens = raw_text.split()\n",
        "tokens = [token.lower() for token in tokens]"
      ],
      "metadata": {
        "id": "GVj-NolvcfK5"
      },
      "execution_count": null,
      "outputs": []
    },
    {
      "cell_type": "code",
      "source": [
        "tokens[:20]"
      ],
      "metadata": {
        "colab": {
          "base_uri": "https://localhost:8080/"
        },
        "id": "TRqvdrmcbLfj",
        "outputId": "175d1273-13f7-4bea-e8ef-f3fdf0098e56"
      },
      "execution_count": null,
      "outputs": [
        {
          "output_type": "execute_result",
          "data": {
            "text/plain": [
              "['<scene_start>',\n",
              " '<speaker_start>',\n",
              " 'michael',\n",
              " '<speaker_end>',\n",
              " '<line_start>',\n",
              " '<sent_start>',\n",
              " 'all',\n",
              " 'right',\n",
              " 'jim',\n",
              " '<sent_end>',\n",
              " '<sent_start>',\n",
              " 'your',\n",
              " 'quarterlies',\n",
              " 'look',\n",
              " 'very',\n",
              " 'good',\n",
              " '<sent_end>',\n",
              " '<sent_start>',\n",
              " 'how',\n",
              " 'are']"
            ]
          },
          "metadata": {},
          "execution_count": 25
        }
      ]
    },
    {
      "cell_type": "code",
      "source": [
        "EMBED_SIZE = 512\n",
        "EMBED_WINDOW = 5\n",
        "\n",
        "embed_model = Word2Vec(\n",
        "    sentences=[tokens],\n",
        "    window=EMBED_WINDOW,\n",
        "    vector_size=EMBED_SIZE,\n",
        "    min_count=1\n",
        ")"
      ],
      "metadata": {
        "id": "Eum2_sS5Iote"
      },
      "execution_count": null,
      "outputs": []
    },
    {
      "cell_type": "code",
      "source": [
        "embed_model.wv[\"jim\"]"
      ],
      "metadata": {
        "colab": {
          "base_uri": "https://localhost:8080/"
        },
        "id": "82knCiRyOIrx",
        "outputId": "9ebd596a-390c-4011-b28a-5155f5cc0ebd"
      },
      "execution_count": null,
      "outputs": [
        {
          "output_type": "execute_result",
          "data": {
            "text/plain": [
              "array([-2.91421311e-03, -2.36648843e-02, -1.36602083e-02,  6.55734614e-02,\n",
              "        3.42263491e-04,  2.95747295e-02,  6.12691529e-02, -3.43051031e-02,\n",
              "       -3.35325263e-02,  9.35531631e-02, -8.73894431e-03, -2.17769239e-02,\n",
              "        5.09277172e-02, -1.05928339e-01, -3.92229296e-02, -5.52094821e-03,\n",
              "       -6.88646501e-03,  1.56655997e-01, -1.03827134e-01,  2.57804841e-02,\n",
              "        6.40802681e-02, -5.34819812e-02,  8.47180486e-02, -8.91114399e-02,\n",
              "       -7.82372355e-02,  5.64162247e-02,  2.36978903e-02,  7.66482279e-02,\n",
              "        4.01230268e-02, -7.46122375e-02,  2.78319567e-02,  3.27802673e-02,\n",
              "        5.94246574e-02, -2.17035646e-03, -5.47019616e-02,  3.95347811e-02,\n",
              "        6.42746873e-03, -4.39346656e-02, -5.55619262e-02, -6.38927892e-02,\n",
              "       -6.26534522e-02,  1.11770101e-01, -8.83168876e-02, -5.32935746e-02,\n",
              "        1.62211657e-01, -1.23856543e-02, -2.71085817e-02, -3.01735196e-02,\n",
              "        1.74484357e-01, -6.76258579e-02, -3.96151543e-02, -1.97892748e-02,\n",
              "        3.54288481e-02,  1.15770981e-01, -1.71445653e-01, -6.89443946e-03,\n",
              "        8.17350969e-02, -1.47632003e-01,  5.72190620e-02,  1.37265310e-01,\n",
              "        1.00487217e-01,  7.80061111e-02, -2.42659473e-03,  7.86674097e-02,\n",
              "        1.37083739e-01,  2.86031030e-02,  1.73989050e-02,  2.67304275e-02,\n",
              "        1.61789767e-02, -1.13325752e-01, -3.37445959e-02, -3.92519906e-02,\n",
              "       -8.06167647e-02, -1.06371425e-01, -6.03139587e-02,  7.31446147e-02,\n",
              "        1.71779513e-01, -5.88407665e-02,  3.62576097e-02,  4.19630483e-02,\n",
              "        1.02640182e-01, -5.68680540e-02, -1.60888266e-02,  9.21984985e-02,\n",
              "       -2.16632318e-02,  3.88609292e-03,  8.89805034e-02, -5.17435819e-02,\n",
              "       -2.60959491e-02,  6.89044297e-02,  2.87083839e-03, -7.49446675e-02,\n",
              "        9.50224847e-02, -9.93244126e-02,  4.40146849e-02,  6.58879280e-02,\n",
              "       -6.21448234e-02, -4.91535738e-02, -9.41561814e-03, -7.90523887e-02,\n",
              "       -2.19728604e-01,  6.70605749e-02,  4.81033027e-02,  5.75450361e-02,\n",
              "       -3.48493010e-02,  8.92127976e-02, -7.83247873e-02, -4.51695779e-03,\n",
              "        1.31023392e-01, -1.15016453e-01,  1.25804842e-01, -2.01353341e-01,\n",
              "        1.46759627e-02,  1.47713542e-01, -6.32010475e-02, -3.53290550e-02,\n",
              "        4.75700758e-02,  1.40792549e-01,  5.92897870e-02,  4.21137996e-02,\n",
              "       -1.61486074e-01, -6.00396767e-02, -1.91261303e-02, -5.66607006e-02,\n",
              "       -2.96975393e-02, -6.44249544e-02, -4.25174721e-02, -1.47941783e-01,\n",
              "        5.17179146e-02,  4.39725593e-02, -6.68881228e-03, -7.19497129e-02,\n",
              "        8.53398442e-02,  1.63177345e-02,  8.07324946e-02,  7.24181207e-03,\n",
              "       -2.11966820e-02,  6.07366189e-02,  1.36586130e-01,  4.09181695e-03,\n",
              "        7.79786380e-03,  5.59663493e-03,  5.41644879e-02,  4.17618342e-02,\n",
              "       -1.66201964e-01, -5.01811840e-02, -3.90064158e-02, -1.25639051e-01,\n",
              "        8.28217044e-02,  1.32854521e-01,  2.07893383e-02, -1.68493062e-01,\n",
              "       -8.29435438e-02,  9.18931514e-02, -1.60104677e-01,  6.42876774e-02,\n",
              "        9.31656286e-02,  1.64021365e-02, -1.21301115e-01,  6.82795271e-02,\n",
              "       -8.56663380e-03,  9.96865183e-02, -6.77430406e-02, -8.63201246e-02,\n",
              "        1.33114904e-01,  7.62890428e-02,  7.56091550e-02,  6.28082678e-02,\n",
              "        1.05611160e-01,  1.16191637e-02, -2.31845509e-02, -3.00011709e-02,\n",
              "       -6.76455349e-02,  2.03331318e-02, -1.29967839e-01, -8.96710008e-02,\n",
              "       -8.38675648e-02, -4.60766032e-02,  1.27104819e-01, -6.98862821e-02,\n",
              "       -5.90576306e-02, -5.36210798e-02,  5.15693873e-02, -1.41236588e-01,\n",
              "        2.33567692e-03, -2.64280848e-02, -7.09055439e-02, -2.93751750e-02,\n",
              "        6.30691880e-03, -6.41322136e-02, -1.07586430e-02, -7.98473060e-02,\n",
              "        8.07544366e-02, -3.86192687e-02,  2.36229826e-04, -3.93856838e-02,\n",
              "       -7.87111074e-02,  9.07155033e-03, -9.60742459e-02, -7.79287471e-03,\n",
              "       -1.08764254e-01, -4.62185889e-02, -6.88028429e-03, -7.87205398e-02,\n",
              "        2.92355940e-02,  6.90049231e-02, -1.09451614e-01, -4.22963835e-02,\n",
              "       -6.04156218e-02, -5.54915033e-02,  1.63907297e-02,  2.76524425e-02,\n",
              "        1.51710227e-01, -7.84265473e-02, -5.56854196e-02,  6.22467604e-03,\n",
              "        7.99281970e-02,  1.14770517e-01, -1.26675174e-01,  4.83914390e-02,\n",
              "       -1.41226515e-01, -1.44803440e-02,  7.70308003e-02, -1.50687829e-01,\n",
              "        1.01323359e-01, -1.00329585e-01,  1.00939814e-02, -1.08730551e-02,\n",
              "        1.01923186e-03,  8.95169750e-02, -8.44795331e-02, -6.38225824e-02,\n",
              "       -6.10727398e-03, -1.39446929e-01, -7.88156092e-02,  7.00644627e-02,\n",
              "        2.89131757e-02,  1.30488165e-02, -8.16270150e-03,  7.10309967e-02,\n",
              "       -2.50034276e-02, -2.92075705e-02,  1.79063976e-02,  1.38782501e-01,\n",
              "       -1.38764590e-01,  3.80469784e-02,  5.86314797e-02, -4.37779240e-02,\n",
              "       -1.35329766e-02, -1.08846977e-01, -9.26983282e-02,  5.75469919e-02,\n",
              "        9.06533469e-03, -7.40928128e-02, -1.12413689e-01,  5.85642271e-02,\n",
              "        2.76888702e-02, -8.18101019e-02,  6.94197789e-02,  1.03554921e-02,\n",
              "        2.57565737e-01, -1.37273699e-01,  3.97253409e-02, -3.30156758e-02,\n",
              "       -6.30694255e-02,  5.11168800e-02, -6.93671172e-03,  1.11076534e-01,\n",
              "       -1.15120098e-01, -1.09075911e-01,  1.14481062e-01,  1.53734654e-01,\n",
              "        1.62006229e-01, -2.36092061e-02, -7.98214525e-02,  2.10486963e-01,\n",
              "       -3.96833345e-02,  8.05243254e-02, -1.69731081e-01, -1.42569467e-01,\n",
              "       -1.05257206e-01,  1.89375896e-02, -1.48568945e-02, -8.85118470e-02,\n",
              "       -1.33762896e-01, -5.11465445e-02,  6.14779815e-03, -3.23332213e-02,\n",
              "       -2.23041791e-02,  7.53842816e-02, -1.16460927e-01,  2.19702527e-01,\n",
              "        1.12627126e-01, -7.27718621e-02,  1.33429810e-01, -6.60812035e-02,\n",
              "       -8.28112960e-02,  1.02155097e-01,  4.73678485e-02, -2.68842652e-02,\n",
              "        6.05009012e-02, -1.51724732e-02, -2.97989007e-02, -1.42647102e-01,\n",
              "       -7.42043629e-02,  1.83372181e-02,  7.88159147e-02, -1.06657092e-02,\n",
              "        5.89935482e-02, -9.49336067e-02,  5.23165129e-02,  2.66240048e-03,\n",
              "        3.90267335e-02, -1.01653663e-02,  4.32704436e-03, -1.71235129e-02,\n",
              "       -3.09044886e-02, -7.71394745e-02, -2.19341237e-02,  9.30598658e-03,\n",
              "       -1.05039459e-02,  2.60226019e-02,  8.58270656e-03,  1.67922378e-01,\n",
              "       -1.30423829e-01, -3.92345004e-02,  1.38275355e-01, -1.85648017e-02,\n",
              "       -3.21504325e-02, -3.76715958e-02,  8.49674419e-02, -7.37837472e-05,\n",
              "       -2.50653058e-01, -4.15850878e-02,  1.95849277e-02,  1.68028101e-01,\n",
              "       -1.34290129e-01, -5.54416887e-02,  5.51535785e-02,  1.71923772e-01,\n",
              "       -4.39256616e-02,  8.72889608e-02,  6.88037723e-02, -1.82965219e-01,\n",
              "        4.70683724e-02, -4.87083383e-02,  1.81206092e-02, -3.00404616e-02,\n",
              "       -1.17720943e-03,  1.64722875e-02,  6.17678389e-02,  7.20297098e-02,\n",
              "       -1.60885468e-01, -7.88901895e-02, -5.26457801e-02, -6.51886240e-02,\n",
              "       -8.95980075e-02, -2.55009718e-02,  3.08744684e-02,  2.01729834e-02,\n",
              "        9.33713093e-02, -1.22225180e-03,  1.03603914e-01, -3.66830267e-03,\n",
              "       -3.75158736e-03, -3.99821103e-02, -1.62389241e-02,  2.41952278e-02,\n",
              "        5.09819463e-02, -1.01782031e-01,  1.44670010e-02,  6.72485339e-06,\n",
              "        1.89690664e-02,  1.05575740e-03, -1.05380192e-02, -7.76188448e-02,\n",
              "        6.38357326e-02, -2.38641314e-02,  3.40084918e-02,  1.02152480e-02,\n",
              "       -1.54430009e-02,  1.83375329e-02,  1.72351271e-01,  1.35708034e-01,\n",
              "        2.32441798e-02, -1.38926342e-01,  1.50216028e-01,  3.51955444e-02,\n",
              "       -5.23047224e-02, -9.89514664e-02, -9.99951884e-02, -6.72681928e-02,\n",
              "        1.96908489e-02, -2.19083987e-02,  8.74638632e-02, -5.14790881e-04,\n",
              "        8.47910158e-03, -2.63154525e-02,  1.80955157e-01,  8.19901973e-02,\n",
              "       -2.00863004e-01, -2.14047320e-02,  2.56039761e-02,  2.12496109e-02,\n",
              "        2.67206822e-02,  1.99001133e-02, -9.89459082e-02, -2.33346503e-02,\n",
              "       -1.04059368e-01,  3.88524532e-02, -1.09721355e-01,  6.73589110e-02,\n",
              "        4.02669087e-02, -5.51111661e-02, -3.42175178e-02,  1.38472244e-02,\n",
              "        1.30803391e-01,  3.79515067e-02,  1.48272589e-01,  7.52608925e-02,\n",
              "        3.69126834e-02,  5.05079806e-04, -8.94227847e-02,  1.34196594e-01,\n",
              "        5.92816770e-02, -5.00287674e-02, -2.80757397e-02,  8.25709105e-02,\n",
              "        1.54443249e-01,  4.06399034e-02, -4.15954962e-02,  5.58023155e-02,\n",
              "       -3.70911770e-02, -8.23013857e-02,  9.72419232e-02,  8.94187838e-02,\n",
              "        2.50737052e-02, -2.43119635e-02,  1.91611703e-02,  2.40858227e-01,\n",
              "        1.25414819e-01,  5.45038618e-02, -8.62862617e-02, -4.04960290e-02,\n",
              "       -8.33975747e-02,  5.18407784e-02,  1.48502558e-01,  1.05479732e-03,\n",
              "        1.49514511e-01,  3.04992087e-02,  8.33809897e-02, -6.52844906e-02,\n",
              "        9.69117507e-02, -1.72418252e-01, -9.71179362e-03, -2.10255086e-01,\n",
              "       -9.84660462e-02, -6.44127354e-02,  1.76162705e-01, -4.90716137e-02,\n",
              "       -1.00047082e-01, -1.57527789e-01, -1.04313031e-01, -1.64520919e-01,\n",
              "       -5.52094318e-02, -1.28792394e-02,  5.63130565e-02,  6.70324787e-02,\n",
              "        8.18828400e-03,  2.05523029e-01,  1.17776625e-01,  1.27279283e-02,\n",
              "        1.17287613e-01,  1.49730369e-01, -9.25929993e-02,  1.36048679e-04,\n",
              "        5.90924025e-02,  1.37511015e-01,  1.17779418e-03,  2.02696584e-02,\n",
              "       -1.22535020e-01, -9.68021005e-02,  1.12614352e-02,  4.99975234e-02,\n",
              "       -1.60442784e-01,  3.31743434e-02, -6.06025718e-02,  1.10939026e-01,\n",
              "        1.14049762e-03,  3.67196389e-02,  5.20821773e-02, -5.64538082e-03,\n",
              "        7.00193876e-03,  9.03788721e-04,  6.13618530e-02, -3.85612086e-03,\n",
              "       -1.55264288e-02,  2.16681585e-02,  1.18601676e-02, -7.95717239e-02,\n",
              "       -1.75457466e-02, -1.07614227e-01,  7.08902106e-02,  3.26028354e-02,\n",
              "       -1.98775455e-01, -3.00187524e-03, -1.22491062e-01,  7.81547874e-02,\n",
              "       -2.07910851e-01, -6.17565848e-02, -1.41314983e-01, -7.52489343e-02],\n",
              "      dtype=float32)"
            ]
          },
          "metadata": {},
          "execution_count": 92
        }
      ]
    },
    {
      "cell_type": "markdown",
      "source": [
        "### Tokenize and encode the text"
      ],
      "metadata": {
        "id": "Ivu6FetMAXAy"
      }
    },
    {
      "cell_type": "code",
      "source": [
        "import numpy as np\n",
        "from keras.models import Model, Sequential\n",
        "from keras.layers import Embedding, Dense, Dropout, Input\n",
        "from keras.utils import to_categorical\n",
        "from keras.preprocessing.text import Tokenizer"
      ],
      "metadata": {
        "id": "2Vo1xTGy2-h8"
      },
      "execution_count": null,
      "outputs": []
    },
    {
      "cell_type": "code",
      "source": [
        "tokenizer = Tokenizer()\n",
        "tokenizer.fit_on_texts([tokens])\n",
        "encoded = tokenizer.texts_to_sequences([tokens])[0]"
      ],
      "metadata": {
        "id": "qeAWCeYWAR70"
      },
      "execution_count": null,
      "outputs": []
    },
    {
      "cell_type": "code",
      "source": [
        "encoded[:10]"
      ],
      "metadata": {
        "colab": {
          "base_uri": "https://localhost:8080/"
        },
        "id": "H2o6-zc0Aa2L",
        "outputId": "5b5889b7-e48d-4514-fced-d31046450813"
      },
      "execution_count": null,
      "outputs": [
        {
          "output_type": "execute_result",
          "data": {
            "text/plain": [
              "[14, 3, 11, 4, 5, 1, 49, 54, 19, 2]"
            ]
          },
          "metadata": {},
          "execution_count": 95
        }
      ]
    },
    {
      "cell_type": "code",
      "source": [
        "vocab_size = len(tokenizer.word_index) + 1\n",
        "print(vocab_size)"
      ],
      "metadata": {
        "colab": {
          "base_uri": "https://localhost:8080/"
        },
        "id": "KrINAPipBanv",
        "outputId": "34d84ff1-5b51-4735-f5e1-e882fc306c6e"
      },
      "execution_count": null,
      "outputs": [
        {
          "output_type": "stream",
          "name": "stdout",
          "text": [
            "20222\n"
          ]
        }
      ]
    },
    {
      "cell_type": "markdown",
      "source": [
        "### Generate input and output sequences"
      ],
      "metadata": {
        "id": "DjAHEuzxA4q0"
      }
    },
    {
      "cell_type": "code",
      "source": [
        "INPUT_SEQ_LEN = 50\n",
        "STEP_SIZE = 5\n",
        "\n",
        "X = []\n",
        "Y = []\n",
        "\n",
        "for idx in range(0, len(encoded) - INPUT_SEQ_LEN, STEP_SIZE):\n",
        "    X.append(encoded[idx : idx + INPUT_SEQ_LEN])\n",
        "    Y.append(encoded[idx + INPUT_SEQ_LEN])\n",
        "\n",
        "X = np.array(X)\n",
        "Y = np.array(Y)"
      ],
      "metadata": {
        "id": "gLhdBO4vBcj4"
      },
      "execution_count": null,
      "outputs": []
    },
    {
      "cell_type": "markdown",
      "source": [
        "### Build embeddings matrix"
      ],
      "metadata": {
        "id": "IUhfv_U5cB35"
      }
    },
    {
      "cell_type": "code",
      "source": [
        "embedding_matrix = np.zeros((vocab_size, EMBED_SIZE))\n",
        "for word, idx in tokenizer.word_index.items():\n",
        "    embedding_vector = embed_model.wv[word]\n",
        "    embedding_matrix[idx] = embedding_vector"
      ],
      "metadata": {
        "id": "ZgYnlE7Ebm2r"
      },
      "execution_count": null,
      "outputs": []
    },
    {
      "cell_type": "markdown",
      "source": [
        "# Transformer Model"
      ],
      "metadata": {
        "id": "J0tuXNJ9Ed3R"
      }
    },
    {
      "cell_type": "code",
      "source": [
        "!pip install keras_nlp"
      ],
      "metadata": {
        "colab": {
          "base_uri": "https://localhost:8080/"
        },
        "id": "XmHYMfQ9CdqU",
        "outputId": "6424c113-ea18-4515-afb2-5064a53c2d17"
      },
      "execution_count": null,
      "outputs": [
        {
          "output_type": "stream",
          "name": "stdout",
          "text": [
            "Looking in indexes: https://pypi.org/simple, https://us-python.pkg.dev/colab-wheels/public/simple/\n",
            "Requirement already satisfied: keras_nlp in /usr/local/lib/python3.9/dist-packages (0.4.1)\n",
            "Requirement already satisfied: absl-py in /usr/local/lib/python3.9/dist-packages (from keras_nlp) (1.4.0)\n",
            "Requirement already satisfied: packaging in /usr/local/lib/python3.9/dist-packages (from keras_nlp) (23.0)\n",
            "Requirement already satisfied: numpy in /usr/local/lib/python3.9/dist-packages (from keras_nlp) (1.22.4)\n",
            "Requirement already satisfied: tensorflow-text in /usr/local/lib/python3.9/dist-packages (from keras_nlp) (2.12.1)\n",
            "Requirement already satisfied: tensorflow<2.13,>=2.12.0 in /usr/local/lib/python3.9/dist-packages (from tensorflow-text->keras_nlp) (2.12.0)\n",
            "Requirement already satisfied: tensorflow-hub>=0.8.0 in /usr/local/lib/python3.9/dist-packages (from tensorflow-text->keras_nlp) (0.13.0)\n",
            "Requirement already satisfied: tensorboard<2.13,>=2.12 in /usr/local/lib/python3.9/dist-packages (from tensorflow<2.13,>=2.12.0->tensorflow-text->keras_nlp) (2.12.1)\n",
            "Requirement already satisfied: keras<2.13,>=2.12.0 in /usr/local/lib/python3.9/dist-packages (from tensorflow<2.13,>=2.12.0->tensorflow-text->keras_nlp) (2.12.0)\n",
            "Requirement already satisfied: tensorflow-io-gcs-filesystem>=0.23.1 in /usr/local/lib/python3.9/dist-packages (from tensorflow<2.13,>=2.12.0->tensorflow-text->keras_nlp) (0.32.0)\n",
            "Requirement already satisfied: opt-einsum>=2.3.2 in /usr/local/lib/python3.9/dist-packages (from tensorflow<2.13,>=2.12.0->tensorflow-text->keras_nlp) (3.3.0)\n",
            "Requirement already satisfied: gast<=0.4.0,>=0.2.1 in /usr/local/lib/python3.9/dist-packages (from tensorflow<2.13,>=2.12.0->tensorflow-text->keras_nlp) (0.4.0)\n",
            "Requirement already satisfied: libclang>=13.0.0 in /usr/local/lib/python3.9/dist-packages (from tensorflow<2.13,>=2.12.0->tensorflow-text->keras_nlp) (16.0.0)\n",
            "Requirement already satisfied: google-pasta>=0.1.1 in /usr/local/lib/python3.9/dist-packages (from tensorflow<2.13,>=2.12.0->tensorflow-text->keras_nlp) (0.2.0)\n",
            "Requirement already satisfied: six>=1.12.0 in /usr/local/lib/python3.9/dist-packages (from tensorflow<2.13,>=2.12.0->tensorflow-text->keras_nlp) (1.16.0)\n",
            "Requirement already satisfied: grpcio<2.0,>=1.24.3 in /usr/local/lib/python3.9/dist-packages (from tensorflow<2.13,>=2.12.0->tensorflow-text->keras_nlp) (1.53.0)\n",
            "Requirement already satisfied: termcolor>=1.1.0 in /usr/local/lib/python3.9/dist-packages (from tensorflow<2.13,>=2.12.0->tensorflow-text->keras_nlp) (2.2.0)\n",
            "Requirement already satisfied: jax>=0.3.15 in /usr/local/lib/python3.9/dist-packages (from tensorflow<2.13,>=2.12.0->tensorflow-text->keras_nlp) (0.4.8)\n",
            "Requirement already satisfied: flatbuffers>=2.0 in /usr/local/lib/python3.9/dist-packages (from tensorflow<2.13,>=2.12.0->tensorflow-text->keras_nlp) (23.3.3)\n",
            "Requirement already satisfied: astunparse>=1.6.0 in /usr/local/lib/python3.9/dist-packages (from tensorflow<2.13,>=2.12.0->tensorflow-text->keras_nlp) (1.6.3)\n",
            "Requirement already satisfied: h5py>=2.9.0 in /usr/local/lib/python3.9/dist-packages (from tensorflow<2.13,>=2.12.0->tensorflow-text->keras_nlp) (3.8.0)\n",
            "Requirement already satisfied: protobuf!=4.21.0,!=4.21.1,!=4.21.2,!=4.21.3,!=4.21.4,!=4.21.5,<5.0.0dev,>=3.20.3 in /usr/local/lib/python3.9/dist-packages (from tensorflow<2.13,>=2.12.0->tensorflow-text->keras_nlp) (3.20.3)\n",
            "Requirement already satisfied: tensorflow-estimator<2.13,>=2.12.0 in /usr/local/lib/python3.9/dist-packages (from tensorflow<2.13,>=2.12.0->tensorflow-text->keras_nlp) (2.12.0)\n",
            "Requirement already satisfied: typing-extensions>=3.6.6 in /usr/local/lib/python3.9/dist-packages (from tensorflow<2.13,>=2.12.0->tensorflow-text->keras_nlp) (4.5.0)\n",
            "Requirement already satisfied: wrapt<1.15,>=1.11.0 in /usr/local/lib/python3.9/dist-packages (from tensorflow<2.13,>=2.12.0->tensorflow-text->keras_nlp) (1.14.1)\n",
            "Requirement already satisfied: setuptools in /usr/local/lib/python3.9/dist-packages (from tensorflow<2.13,>=2.12.0->tensorflow-text->keras_nlp) (67.6.1)\n",
            "Requirement already satisfied: wheel<1.0,>=0.23.0 in /usr/local/lib/python3.9/dist-packages (from astunparse>=1.6.0->tensorflow<2.13,>=2.12.0->tensorflow-text->keras_nlp) (0.40.0)\n",
            "Requirement already satisfied: scipy>=1.7 in /usr/local/lib/python3.9/dist-packages (from jax>=0.3.15->tensorflow<2.13,>=2.12.0->tensorflow-text->keras_nlp) (1.10.1)\n",
            "Requirement already satisfied: ml-dtypes>=0.0.3 in /usr/local/lib/python3.9/dist-packages (from jax>=0.3.15->tensorflow<2.13,>=2.12.0->tensorflow-text->keras_nlp) (0.0.4)\n",
            "Requirement already satisfied: google-auth-oauthlib<1.1,>=0.5 in /usr/local/lib/python3.9/dist-packages (from tensorboard<2.13,>=2.12->tensorflow<2.13,>=2.12.0->tensorflow-text->keras_nlp) (1.0.0)\n",
            "Requirement already satisfied: tensorboard-data-server<0.8.0,>=0.7.0 in /usr/local/lib/python3.9/dist-packages (from tensorboard<2.13,>=2.12->tensorflow<2.13,>=2.12.0->tensorflow-text->keras_nlp) (0.7.0)\n",
            "Requirement already satisfied: markdown>=2.6.8 in /usr/local/lib/python3.9/dist-packages (from tensorboard<2.13,>=2.12->tensorflow<2.13,>=2.12.0->tensorflow-text->keras_nlp) (3.4.3)\n",
            "Requirement already satisfied: requests<3,>=2.21.0 in /usr/local/lib/python3.9/dist-packages (from tensorboard<2.13,>=2.12->tensorflow<2.13,>=2.12.0->tensorflow-text->keras_nlp) (2.27.1)\n",
            "Requirement already satisfied: werkzeug>=1.0.1 in /usr/local/lib/python3.9/dist-packages (from tensorboard<2.13,>=2.12->tensorflow<2.13,>=2.12.0->tensorflow-text->keras_nlp) (2.2.3)\n",
            "Requirement already satisfied: google-auth<3,>=1.6.3 in /usr/local/lib/python3.9/dist-packages (from tensorboard<2.13,>=2.12->tensorflow<2.13,>=2.12.0->tensorflow-text->keras_nlp) (2.17.2)\n",
            "Requirement already satisfied: tensorboard-plugin-wit>=1.6.0 in /usr/local/lib/python3.9/dist-packages (from tensorboard<2.13,>=2.12->tensorflow<2.13,>=2.12.0->tensorflow-text->keras_nlp) (1.8.1)\n",
            "Requirement already satisfied: pyasn1-modules>=0.2.1 in /usr/local/lib/python3.9/dist-packages (from google-auth<3,>=1.6.3->tensorboard<2.13,>=2.12->tensorflow<2.13,>=2.12.0->tensorflow-text->keras_nlp) (0.2.8)\n",
            "Requirement already satisfied: cachetools<6.0,>=2.0.0 in /usr/local/lib/python3.9/dist-packages (from google-auth<3,>=1.6.3->tensorboard<2.13,>=2.12->tensorflow<2.13,>=2.12.0->tensorflow-text->keras_nlp) (5.3.0)\n",
            "Requirement already satisfied: rsa<5,>=3.1.4 in /usr/local/lib/python3.9/dist-packages (from google-auth<3,>=1.6.3->tensorboard<2.13,>=2.12->tensorflow<2.13,>=2.12.0->tensorflow-text->keras_nlp) (4.9)\n",
            "Requirement already satisfied: requests-oauthlib>=0.7.0 in /usr/local/lib/python3.9/dist-packages (from google-auth-oauthlib<1.1,>=0.5->tensorboard<2.13,>=2.12->tensorflow<2.13,>=2.12.0->tensorflow-text->keras_nlp) (1.3.1)\n",
            "Requirement already satisfied: importlib-metadata>=4.4 in /usr/local/lib/python3.9/dist-packages (from markdown>=2.6.8->tensorboard<2.13,>=2.12->tensorflow<2.13,>=2.12.0->tensorflow-text->keras_nlp) (6.3.0)\n",
            "Requirement already satisfied: certifi>=2017.4.17 in /usr/local/lib/python3.9/dist-packages (from requests<3,>=2.21.0->tensorboard<2.13,>=2.12->tensorflow<2.13,>=2.12.0->tensorflow-text->keras_nlp) (2022.12.7)\n",
            "Requirement already satisfied: idna<4,>=2.5 in /usr/local/lib/python3.9/dist-packages (from requests<3,>=2.21.0->tensorboard<2.13,>=2.12->tensorflow<2.13,>=2.12.0->tensorflow-text->keras_nlp) (3.4)\n",
            "Requirement already satisfied: urllib3<1.27,>=1.21.1 in /usr/local/lib/python3.9/dist-packages (from requests<3,>=2.21.0->tensorboard<2.13,>=2.12->tensorflow<2.13,>=2.12.0->tensorflow-text->keras_nlp) (1.26.15)\n",
            "Requirement already satisfied: charset-normalizer~=2.0.0 in /usr/local/lib/python3.9/dist-packages (from requests<3,>=2.21.0->tensorboard<2.13,>=2.12->tensorflow<2.13,>=2.12.0->tensorflow-text->keras_nlp) (2.0.12)\n",
            "Requirement already satisfied: MarkupSafe>=2.1.1 in /usr/local/lib/python3.9/dist-packages (from werkzeug>=1.0.1->tensorboard<2.13,>=2.12->tensorflow<2.13,>=2.12.0->tensorflow-text->keras_nlp) (2.1.2)\n",
            "Requirement already satisfied: zipp>=0.5 in /usr/local/lib/python3.9/dist-packages (from importlib-metadata>=4.4->markdown>=2.6.8->tensorboard<2.13,>=2.12->tensorflow<2.13,>=2.12.0->tensorflow-text->keras_nlp) (3.15.0)\n",
            "Requirement already satisfied: pyasn1<0.5.0,>=0.4.6 in /usr/local/lib/python3.9/dist-packages (from pyasn1-modules>=0.2.1->google-auth<3,>=1.6.3->tensorboard<2.13,>=2.12->tensorflow<2.13,>=2.12.0->tensorflow-text->keras_nlp) (0.4.8)\n",
            "Requirement already satisfied: oauthlib>=3.0.0 in /usr/local/lib/python3.9/dist-packages (from requests-oauthlib>=0.7.0->google-auth-oauthlib<1.1,>=0.5->tensorboard<2.13,>=2.12->tensorflow<2.13,>=2.12.0->tensorflow-text->keras_nlp) (3.2.2)\n"
          ]
        }
      ]
    },
    {
      "cell_type": "code",
      "source": [
        "import keras_nlp\n",
        "import tensorflow as tf"
      ],
      "metadata": {
        "id": "uLZ41zGsCmjJ"
      },
      "execution_count": null,
      "outputs": []
    },
    {
      "cell_type": "markdown",
      "source": [
        "The following is adapted from [GPT text generation from scratch with KerasNLP](https://keras.io/examples/generative/text_generation_gpt/)."
      ],
      "metadata": {
        "id": "X9qSrD24DYPh"
      }
    },
    {
      "cell_type": "code",
      "source": [
        "TRANSFORMER_NUM_LAYERS = 2\n",
        "TRANSFORMER_NUM_HEADS = 3\n",
        "TRANSFORMER_FEED_FORWARD_DIM = 256\n",
        "\n",
        "inputs = Input(shape=(INPUT_SEQ_LEN,), dtype=tf.int32)\n",
        "\n",
        "# Embedding.\n",
        "embedding_layer = keras_nlp.layers.TokenAndPositionEmbedding(\n",
        "    vocabulary_size=vocab_size,\n",
        "    sequence_length=INPUT_SEQ_LEN,\n",
        "    embedding_dim=EMBED_SIZE,\n",
        "    mask_zero=True,\n",
        ")\n",
        "x = embedding_layer(inputs)\n",
        "\n",
        "# Transformer decoders.\n",
        "for _ in range(TRANSFORMER_NUM_LAYERS):\n",
        "    decoder_layer = keras_nlp.layers.TransformerDecoder(\n",
        "        num_heads=TRANSFORMER_NUM_HEADS,\n",
        "        intermediate_dim=TRANSFORMER_FEED_FORWARD_DIM,\n",
        "    )\n",
        "    x = decoder_layer(x)\n",
        "\n",
        "# Output.\n",
        "outputs = Dense(vocab_size)(x)\n",
        "model = Model(inputs=inputs, outputs=outputs)\n",
        "loss_fn = tf.keras.losses.SparseCategoricalCrossentropy(from_logits=True)\n",
        "perplexity = keras_nlp.metrics.Perplexity(from_logits=True, mask_token_id=0)\n",
        "model.compile(optimizer=\"adam\", loss=loss_fn, metrics=[perplexity])"
      ],
      "metadata": {
        "colab": {
          "base_uri": "https://localhost:8080/"
        },
        "id": "RyWrsLK1Crsk",
        "outputId": "d09548a7-88c3-401b-cc3d-24a2a072e1a4"
      },
      "execution_count": null,
      "outputs": [
        {
          "output_type": "stream",
          "name": "stdout",
          "text": [
            "Query tensor shape: (None, 50, 512)\n",
            "Query tensor shape: (None, 50, 512)\n"
          ]
        }
      ]
    },
    {
      "cell_type": "code",
      "source": [
        "model.summary()"
      ],
      "metadata": {
        "colab": {
          "base_uri": "https://localhost:8080/"
        },
        "id": "2voF3Tjdbbjh",
        "outputId": "2b221e5f-18f5-4a46-bbcb-b68e270d2633"
      },
      "execution_count": null,
      "outputs": [
        {
          "output_type": "stream",
          "name": "stdout",
          "text": [
            "Model: \"model_25\"\n",
            "_________________________________________________________________\n",
            " Layer (type)                Output Shape              Param #   \n",
            "=================================================================\n",
            " input_35 (InputLayer)       [(None, 50)]              0         \n",
            "                                                                 \n",
            " token_and_position_embeddin  (None, 50, 512)          10379264  \n",
            " g_32 (TokenAndPositionEmbed                                     \n",
            " ding)                                                           \n",
            "                                                                 \n",
            " transformer_decoder_56 (Tra  (None, 50, 512)          1311482   \n",
            " nsformerDecoder)                                                \n",
            "                                                                 \n",
            " transformer_decoder_57 (Tra  (None, 50, 512)          1311482   \n",
            " nsformerDecoder)                                                \n",
            "                                                                 \n",
            " dense_28 (Dense)            (None, 50, 20222)         10373886  \n",
            "                                                                 \n",
            "=================================================================\n",
            "Total params: 23,376,114\n",
            "Trainable params: 23,376,114\n",
            "Non-trainable params: 0\n",
            "_________________________________________________________________\n"
          ]
        }
      ]
    },
    {
      "cell_type": "code",
      "source": [
        "def data_generator(X, Y, batch_size, shuffle):\n",
        "    while True:\n",
        "        # Shuffle the data\n",
        "        if shuffle:\n",
        "            indices = np.random.permutation(len(X))\n",
        "            X = X[indices]\n",
        "            Y = Y[indices]\n",
        "\n",
        "        # Generate batches\n",
        "        for i in range(0, len(X), batch_size):\n",
        "            X_batch = X[i:i+batch_size]\n",
        "            Y_batch = Y[i:i+batch_size]\n",
        "\n",
        "            # Convert labels to one-hot vectors\n",
        "            X_batch = to_categorical(X_batch, vocab_size)\n",
        "            Y_batch = to_categorical(Y_batch, vocab_size)\n",
        "\n",
        "            # Yield the batch\n",
        "            yield X_batch, Y_batch"
      ],
      "metadata": {
        "id": "fvPt6d9EFaVl"
      },
      "execution_count": null,
      "outputs": []
    },
    {
      "cell_type": "code",
      "source": [
        "BATCH_SIZE = 128\n",
        "EPOCHS = 1\n",
        "STEPS_PER_EPOCH = len(X) // BATCH_SIZE"
      ],
      "metadata": {
        "id": "KOGPGYVoEq9Z"
      },
      "execution_count": null,
      "outputs": []
    },
    {
      "cell_type": "code",
      "source": [
        "from tensorflow.keras.callbacks import ModelCheckpoint\n",
        "\n",
        "filepath = \"weights.hdf5\"\n",
        "checkpoint = ModelCheckpoint(filepath, monitor='loss',\n",
        "                             verbose=1, save_best_only=True,\n",
        "                             mode='min')"
      ],
      "metadata": {
        "id": "NFzV-vITXVyh"
      },
      "execution_count": null,
      "outputs": []
    },
    {
      "cell_type": "code",
      "source": [
        "from tensorflow.keras.callbacks import ReduceLROnPlateau\n",
        "\n",
        "LEARNING_RATE = 0.01\n",
        "model.optimizer.lr = LEARNING_RATE\n",
        "reduce_lr = ReduceLROnPlateau(monitor='loss', factor=0.8,\n",
        "                              patience=1, min_lr=0.001)\n",
        "\n",
        "callbacks = [checkpoint, reduce_lr]"
      ],
      "metadata": {
        "id": "CwFjVL-oXYaT"
      },
      "execution_count": null,
      "outputs": []
    },
    {
      "cell_type": "code",
      "source": [
        "train_generator = data_generator(X, Y, BATCH_SIZE, shuffle=False)\n",
        "model.fit(train_generator, steps_per_epoch=STEPS_PER_EPOCH, epochs=EPOCHS, callbacks=callbacks)"
      ],
      "metadata": {
        "colab": {
          "base_uri": "https://localhost:8080/",
          "height": 1000
        },
        "id": "FT30DKk7XeEE",
        "outputId": "529edce9-e046-4b8a-b452-8092eacac260"
      },
      "execution_count": null,
      "outputs": [
        {
          "output_type": "error",
          "ename": "ValueError",
          "evalue": "ignored",
          "traceback": [
            "\u001b[0;31m---------------------------------------------------------------------------\u001b[0m",
            "\u001b[0;31mValueError\u001b[0m                                Traceback (most recent call last)",
            "\u001b[0;32m<ipython-input-156-c211cdfd5cb8>\u001b[0m in \u001b[0;36m<cell line: 2>\u001b[0;34m()\u001b[0m\n\u001b[1;32m      1\u001b[0m \u001b[0mtrain_generator\u001b[0m \u001b[0;34m=\u001b[0m \u001b[0mdata_generator\u001b[0m\u001b[0;34m(\u001b[0m\u001b[0mX\u001b[0m\u001b[0;34m,\u001b[0m \u001b[0mY\u001b[0m\u001b[0;34m,\u001b[0m \u001b[0mBATCH_SIZE\u001b[0m\u001b[0;34m,\u001b[0m \u001b[0mshuffle\u001b[0m\u001b[0;34m=\u001b[0m\u001b[0;32mFalse\u001b[0m\u001b[0;34m)\u001b[0m\u001b[0;34m\u001b[0m\u001b[0;34m\u001b[0m\u001b[0m\n\u001b[0;32m----> 2\u001b[0;31m \u001b[0mmodel\u001b[0m\u001b[0;34m.\u001b[0m\u001b[0mfit\u001b[0m\u001b[0;34m(\u001b[0m\u001b[0mtrain_generator\u001b[0m\u001b[0;34m,\u001b[0m \u001b[0msteps_per_epoch\u001b[0m\u001b[0;34m=\u001b[0m\u001b[0mSTEPS_PER_EPOCH\u001b[0m\u001b[0;34m,\u001b[0m \u001b[0mepochs\u001b[0m\u001b[0;34m=\u001b[0m\u001b[0mEPOCHS\u001b[0m\u001b[0;34m,\u001b[0m \u001b[0mcallbacks\u001b[0m\u001b[0;34m=\u001b[0m\u001b[0mcallbacks\u001b[0m\u001b[0;34m)\u001b[0m\u001b[0;34m\u001b[0m\u001b[0;34m\u001b[0m\u001b[0m\n\u001b[0m",
            "\u001b[0;32m/usr/local/lib/python3.9/dist-packages/keras/utils/traceback_utils.py\u001b[0m in \u001b[0;36merror_handler\u001b[0;34m(*args, **kwargs)\u001b[0m\n\u001b[1;32m     68\u001b[0m             \u001b[0;31m# To get the full stack trace, call:\u001b[0m\u001b[0;34m\u001b[0m\u001b[0;34m\u001b[0m\u001b[0m\n\u001b[1;32m     69\u001b[0m             \u001b[0;31m# `tf.debugging.disable_traceback_filtering()`\u001b[0m\u001b[0;34m\u001b[0m\u001b[0;34m\u001b[0m\u001b[0m\n\u001b[0;32m---> 70\u001b[0;31m             \u001b[0;32mraise\u001b[0m \u001b[0me\u001b[0m\u001b[0;34m.\u001b[0m\u001b[0mwith_traceback\u001b[0m\u001b[0;34m(\u001b[0m\u001b[0mfiltered_tb\u001b[0m\u001b[0;34m)\u001b[0m \u001b[0;32mfrom\u001b[0m \u001b[0;32mNone\u001b[0m\u001b[0;34m\u001b[0m\u001b[0;34m\u001b[0m\u001b[0m\n\u001b[0m\u001b[1;32m     71\u001b[0m         \u001b[0;32mfinally\u001b[0m\u001b[0;34m:\u001b[0m\u001b[0;34m\u001b[0m\u001b[0;34m\u001b[0m\u001b[0m\n\u001b[1;32m     72\u001b[0m             \u001b[0;32mdel\u001b[0m \u001b[0mfiltered_tb\u001b[0m\u001b[0;34m\u001b[0m\u001b[0;34m\u001b[0m\u001b[0m\n",
            "\u001b[0;32m/usr/local/lib/python3.9/dist-packages/keras/engine/training.py\u001b[0m in \u001b[0;36mtf__train_function\u001b[0;34m(iterator)\u001b[0m\n\u001b[1;32m     13\u001b[0m                 \u001b[0;32mtry\u001b[0m\u001b[0;34m:\u001b[0m\u001b[0;34m\u001b[0m\u001b[0;34m\u001b[0m\u001b[0m\n\u001b[1;32m     14\u001b[0m                     \u001b[0mdo_return\u001b[0m \u001b[0;34m=\u001b[0m \u001b[0;32mTrue\u001b[0m\u001b[0;34m\u001b[0m\u001b[0;34m\u001b[0m\u001b[0m\n\u001b[0;32m---> 15\u001b[0;31m                     \u001b[0mretval_\u001b[0m \u001b[0;34m=\u001b[0m \u001b[0mag__\u001b[0m\u001b[0;34m.\u001b[0m\u001b[0mconverted_call\u001b[0m\u001b[0;34m(\u001b[0m\u001b[0mag__\u001b[0m\u001b[0;34m.\u001b[0m\u001b[0mld\u001b[0m\u001b[0;34m(\u001b[0m\u001b[0mstep_function\u001b[0m\u001b[0;34m)\u001b[0m\u001b[0;34m,\u001b[0m \u001b[0;34m(\u001b[0m\u001b[0mag__\u001b[0m\u001b[0;34m.\u001b[0m\u001b[0mld\u001b[0m\u001b[0;34m(\u001b[0m\u001b[0mself\u001b[0m\u001b[0;34m)\u001b[0m\u001b[0;34m,\u001b[0m \u001b[0mag__\u001b[0m\u001b[0;34m.\u001b[0m\u001b[0mld\u001b[0m\u001b[0;34m(\u001b[0m\u001b[0miterator\u001b[0m\u001b[0;34m)\u001b[0m\u001b[0;34m)\u001b[0m\u001b[0;34m,\u001b[0m \u001b[0;32mNone\u001b[0m\u001b[0;34m,\u001b[0m \u001b[0mfscope\u001b[0m\u001b[0;34m)\u001b[0m\u001b[0;34m\u001b[0m\u001b[0;34m\u001b[0m\u001b[0m\n\u001b[0m\u001b[1;32m     16\u001b[0m                 \u001b[0;32mexcept\u001b[0m\u001b[0;34m:\u001b[0m\u001b[0;34m\u001b[0m\u001b[0;34m\u001b[0m\u001b[0m\n\u001b[1;32m     17\u001b[0m                     \u001b[0mdo_return\u001b[0m \u001b[0;34m=\u001b[0m \u001b[0;32mFalse\u001b[0m\u001b[0;34m\u001b[0m\u001b[0;34m\u001b[0m\u001b[0m\n",
            "\u001b[0;32m/usr/local/lib/python3.9/dist-packages/keras_nlp/layers/transformer_decoder.py\u001b[0m in \u001b[0;36mtf__call\u001b[0;34m(self, decoder_sequence, encoder_sequence, decoder_padding_mask, decoder_attention_mask, encoder_padding_mask, encoder_attention_mask)\u001b[0m\n\u001b[1;32m    105\u001b[0m                     \u001b[0;32mpass\u001b[0m\u001b[0;34m\u001b[0m\u001b[0;34m\u001b[0m\u001b[0m\n\u001b[1;32m    106\u001b[0m                 \u001b[0mag__\u001b[0m\u001b[0;34m.\u001b[0m\u001b[0mif_stmt\u001b[0m\u001b[0;34m(\u001b[0m\u001b[0mag__\u001b[0m\u001b[0;34m.\u001b[0m\u001b[0mld\u001b[0m\u001b[0;34m(\u001b[0m\u001b[0mself\u001b[0m\u001b[0;34m)\u001b[0m\u001b[0;34m.\u001b[0m\u001b[0mnormalize_first\u001b[0m\u001b[0;34m,\u001b[0m \u001b[0mif_body_4\u001b[0m\u001b[0;34m,\u001b[0m \u001b[0melse_body_4\u001b[0m\u001b[0;34m,\u001b[0m \u001b[0mget_state_4\u001b[0m\u001b[0;34m,\u001b[0m \u001b[0mset_state_4\u001b[0m\u001b[0;34m,\u001b[0m \u001b[0;34m(\u001b[0m\u001b[0;34m'x'\u001b[0m\u001b[0;34m,\u001b[0m\u001b[0;34m)\u001b[0m\u001b[0;34m,\u001b[0m \u001b[0;36m1\u001b[0m\u001b[0;34m)\u001b[0m\u001b[0;34m\u001b[0m\u001b[0;34m\u001b[0m\u001b[0m\n\u001b[0;32m--> 107\u001b[0;31m                 \u001b[0mx\u001b[0m \u001b[0;34m=\u001b[0m \u001b[0mag__\u001b[0m\u001b[0;34m.\u001b[0m\u001b[0mconverted_call\u001b[0m\u001b[0;34m(\u001b[0m\u001b[0mag__\u001b[0m\u001b[0;34m.\u001b[0m\u001b[0mld\u001b[0m\u001b[0;34m(\u001b[0m\u001b[0mself\u001b[0m\u001b[0;34m)\u001b[0m\u001b[0;34m.\u001b[0m\u001b[0m_self_attention_layer\u001b[0m\u001b[0;34m,\u001b[0m \u001b[0;34m(\u001b[0m\u001b[0;34m)\u001b[0m\u001b[0;34m,\u001b[0m \u001b[0mdict\u001b[0m\u001b[0;34m(\u001b[0m\u001b[0mquery\u001b[0m\u001b[0;34m=\u001b[0m\u001b[0mag__\u001b[0m\u001b[0;34m.\u001b[0m\u001b[0mld\u001b[0m\u001b[0;34m(\u001b[0m\u001b[0mx\u001b[0m\u001b[0;34m)\u001b[0m\u001b[0;34m,\u001b[0m \u001b[0mvalue\u001b[0m\u001b[0;34m=\u001b[0m\u001b[0mag__\u001b[0m\u001b[0;34m.\u001b[0m\u001b[0mld\u001b[0m\u001b[0;34m(\u001b[0m\u001b[0mx\u001b[0m\u001b[0;34m)\u001b[0m\u001b[0;34m,\u001b[0m \u001b[0mattention_mask\u001b[0m\u001b[0;34m=\u001b[0m\u001b[0mag__\u001b[0m\u001b[0;34m.\u001b[0m\u001b[0mld\u001b[0m\u001b[0;34m(\u001b[0m\u001b[0mself_attention_mask\u001b[0m\u001b[0;34m)\u001b[0m\u001b[0;34m)\u001b[0m\u001b[0;34m,\u001b[0m \u001b[0mfscope\u001b[0m\u001b[0;34m)\u001b[0m\u001b[0;34m\u001b[0m\u001b[0;34m\u001b[0m\u001b[0m\n\u001b[0m\u001b[1;32m    108\u001b[0m                 \u001b[0mx\u001b[0m \u001b[0;34m=\u001b[0m \u001b[0mag__\u001b[0m\u001b[0;34m.\u001b[0m\u001b[0mconverted_call\u001b[0m\u001b[0;34m(\u001b[0m\u001b[0mag__\u001b[0m\u001b[0;34m.\u001b[0m\u001b[0mld\u001b[0m\u001b[0;34m(\u001b[0m\u001b[0mself\u001b[0m\u001b[0;34m)\u001b[0m\u001b[0;34m.\u001b[0m\u001b[0m_self_attention_dropout\u001b[0m\u001b[0;34m,\u001b[0m \u001b[0;34m(\u001b[0m\u001b[0mag__\u001b[0m\u001b[0;34m.\u001b[0m\u001b[0mld\u001b[0m\u001b[0;34m(\u001b[0m\u001b[0mx\u001b[0m\u001b[0;34m)\u001b[0m\u001b[0;34m,\u001b[0m\u001b[0;34m)\u001b[0m\u001b[0;34m,\u001b[0m \u001b[0;32mNone\u001b[0m\u001b[0;34m,\u001b[0m \u001b[0mfscope\u001b[0m\u001b[0;34m)\u001b[0m\u001b[0;34m\u001b[0m\u001b[0;34m\u001b[0m\u001b[0m\n\u001b[1;32m    109\u001b[0m                 \u001b[0mx\u001b[0m \u001b[0;34m=\u001b[0m \u001b[0mag__\u001b[0m\u001b[0;34m.\u001b[0m\u001b[0mld\u001b[0m\u001b[0;34m(\u001b[0m\u001b[0mx\u001b[0m\u001b[0;34m)\u001b[0m \u001b[0;34m+\u001b[0m \u001b[0mag__\u001b[0m\u001b[0;34m.\u001b[0m\u001b[0mld\u001b[0m\u001b[0;34m(\u001b[0m\u001b[0mresidual\u001b[0m\u001b[0;34m)\u001b[0m\u001b[0;34m\u001b[0m\u001b[0;34m\u001b[0m\u001b[0m\n",
            "\u001b[0;31mValueError\u001b[0m: in user code:\n\n    File \"/usr/local/lib/python3.9/dist-packages/keras/engine/training.py\", line 1284, in train_function  *\n        return step_function(self, iterator)\n    File \"/usr/local/lib/python3.9/dist-packages/keras/engine/training.py\", line 1268, in step_function  **\n        outputs = model.distribute_strategy.run(run_step, args=(data,))\n    File \"/usr/local/lib/python3.9/dist-packages/keras/engine/training.py\", line 1249, in run_step  **\n        outputs = model.train_step(data)\n    File \"/usr/local/lib/python3.9/dist-packages/keras/engine/training.py\", line 1050, in train_step\n        y_pred = self(x, training=True)\n    File \"/usr/local/lib/python3.9/dist-packages/keras/utils/traceback_utils.py\", line 70, in error_handler\n        raise e.with_traceback(filtered_tb) from None\n    File \"/tmp/__autograph_generated_fileb36h_to5.py\", line 107, in tf__call\n        x = ag__.converted_call(ag__.ld(self)._self_attention_layer, (), dict(query=ag__.ld(x), value=ag__.ld(x), attention_mask=ag__.ld(self_attention_mask)), fscope)\n\n    ValueError: Exception encountered when calling layer 'transformer_decoder_48' (type TransformerDecoder).\n    \n    in user code:\n    \n        File \"/usr/local/lib/python3.9/dist-packages/keras_nlp/layers/transformer_decoder.py\", line 274, in call  *\n            x = self._self_attention_layer(\n        File \"/usr/local/lib/python3.9/dist-packages/keras/utils/traceback_utils.py\", line 70, in error_handler  **\n            raise e.with_traceback(filtered_tb) from None\n    \n        ValueError: Exception encountered when calling layer 'query' (type EinsumDense).\n        \n        Shape must be rank 3 but is rank 4\n        \t for 0th input and equation: abc,cde->abde for '{{node model_21/transformer_decoder_48/multi_head_attention/query/einsum/Einsum}} = Einsum[N=2, T=DT_FLOAT, equation=\"abc,cde->abde\"](model_21/token_and_position_embedding_28/add, model_21/transformer_decoder_48/multi_head_attention/query/einsum/Einsum/ReadVariableOp)' with input shapes: [?,?,?,512], [512,3,170].\n        \n        Call arguments received by layer 'query' (type EinsumDense):\n          • inputs=tf.Tensor(shape=(None, None, None, 512), dtype=float32)\n    \n    \n    Call arguments received by layer 'transformer_decoder_48' (type TransformerDecoder):\n      • decoder_sequence=tf.Tensor(shape=(None, None, None, 512), dtype=float32)\n      • encoder_sequence=None\n      • decoder_padding_mask=None\n      • decoder_attention_mask=None\n      • encoder_padding_mask=None\n      • encoder_attention_mask=None\n"
          ]
        }
      ]
    },
    {
      "cell_type": "code",
      "source": [
        "from tensorflow.keras.preprocessing.sequence import pad_sequences\n",
        "\n",
        "def generate(seed_speaker, n_scenes, temperature=1.0, max_words=500):\n",
        "    assert seed_speaker in set(top_speakers), \"Seed speaker is not a top speaker\"\n",
        "\n",
        "    seed_text = f\"{SCENE_START} {SPEAKER_START} {seed_speaker} {SPEAKER_END} {LINE_START} {SENT_START}\".lower()\n",
        "    generated_text = seed_text.split()\n",
        "\n",
        "    scenes_generated = 0\n",
        "    words_generated = 0\n",
        "\n",
        "    while True:\n",
        "        if scenes_generated == n_scenes or words_generated == max_words:\n",
        "            break\n",
        "\n",
        "        # Tokenize and encode the seed text\n",
        "        encoded = tokenizer.texts_to_sequences([seed_text.split(\" \")])\n",
        "        encoded = to_categorical(encoded, vocab_size)\n",
        "        padded_seq = pad_sequences(encoded, maxlen=INPUT_SEQ_LEN, truncating='pre')\n",
        "\n",
        "        # Generate the predicted word\n",
        "        predicted = model.predict(padded_seq, verbose=0)[0]\n",
        "        predicted = np.log(predicted) / temperature\n",
        "        predicted = np.exp(predicted) / np.sum(np.exp(predicted))\n",
        "        predicted_idx = np.random.choice(len(predicted), p=predicted)\n",
        "        predicted_word = tokenizer.index_word[predicted_idx]\n",
        "\n",
        "        words_generated += 1\n",
        "\n",
        "        if predicted_word == SCENE_END.lower():\n",
        "            scenes_generated += 1\n",
        "\n",
        "        # Append the predicted word to the generated text\n",
        "        generated_text.append(predicted_word)\n",
        "\n",
        "        # Update the seed text for the next iteration\n",
        "        seed_text += \" \" + predicted_word\n",
        "\n",
        "    return generated_text"
      ],
      "metadata": {
        "id": "-V2V8Ryynevz"
      },
      "execution_count": null,
      "outputs": []
    },
    {
      "cell_type": "code",
      "source": [
        "def post_process_line(text):\n",
        "    punctuation_to_attach_to_previous_word = ['.', ':', '!', ';', ')', ']', '?', ',', '%']\n",
        "    for punctuation in punctuation_to_attach_to_previous_word:\n",
        "        text = text.replace(' ' + punctuation, punctuation)\n",
        "        \n",
        "    punctuation_to_attach_to_following_word = ['[', '(', '$']\n",
        "    for punctuation in punctuation_to_attach_to_following_word:\n",
        "        text = text.replace(punctuation + ' ', punctuation)\n",
        "        \n",
        "    punctuation_to_attach_to_same_word = [\"'\", '-']\n",
        "    for punctuation in punctuation_to_attach_to_same_word:\n",
        "        text = text.replace(' ' + punctuation + ' ', punctuation)\n",
        "        \n",
        "    text = text.replace(NEWLINE.lower(), \"\\n\")\n",
        "    text = text.replace(\"\\n \", \"\\n\")\n",
        "    \n",
        "    return text"
      ],
      "metadata": {
        "id": "Zx5-7sECkU9h"
      },
      "execution_count": null,
      "outputs": []
    },
    {
      "cell_type": "code",
      "source": [
        "def post_process(text):\n",
        "    output = \"\"\n",
        "    idx = 0\n",
        "\n",
        "    while True:\n",
        "        token = text[idx]\n",
        "        \n",
        "        if token == SCENE_START.lower():\n",
        "            output += \"\\n=== SCENE START ===\"\n",
        "        elif token == SCENE_END.lower():\n",
        "            output += \"\\n=== SCENE END ===\\n\"\n",
        "        elif token == SPEAKER_START.lower():\n",
        "            idx += 1; token = text[idx]\n",
        "            output += f\"\\n{token}: \"\n",
        "        elif token == LINE_END.lower():\n",
        "            output += \".\"\n",
        "        elif token == SENT_START.lower():\n",
        "            idx += 1; token = text[idx]\n",
        "\n",
        "            line = \"\"\n",
        "            while token != SENT_END.lower():\n",
        "                line += token + \" \"\n",
        "                idx += 1; token = text[idx]\n",
        "\n",
        "            output += post_process_line(line)\n",
        "\n",
        "        idx += 1\n",
        "        \n",
        "        if idx == len(text):\n",
        "            break\n",
        "        \n",
        "    return output"
      ],
      "metadata": {
        "id": "CgecMLXh2QkR"
      },
      "execution_count": null,
      "outputs": []
    },
    {
      "cell_type": "code",
      "source": [
        "sent = generate(seed_speaker=\"Michael\", n_scenes=10, temperature=0.7)\n",
        "print(post_process(sent))"
      ],
      "metadata": {
        "id": "FM15IWD4kmd_"
      },
      "execution_count": null,
      "outputs": []
    },
    {
      "cell_type": "code",
      "source": [
        "# model.save('the_office_model')"
      ],
      "metadata": {
        "id": "72r9VPQ4wOwg"
      },
      "execution_count": null,
      "outputs": []
    },
    {
      "cell_type": "code",
      "source": [
        "# !zip the_office_model.zip the_office_model/*"
      ],
      "metadata": {
        "id": "wabVvmI7wZ8g"
      },
      "execution_count": null,
      "outputs": []
    }
  ]
}