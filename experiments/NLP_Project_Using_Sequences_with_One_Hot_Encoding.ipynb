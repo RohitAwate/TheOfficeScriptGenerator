{
  "nbformat": 4,
  "nbformat_minor": 0,
  "metadata": {
    "colab": {
      "provenance": []
    },
    "kernelspec": {
      "name": "python3",
      "display_name": "Python 3"
    },
    "language_info": {
      "name": "python"
    },
    "accelerator": "GPU",
    "gpuClass": "standard"
  },
  "cells": [
    {
      "cell_type": "markdown",
      "source": [
        "## Get dataset from Kaggle"
      ],
      "metadata": {
        "id": "QGEp-v_jqWsO"
      }
    },
    {
      "cell_type": "code",
      "execution_count": null,
      "metadata": {
        "id": "6vN_xXflp7Ro"
      },
      "outputs": [],
      "source": [
        "!mkdir -p ~/.kaggle\n",
        "!touch ~/.kaggle/kaggle.json\n",
        "!chmod 600 ~/.kaggle/kaggle.json\n",
        "!echo '{\"username\":\"rohitawate\",\"key\":\"14a69194fa4cd4e37490796b1f37ff69\"}' > ~/.kaggle/kaggle.json"
      ]
    },
    {
      "cell_type": "code",
      "source": [
        "!kaggle datasets download -d nasirkhalid24/the-office-us-complete-dialoguetranscript"
      ],
      "metadata": {
        "colab": {
          "base_uri": "https://localhost:8080/"
        },
        "id": "M47CiWF9qTO2",
        "outputId": "b4d28015-121f-4eb6-da66-d7d3083c2139"
      },
      "execution_count": null,
      "outputs": [
        {
          "output_type": "stream",
          "name": "stdout",
          "text": [
            "Downloading the-office-us-complete-dialoguetranscript.zip to /content\n",
            " 73% 1.00M/1.37M [00:01<00:00, 928kB/s]\n",
            "100% 1.37M/1.37M [00:01<00:00, 1.18MB/s]\n"
          ]
        }
      ]
    },
    {
      "cell_type": "code",
      "source": [
        "!ls"
      ],
      "metadata": {
        "colab": {
          "base_uri": "https://localhost:8080/"
        },
        "id": "IQTjR10Yqaer",
        "outputId": "053823e2-739e-455e-8df7-27c6dade31b5"
      },
      "execution_count": null,
      "outputs": [
        {
          "output_type": "stream",
          "name": "stdout",
          "text": [
            "sample_data  the-office-us-complete-dialoguetranscript.zip\n"
          ]
        }
      ]
    },
    {
      "cell_type": "code",
      "source": [
        "!unzip the-office-us-complete-dialoguetranscript.zip\n",
        "!ls"
      ],
      "metadata": {
        "colab": {
          "base_uri": "https://localhost:8080/"
        },
        "id": "9qMtUWGZqb-x",
        "outputId": "91e73d77-f6c3-4486-eed8-1f74bc28114f"
      },
      "execution_count": null,
      "outputs": [
        {
          "output_type": "stream",
          "name": "stdout",
          "text": [
            "Archive:  the-office-us-complete-dialoguetranscript.zip\n",
            "  inflating: The-Office-Lines-V4.csv  \n",
            "sample_data\t\t the-office-us-complete-dialoguetranscript.zip\n",
            "The-Office-Lines-V4.csv\n"
          ]
        }
      ]
    },
    {
      "cell_type": "code",
      "source": [
        "!mv The-Office-Lines-V4.csv data.csv"
      ],
      "metadata": {
        "id": "X46-ux3jqgDZ"
      },
      "execution_count": null,
      "outputs": []
    },
    {
      "cell_type": "markdown",
      "source": [
        "# EDA and Pre-processing"
      ],
      "metadata": {
        "id": "qgdAPJwprWRh"
      }
    },
    {
      "cell_type": "code",
      "source": [
        "import pandas as pd\n",
        "df = pd.read_csv(\"data.csv\")\n",
        "df.head()"
      ],
      "metadata": {
        "colab": {
          "base_uri": "https://localhost:8080/",
          "height": 206
        },
        "id": "F9oR5mqtrYbJ",
        "outputId": "5f864ebf-5b76-41f2-fca3-ad480fb3e864"
      },
      "execution_count": null,
      "outputs": [
        {
          "output_type": "execute_result",
          "data": {
            "text/plain": [
              "   season  episode  title  scene  speaker  \\\n",
              "0       1        1  Pilot      1  Michael   \n",
              "1       1        1  Pilot      1      Jim   \n",
              "2       1        1  Pilot      1  Michael   \n",
              "3       1        1  Pilot      1      Jim   \n",
              "4       1        1  Pilot      1  Michael   \n",
              "\n",
              "                                                line Unnamed: 6  \n",
              "0  All right Jim. Your quarterlies look very good...        NaN  \n",
              "1         Oh, I told you. I couldn't close it. So...        NaN  \n",
              "2  So you've come to the master for guidance? Is ...        NaN  \n",
              "3         Actually, you called me in here, but yeah.        NaN  \n",
              "4    All right. Well, let me show you how it's done.        NaN  "
            ],
            "text/html": [
              "\n",
              "  <div id=\"df-4b0e4c84-e1b2-4f44-ae6f-80b39da973a6\">\n",
              "    <div class=\"colab-df-container\">\n",
              "      <div>\n",
              "<style scoped>\n",
              "    .dataframe tbody tr th:only-of-type {\n",
              "        vertical-align: middle;\n",
              "    }\n",
              "\n",
              "    .dataframe tbody tr th {\n",
              "        vertical-align: top;\n",
              "    }\n",
              "\n",
              "    .dataframe thead th {\n",
              "        text-align: right;\n",
              "    }\n",
              "</style>\n",
              "<table border=\"1\" class=\"dataframe\">\n",
              "  <thead>\n",
              "    <tr style=\"text-align: right;\">\n",
              "      <th></th>\n",
              "      <th>season</th>\n",
              "      <th>episode</th>\n",
              "      <th>title</th>\n",
              "      <th>scene</th>\n",
              "      <th>speaker</th>\n",
              "      <th>line</th>\n",
              "      <th>Unnamed: 6</th>\n",
              "    </tr>\n",
              "  </thead>\n",
              "  <tbody>\n",
              "    <tr>\n",
              "      <th>0</th>\n",
              "      <td>1</td>\n",
              "      <td>1</td>\n",
              "      <td>Pilot</td>\n",
              "      <td>1</td>\n",
              "      <td>Michael</td>\n",
              "      <td>All right Jim. Your quarterlies look very good...</td>\n",
              "      <td>NaN</td>\n",
              "    </tr>\n",
              "    <tr>\n",
              "      <th>1</th>\n",
              "      <td>1</td>\n",
              "      <td>1</td>\n",
              "      <td>Pilot</td>\n",
              "      <td>1</td>\n",
              "      <td>Jim</td>\n",
              "      <td>Oh, I told you. I couldn't close it. So...</td>\n",
              "      <td>NaN</td>\n",
              "    </tr>\n",
              "    <tr>\n",
              "      <th>2</th>\n",
              "      <td>1</td>\n",
              "      <td>1</td>\n",
              "      <td>Pilot</td>\n",
              "      <td>1</td>\n",
              "      <td>Michael</td>\n",
              "      <td>So you've come to the master for guidance? Is ...</td>\n",
              "      <td>NaN</td>\n",
              "    </tr>\n",
              "    <tr>\n",
              "      <th>3</th>\n",
              "      <td>1</td>\n",
              "      <td>1</td>\n",
              "      <td>Pilot</td>\n",
              "      <td>1</td>\n",
              "      <td>Jim</td>\n",
              "      <td>Actually, you called me in here, but yeah.</td>\n",
              "      <td>NaN</td>\n",
              "    </tr>\n",
              "    <tr>\n",
              "      <th>4</th>\n",
              "      <td>1</td>\n",
              "      <td>1</td>\n",
              "      <td>Pilot</td>\n",
              "      <td>1</td>\n",
              "      <td>Michael</td>\n",
              "      <td>All right. Well, let me show you how it's done.</td>\n",
              "      <td>NaN</td>\n",
              "    </tr>\n",
              "  </tbody>\n",
              "</table>\n",
              "</div>\n",
              "      <button class=\"colab-df-convert\" onclick=\"convertToInteractive('df-4b0e4c84-e1b2-4f44-ae6f-80b39da973a6')\"\n",
              "              title=\"Convert this dataframe to an interactive table.\"\n",
              "              style=\"display:none;\">\n",
              "        \n",
              "  <svg xmlns=\"http://www.w3.org/2000/svg\" height=\"24px\"viewBox=\"0 0 24 24\"\n",
              "       width=\"24px\">\n",
              "    <path d=\"M0 0h24v24H0V0z\" fill=\"none\"/>\n",
              "    <path d=\"M18.56 5.44l.94 2.06.94-2.06 2.06-.94-2.06-.94-.94-2.06-.94 2.06-2.06.94zm-11 1L8.5 8.5l.94-2.06 2.06-.94-2.06-.94L8.5 2.5l-.94 2.06-2.06.94zm10 10l.94 2.06.94-2.06 2.06-.94-2.06-.94-.94-2.06-.94 2.06-2.06.94z\"/><path d=\"M17.41 7.96l-1.37-1.37c-.4-.4-.92-.59-1.43-.59-.52 0-1.04.2-1.43.59L10.3 9.45l-7.72 7.72c-.78.78-.78 2.05 0 2.83L4 21.41c.39.39.9.59 1.41.59.51 0 1.02-.2 1.41-.59l7.78-7.78 2.81-2.81c.8-.78.8-2.07 0-2.86zM5.41 20L4 18.59l7.72-7.72 1.47 1.35L5.41 20z\"/>\n",
              "  </svg>\n",
              "      </button>\n",
              "      \n",
              "  <style>\n",
              "    .colab-df-container {\n",
              "      display:flex;\n",
              "      flex-wrap:wrap;\n",
              "      gap: 12px;\n",
              "    }\n",
              "\n",
              "    .colab-df-convert {\n",
              "      background-color: #E8F0FE;\n",
              "      border: none;\n",
              "      border-radius: 50%;\n",
              "      cursor: pointer;\n",
              "      display: none;\n",
              "      fill: #1967D2;\n",
              "      height: 32px;\n",
              "      padding: 0 0 0 0;\n",
              "      width: 32px;\n",
              "    }\n",
              "\n",
              "    .colab-df-convert:hover {\n",
              "      background-color: #E2EBFA;\n",
              "      box-shadow: 0px 1px 2px rgba(60, 64, 67, 0.3), 0px 1px 3px 1px rgba(60, 64, 67, 0.15);\n",
              "      fill: #174EA6;\n",
              "    }\n",
              "\n",
              "    [theme=dark] .colab-df-convert {\n",
              "      background-color: #3B4455;\n",
              "      fill: #D2E3FC;\n",
              "    }\n",
              "\n",
              "    [theme=dark] .colab-df-convert:hover {\n",
              "      background-color: #434B5C;\n",
              "      box-shadow: 0px 1px 3px 1px rgba(0, 0, 0, 0.15);\n",
              "      filter: drop-shadow(0px 1px 2px rgba(0, 0, 0, 0.3));\n",
              "      fill: #FFFFFF;\n",
              "    }\n",
              "  </style>\n",
              "\n",
              "      <script>\n",
              "        const buttonEl =\n",
              "          document.querySelector('#df-4b0e4c84-e1b2-4f44-ae6f-80b39da973a6 button.colab-df-convert');\n",
              "        buttonEl.style.display =\n",
              "          google.colab.kernel.accessAllowed ? 'block' : 'none';\n",
              "\n",
              "        async function convertToInteractive(key) {\n",
              "          const element = document.querySelector('#df-4b0e4c84-e1b2-4f44-ae6f-80b39da973a6');\n",
              "          const dataTable =\n",
              "            await google.colab.kernel.invokeFunction('convertToInteractive',\n",
              "                                                     [key], {});\n",
              "          if (!dataTable) return;\n",
              "\n",
              "          const docLinkHtml = 'Like what you see? Visit the ' +\n",
              "            '<a target=\"_blank\" href=https://colab.research.google.com/notebooks/data_table.ipynb>data table notebook</a>'\n",
              "            + ' to learn more about interactive tables.';\n",
              "          element.innerHTML = '';\n",
              "          dataTable['output_type'] = 'display_data';\n",
              "          await google.colab.output.renderOutput(dataTable, element);\n",
              "          const docLink = document.createElement('div');\n",
              "          docLink.innerHTML = docLinkHtml;\n",
              "          element.appendChild(docLink);\n",
              "        }\n",
              "      </script>\n",
              "    </div>\n",
              "  </div>\n",
              "  "
            ]
          },
          "metadata": {},
          "execution_count": 6
        }
      ]
    },
    {
      "cell_type": "markdown",
      "source": [
        "### Drop unnecessary columns"
      ],
      "metadata": {
        "id": "onVliD2HsPfj"
      }
    },
    {
      "cell_type": "code",
      "source": [
        "df = df.drop(columns=[\"season\", \"episode\", \"Unnamed: 6\"], axis=1)\n",
        "df.head()"
      ],
      "metadata": {
        "colab": {
          "base_uri": "https://localhost:8080/",
          "height": 206
        },
        "id": "KaxBgSYmreZq",
        "outputId": "85bdba64-1493-421d-c758-2aa8d0989b8d"
      },
      "execution_count": null,
      "outputs": [
        {
          "output_type": "execute_result",
          "data": {
            "text/plain": [
              "   title  scene  speaker                                               line\n",
              "0  Pilot      1  Michael  All right Jim. Your quarterlies look very good...\n",
              "1  Pilot      1      Jim         Oh, I told you. I couldn't close it. So...\n",
              "2  Pilot      1  Michael  So you've come to the master for guidance? Is ...\n",
              "3  Pilot      1      Jim         Actually, you called me in here, but yeah.\n",
              "4  Pilot      1  Michael    All right. Well, let me show you how it's done."
            ],
            "text/html": [
              "\n",
              "  <div id=\"df-18c1e2cd-b18e-40b6-9a43-41a83ab16a9b\">\n",
              "    <div class=\"colab-df-container\">\n",
              "      <div>\n",
              "<style scoped>\n",
              "    .dataframe tbody tr th:only-of-type {\n",
              "        vertical-align: middle;\n",
              "    }\n",
              "\n",
              "    .dataframe tbody tr th {\n",
              "        vertical-align: top;\n",
              "    }\n",
              "\n",
              "    .dataframe thead th {\n",
              "        text-align: right;\n",
              "    }\n",
              "</style>\n",
              "<table border=\"1\" class=\"dataframe\">\n",
              "  <thead>\n",
              "    <tr style=\"text-align: right;\">\n",
              "      <th></th>\n",
              "      <th>title</th>\n",
              "      <th>scene</th>\n",
              "      <th>speaker</th>\n",
              "      <th>line</th>\n",
              "    </tr>\n",
              "  </thead>\n",
              "  <tbody>\n",
              "    <tr>\n",
              "      <th>0</th>\n",
              "      <td>Pilot</td>\n",
              "      <td>1</td>\n",
              "      <td>Michael</td>\n",
              "      <td>All right Jim. Your quarterlies look very good...</td>\n",
              "    </tr>\n",
              "    <tr>\n",
              "      <th>1</th>\n",
              "      <td>Pilot</td>\n",
              "      <td>1</td>\n",
              "      <td>Jim</td>\n",
              "      <td>Oh, I told you. I couldn't close it. So...</td>\n",
              "    </tr>\n",
              "    <tr>\n",
              "      <th>2</th>\n",
              "      <td>Pilot</td>\n",
              "      <td>1</td>\n",
              "      <td>Michael</td>\n",
              "      <td>So you've come to the master for guidance? Is ...</td>\n",
              "    </tr>\n",
              "    <tr>\n",
              "      <th>3</th>\n",
              "      <td>Pilot</td>\n",
              "      <td>1</td>\n",
              "      <td>Jim</td>\n",
              "      <td>Actually, you called me in here, but yeah.</td>\n",
              "    </tr>\n",
              "    <tr>\n",
              "      <th>4</th>\n",
              "      <td>Pilot</td>\n",
              "      <td>1</td>\n",
              "      <td>Michael</td>\n",
              "      <td>All right. Well, let me show you how it's done.</td>\n",
              "    </tr>\n",
              "  </tbody>\n",
              "</table>\n",
              "</div>\n",
              "      <button class=\"colab-df-convert\" onclick=\"convertToInteractive('df-18c1e2cd-b18e-40b6-9a43-41a83ab16a9b')\"\n",
              "              title=\"Convert this dataframe to an interactive table.\"\n",
              "              style=\"display:none;\">\n",
              "        \n",
              "  <svg xmlns=\"http://www.w3.org/2000/svg\" height=\"24px\"viewBox=\"0 0 24 24\"\n",
              "       width=\"24px\">\n",
              "    <path d=\"M0 0h24v24H0V0z\" fill=\"none\"/>\n",
              "    <path d=\"M18.56 5.44l.94 2.06.94-2.06 2.06-.94-2.06-.94-.94-2.06-.94 2.06-2.06.94zm-11 1L8.5 8.5l.94-2.06 2.06-.94-2.06-.94L8.5 2.5l-.94 2.06-2.06.94zm10 10l.94 2.06.94-2.06 2.06-.94-2.06-.94-.94-2.06-.94 2.06-2.06.94z\"/><path d=\"M17.41 7.96l-1.37-1.37c-.4-.4-.92-.59-1.43-.59-.52 0-1.04.2-1.43.59L10.3 9.45l-7.72 7.72c-.78.78-.78 2.05 0 2.83L4 21.41c.39.39.9.59 1.41.59.51 0 1.02-.2 1.41-.59l7.78-7.78 2.81-2.81c.8-.78.8-2.07 0-2.86zM5.41 20L4 18.59l7.72-7.72 1.47 1.35L5.41 20z\"/>\n",
              "  </svg>\n",
              "      </button>\n",
              "      \n",
              "  <style>\n",
              "    .colab-df-container {\n",
              "      display:flex;\n",
              "      flex-wrap:wrap;\n",
              "      gap: 12px;\n",
              "    }\n",
              "\n",
              "    .colab-df-convert {\n",
              "      background-color: #E8F0FE;\n",
              "      border: none;\n",
              "      border-radius: 50%;\n",
              "      cursor: pointer;\n",
              "      display: none;\n",
              "      fill: #1967D2;\n",
              "      height: 32px;\n",
              "      padding: 0 0 0 0;\n",
              "      width: 32px;\n",
              "    }\n",
              "\n",
              "    .colab-df-convert:hover {\n",
              "      background-color: #E2EBFA;\n",
              "      box-shadow: 0px 1px 2px rgba(60, 64, 67, 0.3), 0px 1px 3px 1px rgba(60, 64, 67, 0.15);\n",
              "      fill: #174EA6;\n",
              "    }\n",
              "\n",
              "    [theme=dark] .colab-df-convert {\n",
              "      background-color: #3B4455;\n",
              "      fill: #D2E3FC;\n",
              "    }\n",
              "\n",
              "    [theme=dark] .colab-df-convert:hover {\n",
              "      background-color: #434B5C;\n",
              "      box-shadow: 0px 1px 3px 1px rgba(0, 0, 0, 0.15);\n",
              "      filter: drop-shadow(0px 1px 2px rgba(0, 0, 0, 0.3));\n",
              "      fill: #FFFFFF;\n",
              "    }\n",
              "  </style>\n",
              "\n",
              "      <script>\n",
              "        const buttonEl =\n",
              "          document.querySelector('#df-18c1e2cd-b18e-40b6-9a43-41a83ab16a9b button.colab-df-convert');\n",
              "        buttonEl.style.display =\n",
              "          google.colab.kernel.accessAllowed ? 'block' : 'none';\n",
              "\n",
              "        async function convertToInteractive(key) {\n",
              "          const element = document.querySelector('#df-18c1e2cd-b18e-40b6-9a43-41a83ab16a9b');\n",
              "          const dataTable =\n",
              "            await google.colab.kernel.invokeFunction('convertToInteractive',\n",
              "                                                     [key], {});\n",
              "          if (!dataTable) return;\n",
              "\n",
              "          const docLinkHtml = 'Like what you see? Visit the ' +\n",
              "            '<a target=\"_blank\" href=https://colab.research.google.com/notebooks/data_table.ipynb>data table notebook</a>'\n",
              "            + ' to learn more about interactive tables.';\n",
              "          element.innerHTML = '';\n",
              "          dataTable['output_type'] = 'display_data';\n",
              "          await google.colab.output.renderOutput(dataTable, element);\n",
              "          const docLink = document.createElement('div');\n",
              "          docLink.innerHTML = docLinkHtml;\n",
              "          element.appendChild(docLink);\n",
              "        }\n",
              "      </script>\n",
              "    </div>\n",
              "  </div>\n",
              "  "
            ]
          },
          "metadata": {},
          "execution_count": 7
        }
      ]
    },
    {
      "cell_type": "markdown",
      "source": [
        "## Sanitize speaker names\n",
        "\n",
        "### Collapse \"Michael: \" into \"Michael\" and similar examples\n",
        "\n",
        "Note: We decided against doing this because the lines corresponding to these\n",
        "speaker names with colons are poor quality as can be observed below. This is likely because the dataset\n",
        "is compiled from a variety of sources.\n",
        "\n",
        "No need to explicitly drop these, we filter out the top 40 characters in terms of number of lines and these ones don't make that cut either way.\n"
      ],
      "metadata": {
        "id": "CVnt0lWBs47i"
      }
    },
    {
      "cell_type": "code",
      "source": [
        "df[df[\"speaker\"] == \"Michael: \"]"
      ],
      "metadata": {
        "colab": {
          "base_uri": "https://localhost:8080/",
          "height": 423
        },
        "id": "T0xITrg4tBxx",
        "outputId": "46e75946-4c04-48de-80f6-bd010a71110f"
      },
      "execution_count": null,
      "outputs": [
        {
          "output_type": "execute_result",
          "data": {
            "text/plain": [
              "            title  scene    speaker  \\\n",
              "31793  Happy Hour   4846  Michael:    \n",
              "31795  Happy Hour   4846  Michael:    \n",
              "31797  Happy Hour   4846  Michael:    \n",
              "31799  Happy Hour   4846  Michael:    \n",
              "31801  Happy Hour   4846  Michael:    \n",
              "...           ...    ...        ...   \n",
              "32088  Happy Hour   4888  Michael:    \n",
              "32090  Happy Hour   4888  Michael:    \n",
              "32102  Happy Hour   4890  Michael:    \n",
              "32145  Happy Hour   4896  Michael:    \n",
              "32148  Happy Hour   4896  Michael:    \n",
              "\n",
              "                                                    line  \n",
              "31793                                    w many is that?  \n",
              "31795                                  unt the last one.  \n",
              "31797                                      , new record!  \n",
              "31799                           , what did you do today?  \n",
              "31801  , yeah, sitting on your big fat butt. Alright,...  \n",
              "...                                                  ...  \n",
              "32088                                              is I.  \n",
              "32090                                       , hey guys.   \n",
              "32102                         y, Julie! You having fun?   \n",
              "32145  lperts, wait up. Oh, what a great night. Got t...  \n",
              "32148  think I did. But I can't take all of the credi...  \n",
              "\n",
              "[74 rows x 4 columns]"
            ],
            "text/html": [
              "\n",
              "  <div id=\"df-0072fc27-dc4e-4186-b97a-212fd87d380c\">\n",
              "    <div class=\"colab-df-container\">\n",
              "      <div>\n",
              "<style scoped>\n",
              "    .dataframe tbody tr th:only-of-type {\n",
              "        vertical-align: middle;\n",
              "    }\n",
              "\n",
              "    .dataframe tbody tr th {\n",
              "        vertical-align: top;\n",
              "    }\n",
              "\n",
              "    .dataframe thead th {\n",
              "        text-align: right;\n",
              "    }\n",
              "</style>\n",
              "<table border=\"1\" class=\"dataframe\">\n",
              "  <thead>\n",
              "    <tr style=\"text-align: right;\">\n",
              "      <th></th>\n",
              "      <th>title</th>\n",
              "      <th>scene</th>\n",
              "      <th>speaker</th>\n",
              "      <th>line</th>\n",
              "    </tr>\n",
              "  </thead>\n",
              "  <tbody>\n",
              "    <tr>\n",
              "      <th>31793</th>\n",
              "      <td>Happy Hour</td>\n",
              "      <td>4846</td>\n",
              "      <td>Michael:</td>\n",
              "      <td>w many is that?</td>\n",
              "    </tr>\n",
              "    <tr>\n",
              "      <th>31795</th>\n",
              "      <td>Happy Hour</td>\n",
              "      <td>4846</td>\n",
              "      <td>Michael:</td>\n",
              "      <td>unt the last one.</td>\n",
              "    </tr>\n",
              "    <tr>\n",
              "      <th>31797</th>\n",
              "      <td>Happy Hour</td>\n",
              "      <td>4846</td>\n",
              "      <td>Michael:</td>\n",
              "      <td>, new record!</td>\n",
              "    </tr>\n",
              "    <tr>\n",
              "      <th>31799</th>\n",
              "      <td>Happy Hour</td>\n",
              "      <td>4846</td>\n",
              "      <td>Michael:</td>\n",
              "      <td>, what did you do today?</td>\n",
              "    </tr>\n",
              "    <tr>\n",
              "      <th>31801</th>\n",
              "      <td>Happy Hour</td>\n",
              "      <td>4846</td>\n",
              "      <td>Michael:</td>\n",
              "      <td>, yeah, sitting on your big fat butt. Alright,...</td>\n",
              "    </tr>\n",
              "    <tr>\n",
              "      <th>...</th>\n",
              "      <td>...</td>\n",
              "      <td>...</td>\n",
              "      <td>...</td>\n",
              "      <td>...</td>\n",
              "    </tr>\n",
              "    <tr>\n",
              "      <th>32088</th>\n",
              "      <td>Happy Hour</td>\n",
              "      <td>4888</td>\n",
              "      <td>Michael:</td>\n",
              "      <td>is I.</td>\n",
              "    </tr>\n",
              "    <tr>\n",
              "      <th>32090</th>\n",
              "      <td>Happy Hour</td>\n",
              "      <td>4888</td>\n",
              "      <td>Michael:</td>\n",
              "      <td>, hey guys.</td>\n",
              "    </tr>\n",
              "    <tr>\n",
              "      <th>32102</th>\n",
              "      <td>Happy Hour</td>\n",
              "      <td>4890</td>\n",
              "      <td>Michael:</td>\n",
              "      <td>y, Julie! You having fun?</td>\n",
              "    </tr>\n",
              "    <tr>\n",
              "      <th>32145</th>\n",
              "      <td>Happy Hour</td>\n",
              "      <td>4896</td>\n",
              "      <td>Michael:</td>\n",
              "      <td>lperts, wait up. Oh, what a great night. Got t...</td>\n",
              "    </tr>\n",
              "    <tr>\n",
              "      <th>32148</th>\n",
              "      <td>Happy Hour</td>\n",
              "      <td>4896</td>\n",
              "      <td>Michael:</td>\n",
              "      <td>think I did. But I can't take all of the credi...</td>\n",
              "    </tr>\n",
              "  </tbody>\n",
              "</table>\n",
              "<p>74 rows × 4 columns</p>\n",
              "</div>\n",
              "      <button class=\"colab-df-convert\" onclick=\"convertToInteractive('df-0072fc27-dc4e-4186-b97a-212fd87d380c')\"\n",
              "              title=\"Convert this dataframe to an interactive table.\"\n",
              "              style=\"display:none;\">\n",
              "        \n",
              "  <svg xmlns=\"http://www.w3.org/2000/svg\" height=\"24px\"viewBox=\"0 0 24 24\"\n",
              "       width=\"24px\">\n",
              "    <path d=\"M0 0h24v24H0V0z\" fill=\"none\"/>\n",
              "    <path d=\"M18.56 5.44l.94 2.06.94-2.06 2.06-.94-2.06-.94-.94-2.06-.94 2.06-2.06.94zm-11 1L8.5 8.5l.94-2.06 2.06-.94-2.06-.94L8.5 2.5l-.94 2.06-2.06.94zm10 10l.94 2.06.94-2.06 2.06-.94-2.06-.94-.94-2.06-.94 2.06-2.06.94z\"/><path d=\"M17.41 7.96l-1.37-1.37c-.4-.4-.92-.59-1.43-.59-.52 0-1.04.2-1.43.59L10.3 9.45l-7.72 7.72c-.78.78-.78 2.05 0 2.83L4 21.41c.39.39.9.59 1.41.59.51 0 1.02-.2 1.41-.59l7.78-7.78 2.81-2.81c.8-.78.8-2.07 0-2.86zM5.41 20L4 18.59l7.72-7.72 1.47 1.35L5.41 20z\"/>\n",
              "  </svg>\n",
              "      </button>\n",
              "      \n",
              "  <style>\n",
              "    .colab-df-container {\n",
              "      display:flex;\n",
              "      flex-wrap:wrap;\n",
              "      gap: 12px;\n",
              "    }\n",
              "\n",
              "    .colab-df-convert {\n",
              "      background-color: #E8F0FE;\n",
              "      border: none;\n",
              "      border-radius: 50%;\n",
              "      cursor: pointer;\n",
              "      display: none;\n",
              "      fill: #1967D2;\n",
              "      height: 32px;\n",
              "      padding: 0 0 0 0;\n",
              "      width: 32px;\n",
              "    }\n",
              "\n",
              "    .colab-df-convert:hover {\n",
              "      background-color: #E2EBFA;\n",
              "      box-shadow: 0px 1px 2px rgba(60, 64, 67, 0.3), 0px 1px 3px 1px rgba(60, 64, 67, 0.15);\n",
              "      fill: #174EA6;\n",
              "    }\n",
              "\n",
              "    [theme=dark] .colab-df-convert {\n",
              "      background-color: #3B4455;\n",
              "      fill: #D2E3FC;\n",
              "    }\n",
              "\n",
              "    [theme=dark] .colab-df-convert:hover {\n",
              "      background-color: #434B5C;\n",
              "      box-shadow: 0px 1px 3px 1px rgba(0, 0, 0, 0.15);\n",
              "      filter: drop-shadow(0px 1px 2px rgba(0, 0, 0, 0.3));\n",
              "      fill: #FFFFFF;\n",
              "    }\n",
              "  </style>\n",
              "\n",
              "      <script>\n",
              "        const buttonEl =\n",
              "          document.querySelector('#df-0072fc27-dc4e-4186-b97a-212fd87d380c button.colab-df-convert');\n",
              "        buttonEl.style.display =\n",
              "          google.colab.kernel.accessAllowed ? 'block' : 'none';\n",
              "\n",
              "        async function convertToInteractive(key) {\n",
              "          const element = document.querySelector('#df-0072fc27-dc4e-4186-b97a-212fd87d380c');\n",
              "          const dataTable =\n",
              "            await google.colab.kernel.invokeFunction('convertToInteractive',\n",
              "                                                     [key], {});\n",
              "          if (!dataTable) return;\n",
              "\n",
              "          const docLinkHtml = 'Like what you see? Visit the ' +\n",
              "            '<a target=\"_blank\" href=https://colab.research.google.com/notebooks/data_table.ipynb>data table notebook</a>'\n",
              "            + ' to learn more about interactive tables.';\n",
              "          element.innerHTML = '';\n",
              "          dataTable['output_type'] = 'display_data';\n",
              "          await google.colab.output.renderOutput(dataTable, element);\n",
              "          const docLink = document.createElement('div');\n",
              "          docLink.innerHTML = docLinkHtml;\n",
              "          element.appendChild(docLink);\n",
              "        }\n",
              "      </script>\n",
              "    </div>\n",
              "  </div>\n",
              "  "
            ]
          },
          "metadata": {},
          "execution_count": 8
        }
      ]
    },
    {
      "cell_type": "markdown",
      "source": [
        "### Correct typos: Deangelo > DeAngelo"
      ],
      "metadata": {
        "id": "fwljeygDt80S"
      }
    },
    {
      "cell_type": "code",
      "source": [
        "typos = {\n",
        "    \"Deangelo\": \"DeAngelo\"\n",
        "}\n",
        "\n",
        "df[\"speaker\"] = df[\"speaker\"].replace(typos, regex=True)"
      ],
      "metadata": {
        "id": "SwVCdk_Cut4H"
      },
      "execution_count": null,
      "outputs": []
    },
    {
      "cell_type": "markdown",
      "source": [
        "### Drop lines from characters that don't fall in the top 40 in terms of number of lines"
      ],
      "metadata": {
        "id": "F5b_mr13sRc1"
      }
    },
    {
      "cell_type": "code",
      "source": [
        "TOP_COUNT = 40\n",
        "\n",
        "top_speakers = df.value_counts(\"speaker\").head(TOP_COUNT).keys()"
      ],
      "metadata": {
        "id": "KTY77Ma6sKBS"
      },
      "execution_count": null,
      "outputs": []
    },
    {
      "cell_type": "code",
      "source": [
        "df = df[df[\"speaker\"].isin(top_speakers)]\n",
        "df = df.reset_index(drop=True)\n",
        "df.info()"
      ],
      "metadata": {
        "colab": {
          "base_uri": "https://localhost:8080/"
        },
        "id": "yf6nywb-wshe",
        "outputId": "0edce6f3-a4de-4e5b-af45-846b7c9fe9bb"
      },
      "execution_count": null,
      "outputs": [
        {
          "output_type": "stream",
          "name": "stdout",
          "text": [
            "<class 'pandas.core.frame.DataFrame'>\n",
            "RangeIndex: 50300 entries, 0 to 50299\n",
            "Data columns (total 4 columns):\n",
            " #   Column   Non-Null Count  Dtype \n",
            "---  ------   --------------  ----- \n",
            " 0   title    50300 non-null  object\n",
            " 1   scene    50300 non-null  int64 \n",
            " 2   speaker  50300 non-null  object\n",
            " 3   line     50300 non-null  object\n",
            "dtypes: int64(1), object(3)\n",
            "memory usage: 1.5+ MB\n"
          ]
        }
      ]
    },
    {
      "cell_type": "markdown",
      "source": [
        "### Save new CSV to disk"
      ],
      "metadata": {
        "id": "Z-YWl-48x4hT"
      }
    },
    {
      "cell_type": "code",
      "source": [
        "with open(\"processed_data.csv\", \"w\") as out_fd:\n",
        "    df.to_csv(out_fd, index=False)"
      ],
      "metadata": {
        "id": "EHggPsoNxpmB"
      },
      "execution_count": null,
      "outputs": []
    },
    {
      "cell_type": "code",
      "source": [
        "!ls -lh"
      ],
      "metadata": {
        "colab": {
          "base_uri": "https://localhost:8080/"
        },
        "id": "E1mudIXMyMNs",
        "outputId": "c998e423-bbaf-499d-86e2-34254b4de42d"
      },
      "execution_count": null,
      "outputs": [
        {
          "output_type": "stream",
          "name": "stdout",
          "text": [
            "total 10M\n",
            "-rw-r--r-- 1 root root 4.6M Jan 18  2021 data.csv\n",
            "-rw-r--r-- 1 root root 4.0M Apr 17 14:36 processed_data.csv\n",
            "drwxr-xr-x 1 root root 4.0K Apr 13 13:30 sample_data\n",
            "-rw-r--r-- 1 root root 1.4M Apr 17 14:36 the-office-us-complete-dialoguetranscript.zip\n"
          ]
        }
      ]
    },
    {
      "cell_type": "code",
      "source": [
        "!head -10 processed_data.csv"
      ],
      "metadata": {
        "colab": {
          "base_uri": "https://localhost:8080/"
        },
        "id": "MnopHFxwz_e9",
        "outputId": "25a955eb-2b67-49b5-d63d-91e8b9e4e6a1"
      },
      "execution_count": null,
      "outputs": [
        {
          "output_type": "stream",
          "name": "stdout",
          "text": [
            "title,scene,speaker,line\n",
            "Pilot,1,Michael,All right Jim. Your quarterlies look very good. How are things at the library?\n",
            "Pilot,1,Jim,\"Oh, I told you. I couldn't close it. So...\"\n",
            "Pilot,1,Michael,\"So you've come to the master for guidance? Is this what you're saying, grasshopper?\"\n",
            "Pilot,1,Jim,\"Actually, you called me in here, but yeah.\"\n",
            "Pilot,1,Michael,\"All right. Well, let me show you how it's done.\"\n",
            "Pilot,2,Michael,\" Yes, I'd like to speak to your office manager, please. Yes, hello. This is Michael Scott. I am the Regional Manager of Dunder Mifflin Paper Products. Just wanted to talk to you manager-a-manger.  All right. Done deal. Thank you very much, sir. You're a gentleman and a scholar. Oh, I'm sorry. OK. I'm sorry. My mistake.  That was a woman I was talking to, so... She had a very low voice. Probably a smoker, so...  So that's the way it's done.\"\n",
            "Pilot,3,Michael,\"I've, uh, I've been at Dunder Mifflin for 12 years, the last four as Regional Manager. If you want to come through here... See we have the entire floor. So this is my kingdom, as far as the eye can see. This is our receptionist, Pam. Pam! Pam-Pam! Pam Beesly. Pam has been with us for... forever. Right, Pam?\"\n",
            "Pilot,3,Pam,Well. I don't know.\n",
            "Pilot,3,Michael,\"If you think she's cute now, you should have seen her a couple of years ago. \"\n"
          ]
        }
      ]
    },
    {
      "cell_type": "markdown",
      "source": [
        "# Convert .csv to a textual script for tokenization"
      ],
      "metadata": {
        "id": "kGznrYjyqo_J"
      }
    },
    {
      "cell_type": "markdown",
      "source": [
        "### Meta tokens for the script text"
      ],
      "metadata": {
        "id": "c4CZmtAW0ee7"
      }
    },
    {
      "cell_type": "code",
      "source": [
        "SCENE_START = \"<scene_start>\"\n",
        "SCENE_END = \"<scene_end>\"\n",
        "\n",
        "SPEAKER_START = \"<speaker_start>\"\n",
        "SPEAKER_END = \"<speaker_end>\"\n",
        "\n",
        "LINE_START = \"<line_start>\"\n",
        "LINE_END = \"<line_end>\"\n",
        "\n",
        "SENT_START = \"<sent_start>\"\n",
        "SENT_END = \"<sent_end>\"\n",
        "\n",
        "NEWLINE = \"<NEWLINE>\""
      ],
      "metadata": {
        "id": "8AecOdW40Rnz"
      },
      "execution_count": null,
      "outputs": []
    },
    {
      "cell_type": "code",
      "source": [
        "import csv\n",
        "import nltk\n",
        "import string\n",
        "from nltk.tokenize import sent_tokenize\n",
        "\n",
        "nltk.download('punkt')\n",
        "\n",
        "# Used to remove punctuation from strings\n",
        "translator = str.maketrans('', '', string.punctuation)\n",
        "\n",
        "with open(\"script.txt\", \"w\") as out_fd:\n",
        "    out_fd.write(SCENE_START + \" \")\n",
        "\n",
        "    with open(\"processed_data.csv\") as in_fd:\n",
        "        csv_reader = csv.DictReader(in_fd)\n",
        "\n",
        "        scene = 1\n",
        "        for row in csv_reader:\n",
        "            if int(row[\"scene\"]) > scene:\n",
        "                scene = int(row[\"scene\"])\n",
        "                out_fd.write(SCENE_END + \" \" + SCENE_START + \" \")\n",
        "\n",
        "            out_fd.write(f\"{SPEAKER_START} {row['speaker']} {SPEAKER_END} {LINE_START} \")\n",
        "            \n",
        "            # A line may have multiple sentences\n",
        "            sentences = sent_tokenize(row['line'])\n",
        "            for sentence in sentences:\n",
        "                sentence = sentence.translate(translator)\n",
        "                out_fd.write(f\"{SENT_START} {sentence} {SENT_END} \")\n",
        "\n",
        "            out_fd.write(LINE_END + \" \")\n",
        "\n",
        "    out_fd.write(SCENE_END + \" \")"
      ],
      "metadata": {
        "colab": {
          "base_uri": "https://localhost:8080/"
        },
        "id": "nhwwQDiLqnyg",
        "outputId": "e51bec6a-3a83-4e05-b81d-cf0658abeb2a"
      },
      "execution_count": null,
      "outputs": [
        {
          "output_type": "stream",
          "name": "stderr",
          "text": [
            "[nltk_data] Downloading package punkt to /root/nltk_data...\n",
            "[nltk_data]   Unzipping tokenizers/punkt.zip.\n"
          ]
        }
      ]
    },
    {
      "cell_type": "code",
      "source": [
        "# Checking the first 500 characters of the file\n",
        "!head -c500 script.txt"
      ],
      "metadata": {
        "colab": {
          "base_uri": "https://localhost:8080/"
        },
        "id": "qFFLJnvf12uP",
        "outputId": "4626d1f3-64bd-41cc-ac78-7f206e423d4e"
      },
      "execution_count": null,
      "outputs": [
        {
          "output_type": "stream",
          "name": "stdout",
          "text": [
            "<scene_start> <speaker_start> Michael <speaker_end> <line_start> <sent_start> All right Jim <sent_end> <sent_start> Your quarterlies look very good <sent_end> <sent_start> How are things at the library <sent_end> <line_end> <speaker_start> Jim <speaker_end> <line_start> <sent_start> Oh I told you <sent_end> <sent_start> I couldnt close it <sent_end> <sent_start> So <sent_end> <line_end> <speaker_start> Michael <speaker_end> <line_start> <sent_start> So youve come to the master for guidance <sent"
          ]
        }
      ]
    },
    {
      "cell_type": "code",
      "source": [
        "import csv\n",
        "import nltk\n",
        "import string\n",
        "from nltk.tokenize import sent_tokenize\n",
        "\n",
        "nltk.download('punkt')\n",
        "\n",
        "# Used to remove punctuation from strings\n",
        "translator = str.maketrans('', '', string.punctuation)\n",
        "\n",
        "with open(\"script_simple.txt\", \"w\") as out_fd:\n",
        "    with open(\"processed_data.csv\") as in_fd:\n",
        "        csv_reader = csv.DictReader(in_fd)\n",
        "\n",
        "        scene = 1\n",
        "        for row in csv_reader:\n",
        "            if int(row[\"scene\"]) > scene:\n",
        "                scene = int(row[\"scene\"])\n",
        "\n",
        "            out_fd.write(f\"{row['speaker']}: {row['line']}\\n\")"
      ],
      "metadata": {
        "colab": {
          "base_uri": "https://localhost:8080/"
        },
        "id": "NUBa82fvTiyz",
        "outputId": "7a0bc83e-c033-4eb3-9e65-24ed5ed313c0"
      },
      "execution_count": null,
      "outputs": [
        {
          "output_type": "stream",
          "name": "stderr",
          "text": [
            "[nltk_data] Downloading package punkt to /root/nltk_data...\n",
            "[nltk_data]   Package punkt is already up-to-date!\n"
          ]
        }
      ]
    },
    {
      "cell_type": "code",
      "source": [
        "# Checking the first 500 characters of the file\n",
        "!head -c500 script_simple.txt"
      ],
      "metadata": {
        "colab": {
          "base_uri": "https://localhost:8080/"
        },
        "id": "pfIXpWE4T-M9",
        "outputId": "af9c9470-da11-46f1-e4f7-1e65b75b7c68"
      },
      "execution_count": null,
      "outputs": [
        {
          "output_type": "stream",
          "name": "stdout",
          "text": [
            "Michael: All right Jim. Your quarterlies look very good. How are things at the library?\n",
            "Jim: Oh, I told you. I couldn't close it. So...\n",
            "Michael: So you've come to the master for guidance? Is this what you're saying, grasshopper?\n",
            "Jim: Actually, you called me in here, but yeah.\n",
            "Michael: All right. Well, let me show you how it's done.\n",
            "Michael:  Yes, I'd like to speak to your office manager, please. Yes, hello. This is Michael Scott. I am the Regional Manager of Dunder Mifflin Paper Products. Just w"
          ]
        }
      ]
    },
    {
      "cell_type": "markdown",
      "source": [
        "# Train word embedding model"
      ],
      "metadata": {
        "id": "1VE-OEAW21FK"
      }
    },
    {
      "cell_type": "code",
      "source": [
        "from gensim.models import Word2Vec"
      ],
      "metadata": {
        "id": "usRJMUF0GyKa"
      },
      "execution_count": null,
      "outputs": []
    },
    {
      "cell_type": "code",
      "source": [
        "# Load the training script\n",
        "filename = \"script.txt\"\n",
        "raw_text = open(filename, \"r\").read()"
      ],
      "metadata": {
        "id": "z2rn6aH5AEhV"
      },
      "execution_count": null,
      "outputs": []
    },
    {
      "cell_type": "markdown",
      "source": [
        "### Separate punctuation from words"
      ],
      "metadata": {
        "id": "fPlqju33bzpF"
      }
    },
    {
      "cell_type": "code",
      "source": [
        "PUNCTUATIONS = set(['.', '[', ']', '(', ')', ';', ':', \"'\", '/', '\"', ',', '?', '*', '!', '-', '$', '%', '&'])\n",
        "\n",
        "for punct in PUNCTUATIONS:\n",
        "    raw_text = raw_text.replace(punct, f\" {punct} \")\n",
        "\n",
        "# Keras' tokenizer gets rid of \\n\n",
        "raw_text = raw_text.replace(\"\\n\", f\" {NEWLINE} \")"
      ],
      "metadata": {
        "id": "bukwI7RMb209"
      },
      "execution_count": null,
      "outputs": []
    },
    {
      "cell_type": "code",
      "source": [
        "raw_text[:120]"
      ],
      "metadata": {
        "colab": {
          "base_uri": "https://localhost:8080/",
          "height": 35
        },
        "id": "w_0KhAkPcK4R",
        "outputId": "c64a8d33-c1ba-4ab3-8073-8c31cd061fae"
      },
      "execution_count": null,
      "outputs": [
        {
          "output_type": "execute_result",
          "data": {
            "text/plain": [
              "'<scene_start> <speaker_start> Michael <speaker_end> <line_start> <sent_start> All right Jim <sent_end> <sent_start> Your'"
            ],
            "application/vnd.google.colaboratory.intrinsic+json": {
              "type": "string"
            }
          },
          "metadata": {},
          "execution_count": 23
        }
      ]
    },
    {
      "cell_type": "code",
      "source": [
        "# Convert all tokens to lower-case\n",
        "tokens = raw_text.split()\n",
        "tokens = [token.lower() for token in tokens]"
      ],
      "metadata": {
        "id": "GVj-NolvcfK5"
      },
      "execution_count": null,
      "outputs": []
    },
    {
      "cell_type": "code",
      "source": [
        "tokens[:20]"
      ],
      "metadata": {
        "colab": {
          "base_uri": "https://localhost:8080/"
        },
        "id": "TRqvdrmcbLfj",
        "outputId": "5fbfa071-2cc7-4fd5-a11c-863c1d05e4a3"
      },
      "execution_count": null,
      "outputs": [
        {
          "output_type": "execute_result",
          "data": {
            "text/plain": [
              "['<scene_start>',\n",
              " '<speaker_start>',\n",
              " 'michael',\n",
              " '<speaker_end>',\n",
              " '<line_start>',\n",
              " '<sent_start>',\n",
              " 'all',\n",
              " 'right',\n",
              " 'jim',\n",
              " '<sent_end>',\n",
              " '<sent_start>',\n",
              " 'your',\n",
              " 'quarterlies',\n",
              " 'look',\n",
              " 'very',\n",
              " 'good',\n",
              " '<sent_end>',\n",
              " '<sent_start>',\n",
              " 'how',\n",
              " 'are']"
            ]
          },
          "metadata": {},
          "execution_count": 25
        }
      ]
    },
    {
      "cell_type": "code",
      "source": [
        "EMBED_SIZE = 500\n",
        "EMBED_WINDOW = 5\n",
        "\n",
        "embed_model = Word2Vec(\n",
        "    sentences=[tokens],\n",
        "    window=EMBED_WINDOW,\n",
        "    vector_size=EMBED_SIZE,\n",
        "    min_count=1\n",
        ")"
      ],
      "metadata": {
        "id": "Eum2_sS5Iote"
      },
      "execution_count": null,
      "outputs": []
    },
    {
      "cell_type": "code",
      "source": [
        "embed_model.wv[\"jim\"]"
      ],
      "metadata": {
        "colab": {
          "base_uri": "https://localhost:8080/"
        },
        "id": "82knCiRyOIrx",
        "outputId": "f1210b83-50e9-4bf1-bceb-1ed0700cdcf9"
      },
      "execution_count": null,
      "outputs": [
        {
          "output_type": "execute_result",
          "data": {
            "text/plain": [
              "array([ 0.05683827,  0.07460272,  0.10821213,  0.05777089, -0.17373377,\n",
              "       -0.14442244,  0.04113121,  0.1825048 ,  0.00788119, -0.01400988,\n",
              "        0.00184295, -0.03616369, -0.01085001,  0.0170279 , -0.00413951,\n",
              "       -0.17434353, -0.10207999, -0.11941896, -0.09581979, -0.01662477,\n",
              "        0.03941058, -0.01034593,  0.08476935,  0.02261935,  0.02182893,\n",
              "        0.04133075,  0.0043387 ,  0.03632802, -0.12564975, -0.00777286,\n",
              "        0.02424748, -0.03542039,  0.0517544 , -0.01483318,  0.0609352 ,\n",
              "        0.1090412 ,  0.09649572, -0.10784965, -0.02514658, -0.09875674,\n",
              "       -0.02972997, -0.07079598, -0.19792105,  0.00198806, -0.12602395,\n",
              "       -0.12812932, -0.17533307,  0.07020294, -0.0575763 , -0.03306195,\n",
              "       -0.11176058, -0.08727988, -0.01393087, -0.15764828,  0.08079292,\n",
              "       -0.09074946,  0.04801969, -0.03909478, -0.01744758,  0.06567781,\n",
              "        0.08137904, -0.06959081,  0.08807033, -0.11721801, -0.10361371,\n",
              "        0.07798889,  0.00590507,  0.07249289, -0.05799   , -0.03436828,\n",
              "       -0.10983877,  0.02797933,  0.0090374 , -0.06434375,  0.14320835,\n",
              "        0.16730358, -0.05730583, -0.03595567,  0.04189818,  0.00512092,\n",
              "        0.01200238,  0.07180702, -0.02922617,  0.12587889, -0.17077853,\n",
              "        0.04118038,  0.02583525,  0.12067529,  0.07827076,  0.11773577,\n",
              "        0.11347593,  0.02940644, -0.06956406, -0.02630565,  0.0989562 ,\n",
              "        0.07099231,  0.05248707, -0.0227683 ,  0.06669802, -0.0338866 ,\n",
              "       -0.05187137,  0.04817162, -0.00626577,  0.12775238,  0.09773449,\n",
              "        0.03653938, -0.02361347,  0.10010716, -0.08204576,  0.03293248,\n",
              "        0.03755638, -0.05742897,  0.02712332,  0.09396025, -0.04583157,\n",
              "        0.03988668,  0.03851054, -0.1055479 ,  0.00302871, -0.16650586,\n",
              "       -0.01627113, -0.01759375,  0.13403834, -0.10092735,  0.05175991,\n",
              "        0.02661388, -0.19909029,  0.03989072, -0.03095228,  0.08361524,\n",
              "        0.14913303,  0.0672688 , -0.03159693, -0.08891335, -0.00359426,\n",
              "        0.10160097, -0.02125372, -0.07719759, -0.09611225, -0.2299581 ,\n",
              "        0.07125612, -0.10173935, -0.00668764, -0.04305932,  0.11346422,\n",
              "        0.08105922,  0.05269945, -0.12293739,  0.06097317,  0.01806692,\n",
              "        0.13740133, -0.03185502, -0.02093058,  0.16976736, -0.18882062,\n",
              "        0.04594043,  0.08878879, -0.07023964, -0.14053419,  0.03782617,\n",
              "        0.00217113, -0.01462369, -0.08718296, -0.1294535 , -0.07605109,\n",
              "        0.07115323,  0.09680452,  0.07375607, -0.01843684,  0.0488926 ,\n",
              "        0.05580604,  0.1335422 , -0.01456836,  0.18646944, -0.00473678,\n",
              "       -0.15611935,  0.04483093, -0.03283375,  0.05319757,  0.12054242,\n",
              "       -0.07651047,  0.05196932, -0.04476851,  0.03137628, -0.06084031,\n",
              "       -0.0401413 , -0.10531488, -0.03417845, -0.04635876,  0.00871056,\n",
              "        0.1412691 , -0.08360671, -0.00610893, -0.03506383, -0.05642263,\n",
              "        0.01972247, -0.03548634, -0.11327971,  0.03665232,  0.07292749,\n",
              "        0.01508471,  0.01423084,  0.05002077, -0.01732092,  0.1250959 ,\n",
              "        0.07423266,  0.0090842 ,  0.03637275, -0.13610637, -0.0177592 ,\n",
              "       -0.02486455, -0.17031576,  0.00126445, -0.09507921, -0.05740054,\n",
              "       -0.20858094,  0.00430711, -0.01096002, -0.09070168, -0.13565291,\n",
              "       -0.04366213,  0.04816577,  0.07703155, -0.03241409,  0.04364381,\n",
              "        0.06764363,  0.11323475, -0.00490001, -0.0042035 ,  0.05669397,\n",
              "        0.0236922 , -0.07972378, -0.0192738 , -0.01615701, -0.03591161,\n",
              "        0.01647318, -0.1221188 , -0.18763274,  0.07725731, -0.04266635,\n",
              "       -0.0319972 , -0.0868054 , -0.1833469 ,  0.17395072,  0.01183113,\n",
              "       -0.00476275, -0.02343789, -0.03430877,  0.06953052,  0.03087495,\n",
              "        0.03870976, -0.15414685,  0.04333659, -0.05197342, -0.09533469,\n",
              "        0.11620779,  0.01526045,  0.11763179, -0.11827645,  0.01088518,\n",
              "       -0.05370884,  0.01051909, -0.1198783 ,  0.01899752,  0.02365224,\n",
              "        0.07831997, -0.08751513,  0.24720964, -0.09877341,  0.00090002,\n",
              "       -0.1094069 ,  0.08258675,  0.12385725, -0.03595709, -0.01927427,\n",
              "       -0.00048002,  0.00693169, -0.13297555, -0.03306912,  0.05402966,\n",
              "       -0.05658458, -0.03032399, -0.19289206, -0.00910081,  0.15266135,\n",
              "       -0.06696898,  0.09194046, -0.0855052 ,  0.11715307, -0.02691618,\n",
              "       -0.08907993,  0.23136973, -0.03780781,  0.01501802,  0.16575986,\n",
              "        0.07790152,  0.12698966, -0.07900273,  0.03221681, -0.12393258,\n",
              "       -0.16490632,  0.15676297, -0.04630506,  0.0071837 ,  0.0508897 ,\n",
              "       -0.1777135 ,  0.01813528,  0.07501784, -0.01610285, -0.03839265,\n",
              "       -0.03810614, -0.06527149,  0.05950687,  0.01857338,  0.16689657,\n",
              "        0.00570099,  0.04743543, -0.0257671 ,  0.02688791, -0.05046107,\n",
              "        0.12362146, -0.03592707,  0.03475882, -0.10342611, -0.04637163,\n",
              "       -0.0182659 , -0.04555789, -0.11843424,  0.0684479 , -0.03452634,\n",
              "        0.12286731,  0.01201196,  0.04176909,  0.08323343, -0.03992773,\n",
              "       -0.05432273,  0.00828639,  0.09314409, -0.07737666, -0.13587599,\n",
              "        0.02092794,  0.06633012,  0.12702703, -0.14658068,  0.0712201 ,\n",
              "       -0.02834198, -0.23638648,  0.02107953, -0.054529  ,  0.04466253,\n",
              "        0.01168499, -0.0612695 , -0.10157637,  0.04012193, -0.06508309,\n",
              "        0.17968838, -0.05530543, -0.01522975, -0.0315876 , -0.05578379,\n",
              "       -0.03235721,  0.14656635,  0.11639014,  0.04002063, -0.11091127,\n",
              "       -0.08860034,  0.01031842,  0.05634566, -0.10415463,  0.04316127,\n",
              "        0.04148521, -0.13463691, -0.01725501, -0.00092997, -0.02857273,\n",
              "       -0.05282659, -0.0632111 , -0.01494847, -0.15029468, -0.03042894,\n",
              "        0.00490391, -0.06362496,  0.13497436,  0.11791521, -0.02425094,\n",
              "        0.00077163,  0.00684435,  0.08082215, -0.01327637, -0.06566305,\n",
              "       -0.03062032,  0.04626427, -0.06499791,  0.01217073,  0.19082178,\n",
              "        0.1937972 ,  0.02076339, -0.07167281,  0.01887695,  0.05512844,\n",
              "       -0.09657839, -0.0107891 , -0.12368575, -0.13846944, -0.04507095,\n",
              "       -0.03886361,  0.01090214,  0.11975289,  0.01137513, -0.1133875 ,\n",
              "       -0.0274461 , -0.06922845, -0.01007819, -0.0519061 , -0.04615786,\n",
              "        0.03698966,  0.10871999, -0.05006785,  0.04911257, -0.16898566,\n",
              "       -0.00228444,  0.08234947, -0.10955106,  0.1218252 , -0.0676472 ,\n",
              "        0.07044023, -0.04470721, -0.02358965, -0.11182638, -0.02691948,\n",
              "       -0.02681611,  0.08736907, -0.02978353, -0.08489691, -0.160612  ,\n",
              "        0.0807478 , -0.03459264, -0.01403807,  0.01273739, -0.01716195,\n",
              "        0.07850236, -0.08430008,  0.11887845, -0.05058014,  0.28256786,\n",
              "       -0.00442251,  0.05360322,  0.04666567,  0.01038851, -0.02589196,\n",
              "        0.06253256,  0.06236319,  0.04509615, -0.11551768,  0.08703518,\n",
              "       -0.06027268, -0.01625589, -0.0455998 ,  0.06721827, -0.0390033 ,\n",
              "        0.08028655, -0.03696704,  0.03122718,  0.00405522, -0.15948954,\n",
              "       -0.03042719, -0.04753706, -0.19834791, -0.0719664 ,  0.14983927,\n",
              "       -0.09299329,  0.01893928,  0.05575681, -0.04755326,  0.09794249,\n",
              "        0.06944372,  0.06099252,  0.06812495, -0.0202086 , -0.11201712,\n",
              "       -0.08160292, -0.09301256, -0.10655758,  0.20939213,  0.02426344,\n",
              "        0.03400593, -0.0427492 ,  0.10861278, -0.00592604,  0.01163337,\n",
              "        0.00822889, -0.02722453,  0.14647964,  0.11475156,  0.11430486,\n",
              "       -0.00166067, -0.05843485, -0.03028877, -0.03062269,  0.02226022],\n",
              "      dtype=float32)"
            ]
          },
          "metadata": {},
          "execution_count": 27
        }
      ]
    },
    {
      "cell_type": "markdown",
      "source": [
        "### Tokenize and encode the text"
      ],
      "metadata": {
        "id": "Ivu6FetMAXAy"
      }
    },
    {
      "cell_type": "code",
      "source": [
        "import numpy as np\n",
        "from keras.models import Model, Sequential\n",
        "from keras.layers import Embedding, Dense, LSTM, Dropout, Input\n",
        "from keras.utils import to_categorical\n",
        "from keras.preprocessing.text import Tokenizer"
      ],
      "metadata": {
        "id": "2Vo1xTGy2-h8"
      },
      "execution_count": null,
      "outputs": []
    },
    {
      "cell_type": "code",
      "source": [
        "tokenizer = Tokenizer()\n",
        "tokenizer.fit_on_texts([tokens])\n",
        "encoded = tokenizer.texts_to_sequences([tokens])[0]"
      ],
      "metadata": {
        "id": "qeAWCeYWAR70"
      },
      "execution_count": null,
      "outputs": []
    },
    {
      "cell_type": "code",
      "source": [
        "encoded[:10]"
      ],
      "metadata": {
        "colab": {
          "base_uri": "https://localhost:8080/"
        },
        "id": "H2o6-zc0Aa2L",
        "outputId": "d9886052-fe61-44cd-bc5e-24ee760a1d5b"
      },
      "execution_count": null,
      "outputs": [
        {
          "output_type": "execute_result",
          "data": {
            "text/plain": [
              "[14, 3, 11, 4, 5, 1, 49, 54, 19, 2]"
            ]
          },
          "metadata": {},
          "execution_count": 30
        }
      ]
    },
    {
      "cell_type": "code",
      "source": [
        "vocab_size = len(tokenizer.word_index) + 1\n",
        "print(vocab_size)"
      ],
      "metadata": {
        "colab": {
          "base_uri": "https://localhost:8080/"
        },
        "id": "KrINAPipBanv",
        "outputId": "f41d5685-6e00-4a22-ec02-7c5785ceb8c5"
      },
      "execution_count": null,
      "outputs": [
        {
          "output_type": "stream",
          "name": "stdout",
          "text": [
            "20222\n"
          ]
        }
      ]
    },
    {
      "cell_type": "markdown",
      "source": [
        "### Generate input and output sequences"
      ],
      "metadata": {
        "id": "DjAHEuzxA4q0"
      }
    },
    {
      "cell_type": "code",
      "source": [
        "INPUT_SEQ_LEN = 50\n",
        "STEP_SIZE = 5\n",
        "\n",
        "X = []\n",
        "Y = []\n",
        "\n",
        "for idx in range(0, len(encoded) - INPUT_SEQ_LEN, STEP_SIZE):\n",
        "    X.append(encoded[idx : idx + INPUT_SEQ_LEN])\n",
        "    Y.append(encoded[idx + INPUT_SEQ_LEN])\n",
        "\n",
        "X = np.array(X)\n",
        "Y = np.array(Y)"
      ],
      "metadata": {
        "id": "gLhdBO4vBcj4"
      },
      "execution_count": null,
      "outputs": []
    },
    {
      "cell_type": "markdown",
      "source": [
        "### Build embeddings matrix"
      ],
      "metadata": {
        "id": "IUhfv_U5cB35"
      }
    },
    {
      "cell_type": "code",
      "source": [
        "embedding_matrix = np.zeros((vocab_size, EMBED_SIZE))\n",
        "for word, idx in tokenizer.word_index.items():\n",
        "    embedding_vector = embed_model.wv[word]\n",
        "    embedding_matrix[idx] = embedding_vector"
      ],
      "metadata": {
        "id": "ZgYnlE7Ebm2r"
      },
      "execution_count": null,
      "outputs": []
    },
    {
      "cell_type": "markdown",
      "source": [
        "# LSTM Model"
      ],
      "metadata": {
        "id": "J0tuXNJ9Ed3R"
      }
    },
    {
      "cell_type": "code",
      "source": [
        "def data_generator(X, Y, batch_size, shuffle):\n",
        "    while True:\n",
        "        # Shuffle the data\n",
        "        if shuffle:\n",
        "            indices = np.random.permutation(len(X))\n",
        "            X = X[indices]\n",
        "            Y = Y[indices]\n",
        "\n",
        "        # Generate batches\n",
        "        for i in range(0, len(X), batch_size):\n",
        "            X_batch = X[i:i+batch_size]\n",
        "            Y_batch = Y[i:i+batch_size]\n",
        "\n",
        "            # Convert labels to one-hot vectors\n",
        "            X_batch = to_categorical(X_batch, vocab_size)\n",
        "            Y_batch = to_categorical(Y_batch, vocab_size)\n",
        "\n",
        "            # Yield the batch\n",
        "            yield X_batch, Y_batch"
      ],
      "metadata": {
        "id": "fvPt6d9EFaVl"
      },
      "execution_count": null,
      "outputs": []
    },
    {
      "cell_type": "code",
      "source": [
        "model = Sequential()\n",
        "model.add(LSTM(200, input_shape=(INPUT_SEQ_LEN, vocab_size)))\n",
        "model.add(Dense(vocab_size, activation=\"softmax\"))\n",
        "model.compile(optimizer=\"rmsprop\", loss=\"categorical_crossentropy\")"
      ],
      "metadata": {
        "id": "i7R7V98_DWyD"
      },
      "execution_count": null,
      "outputs": []
    },
    {
      "cell_type": "code",
      "source": [
        "model.summary()"
      ],
      "metadata": {
        "colab": {
          "base_uri": "https://localhost:8080/"
        },
        "id": "2voF3Tjdbbjh",
        "outputId": "9cd1acfe-ff78-406c-a9ab-0a6d4a9f7dd7"
      },
      "execution_count": null,
      "outputs": [
        {
          "output_type": "stream",
          "name": "stdout",
          "text": [
            "Model: \"sequential\"\n",
            "_________________________________________________________________\n",
            " Layer (type)                Output Shape              Param #   \n",
            "=================================================================\n",
            " lstm (LSTM)                 (None, 200)               16338400  \n",
            "                                                                 \n",
            " dense (Dense)               (None, 20222)             4064622   \n",
            "                                                                 \n",
            "=================================================================\n",
            "Total params: 20,403,022\n",
            "Trainable params: 20,403,022\n",
            "Non-trainable params: 0\n",
            "_________________________________________________________________\n"
          ]
        }
      ]
    },
    {
      "cell_type": "code",
      "source": [
        "BATCH_SIZE = 128\n",
        "EPOCHS = 5\n",
        "STEPS_PER_EPOCH = len(X) // BATCH_SIZE"
      ],
      "metadata": {
        "id": "KOGPGYVoEq9Z"
      },
      "execution_count": null,
      "outputs": []
    },
    {
      "cell_type": "code",
      "source": [
        "from tensorflow.keras.callbacks import ModelCheckpoint\n",
        "\n",
        "filepath = \"weights.hdf5\"\n",
        "checkpoint = ModelCheckpoint(filepath, monitor='loss',\n",
        "                             verbose=1, save_best_only=True,\n",
        "                             mode='min')"
      ],
      "metadata": {
        "id": "NFzV-vITXVyh"
      },
      "execution_count": null,
      "outputs": []
    },
    {
      "cell_type": "code",
      "source": [
        "from tensorflow.keras.callbacks import ReduceLROnPlateau\n",
        "\n",
        "LEARNING_RATE = 0.01\n",
        "model.optimizer.lr = LEARNING_RATE\n",
        "reduce_lr = ReduceLROnPlateau(monitor='loss', factor=0.8,\n",
        "                              patience=1, min_lr=0.001)\n",
        "\n",
        "callbacks = [checkpoint, reduce_lr]"
      ],
      "metadata": {
        "id": "CwFjVL-oXYaT"
      },
      "execution_count": null,
      "outputs": []
    },
    {
      "cell_type": "code",
      "source": [
        "train_generator = data_generator(X, Y, BATCH_SIZE, shuffle=False)\n",
        "model.fit(train_generator, steps_per_epoch=STEPS_PER_EPOCH, epochs=EPOCHS, callbacks=callbacks)"
      ],
      "metadata": {
        "colab": {
          "base_uri": "https://localhost:8080/",
          "height": 371
        },
        "id": "FT30DKk7XeEE",
        "outputId": "ebcfe889-a4aa-4620-dd3a-54190f8d754e"
      },
      "execution_count": null,
      "outputs": [
        {
          "output_type": "stream",
          "name": "stdout",
          "text": [
            "Epoch 1/5\n",
            "  24/1544 [..............................] - ETA: 17:32 - loss: 6.7102"
          ]
        },
        {
          "output_type": "error",
          "ename": "KeyboardInterrupt",
          "evalue": "ignored",
          "traceback": [
            "\u001b[0;31m---------------------------------------------------------------------------\u001b[0m",
            "\u001b[0;31mKeyboardInterrupt\u001b[0m                         Traceback (most recent call last)",
            "\u001b[0;32m<ipython-input-40-c211cdfd5cb8>\u001b[0m in \u001b[0;36m<cell line: 2>\u001b[0;34m()\u001b[0m\n\u001b[1;32m      1\u001b[0m \u001b[0mtrain_generator\u001b[0m \u001b[0;34m=\u001b[0m \u001b[0mdata_generator\u001b[0m\u001b[0;34m(\u001b[0m\u001b[0mX\u001b[0m\u001b[0;34m,\u001b[0m \u001b[0mY\u001b[0m\u001b[0;34m,\u001b[0m \u001b[0mBATCH_SIZE\u001b[0m\u001b[0;34m,\u001b[0m \u001b[0mshuffle\u001b[0m\u001b[0;34m=\u001b[0m\u001b[0;32mFalse\u001b[0m\u001b[0;34m)\u001b[0m\u001b[0;34m\u001b[0m\u001b[0;34m\u001b[0m\u001b[0m\n\u001b[0;32m----> 2\u001b[0;31m \u001b[0mmodel\u001b[0m\u001b[0;34m.\u001b[0m\u001b[0mfit\u001b[0m\u001b[0;34m(\u001b[0m\u001b[0mtrain_generator\u001b[0m\u001b[0;34m,\u001b[0m \u001b[0msteps_per_epoch\u001b[0m\u001b[0;34m=\u001b[0m\u001b[0mSTEPS_PER_EPOCH\u001b[0m\u001b[0;34m,\u001b[0m \u001b[0mepochs\u001b[0m\u001b[0;34m=\u001b[0m\u001b[0mEPOCHS\u001b[0m\u001b[0;34m,\u001b[0m \u001b[0mcallbacks\u001b[0m\u001b[0;34m=\u001b[0m\u001b[0mcallbacks\u001b[0m\u001b[0;34m)\u001b[0m\u001b[0;34m\u001b[0m\u001b[0;34m\u001b[0m\u001b[0m\n\u001b[0m",
            "\u001b[0;32m/usr/local/lib/python3.9/dist-packages/keras/utils/traceback_utils.py\u001b[0m in \u001b[0;36merror_handler\u001b[0;34m(*args, **kwargs)\u001b[0m\n\u001b[1;32m     63\u001b[0m         \u001b[0mfiltered_tb\u001b[0m \u001b[0;34m=\u001b[0m \u001b[0;32mNone\u001b[0m\u001b[0;34m\u001b[0m\u001b[0;34m\u001b[0m\u001b[0m\n\u001b[1;32m     64\u001b[0m         \u001b[0;32mtry\u001b[0m\u001b[0;34m:\u001b[0m\u001b[0;34m\u001b[0m\u001b[0;34m\u001b[0m\u001b[0m\n\u001b[0;32m---> 65\u001b[0;31m             \u001b[0;32mreturn\u001b[0m \u001b[0mfn\u001b[0m\u001b[0;34m(\u001b[0m\u001b[0;34m*\u001b[0m\u001b[0margs\u001b[0m\u001b[0;34m,\u001b[0m \u001b[0;34m**\u001b[0m\u001b[0mkwargs\u001b[0m\u001b[0;34m)\u001b[0m\u001b[0;34m\u001b[0m\u001b[0;34m\u001b[0m\u001b[0m\n\u001b[0m\u001b[1;32m     66\u001b[0m         \u001b[0;32mexcept\u001b[0m \u001b[0mException\u001b[0m \u001b[0;32mas\u001b[0m \u001b[0me\u001b[0m\u001b[0;34m:\u001b[0m\u001b[0;34m\u001b[0m\u001b[0;34m\u001b[0m\u001b[0m\n\u001b[1;32m     67\u001b[0m             \u001b[0mfiltered_tb\u001b[0m \u001b[0;34m=\u001b[0m \u001b[0m_process_traceback_frames\u001b[0m\u001b[0;34m(\u001b[0m\u001b[0me\u001b[0m\u001b[0;34m.\u001b[0m\u001b[0m__traceback__\u001b[0m\u001b[0;34m)\u001b[0m\u001b[0;34m\u001b[0m\u001b[0;34m\u001b[0m\u001b[0m\n",
            "\u001b[0;32m/usr/local/lib/python3.9/dist-packages/keras/engine/training.py\u001b[0m in \u001b[0;36mfit\u001b[0;34m(self, x, y, batch_size, epochs, verbose, callbacks, validation_split, validation_data, shuffle, class_weight, sample_weight, initial_epoch, steps_per_epoch, validation_steps, validation_batch_size, validation_freq, max_queue_size, workers, use_multiprocessing)\u001b[0m\n\u001b[1;32m   1689\u001b[0m                             \u001b[0mlogs\u001b[0m \u001b[0;34m=\u001b[0m \u001b[0mtmp_logs\u001b[0m\u001b[0;34m\u001b[0m\u001b[0;34m\u001b[0m\u001b[0m\n\u001b[1;32m   1690\u001b[0m                             \u001b[0mend_step\u001b[0m \u001b[0;34m=\u001b[0m \u001b[0mstep\u001b[0m \u001b[0;34m+\u001b[0m \u001b[0mdata_handler\u001b[0m\u001b[0;34m.\u001b[0m\u001b[0mstep_increment\u001b[0m\u001b[0;34m\u001b[0m\u001b[0;34m\u001b[0m\u001b[0m\n\u001b[0;32m-> 1691\u001b[0;31m                             \u001b[0mcallbacks\u001b[0m\u001b[0;34m.\u001b[0m\u001b[0mon_train_batch_end\u001b[0m\u001b[0;34m(\u001b[0m\u001b[0mend_step\u001b[0m\u001b[0;34m,\u001b[0m \u001b[0mlogs\u001b[0m\u001b[0;34m)\u001b[0m\u001b[0;34m\u001b[0m\u001b[0;34m\u001b[0m\u001b[0m\n\u001b[0m\u001b[1;32m   1692\u001b[0m                             \u001b[0;32mif\u001b[0m \u001b[0mself\u001b[0m\u001b[0;34m.\u001b[0m\u001b[0mstop_training\u001b[0m\u001b[0;34m:\u001b[0m\u001b[0;34m\u001b[0m\u001b[0;34m\u001b[0m\u001b[0m\n\u001b[1;32m   1693\u001b[0m                                 \u001b[0;32mbreak\u001b[0m\u001b[0;34m\u001b[0m\u001b[0;34m\u001b[0m\u001b[0m\n",
            "\u001b[0;32m/usr/local/lib/python3.9/dist-packages/keras/callbacks.py\u001b[0m in \u001b[0;36mon_train_batch_end\u001b[0;34m(self, batch, logs)\u001b[0m\n\u001b[1;32m    473\u001b[0m         \"\"\"\n\u001b[1;32m    474\u001b[0m         \u001b[0;32mif\u001b[0m \u001b[0mself\u001b[0m\u001b[0;34m.\u001b[0m\u001b[0m_should_call_train_batch_hooks\u001b[0m\u001b[0;34m:\u001b[0m\u001b[0;34m\u001b[0m\u001b[0;34m\u001b[0m\u001b[0m\n\u001b[0;32m--> 475\u001b[0;31m             \u001b[0mself\u001b[0m\u001b[0;34m.\u001b[0m\u001b[0m_call_batch_hook\u001b[0m\u001b[0;34m(\u001b[0m\u001b[0mModeKeys\u001b[0m\u001b[0;34m.\u001b[0m\u001b[0mTRAIN\u001b[0m\u001b[0;34m,\u001b[0m \u001b[0;34m\"end\"\u001b[0m\u001b[0;34m,\u001b[0m \u001b[0mbatch\u001b[0m\u001b[0;34m,\u001b[0m \u001b[0mlogs\u001b[0m\u001b[0;34m=\u001b[0m\u001b[0mlogs\u001b[0m\u001b[0;34m)\u001b[0m\u001b[0;34m\u001b[0m\u001b[0;34m\u001b[0m\u001b[0m\n\u001b[0m\u001b[1;32m    476\u001b[0m \u001b[0;34m\u001b[0m\u001b[0m\n\u001b[1;32m    477\u001b[0m     \u001b[0;32mdef\u001b[0m \u001b[0mon_test_batch_begin\u001b[0m\u001b[0;34m(\u001b[0m\u001b[0mself\u001b[0m\u001b[0;34m,\u001b[0m \u001b[0mbatch\u001b[0m\u001b[0;34m,\u001b[0m \u001b[0mlogs\u001b[0m\u001b[0;34m=\u001b[0m\u001b[0;32mNone\u001b[0m\u001b[0;34m)\u001b[0m\u001b[0;34m:\u001b[0m\u001b[0;34m\u001b[0m\u001b[0;34m\u001b[0m\u001b[0m\n",
            "\u001b[0;32m/usr/local/lib/python3.9/dist-packages/keras/callbacks.py\u001b[0m in \u001b[0;36m_call_batch_hook\u001b[0;34m(self, mode, hook, batch, logs)\u001b[0m\n\u001b[1;32m    320\u001b[0m             \u001b[0mself\u001b[0m\u001b[0;34m.\u001b[0m\u001b[0m_call_batch_begin_hook\u001b[0m\u001b[0;34m(\u001b[0m\u001b[0mmode\u001b[0m\u001b[0;34m,\u001b[0m \u001b[0mbatch\u001b[0m\u001b[0;34m,\u001b[0m \u001b[0mlogs\u001b[0m\u001b[0;34m)\u001b[0m\u001b[0;34m\u001b[0m\u001b[0;34m\u001b[0m\u001b[0m\n\u001b[1;32m    321\u001b[0m         \u001b[0;32melif\u001b[0m \u001b[0mhook\u001b[0m \u001b[0;34m==\u001b[0m \u001b[0;34m\"end\"\u001b[0m\u001b[0;34m:\u001b[0m\u001b[0;34m\u001b[0m\u001b[0;34m\u001b[0m\u001b[0m\n\u001b[0;32m--> 322\u001b[0;31m             \u001b[0mself\u001b[0m\u001b[0;34m.\u001b[0m\u001b[0m_call_batch_end_hook\u001b[0m\u001b[0;34m(\u001b[0m\u001b[0mmode\u001b[0m\u001b[0;34m,\u001b[0m \u001b[0mbatch\u001b[0m\u001b[0;34m,\u001b[0m \u001b[0mlogs\u001b[0m\u001b[0;34m)\u001b[0m\u001b[0;34m\u001b[0m\u001b[0;34m\u001b[0m\u001b[0m\n\u001b[0m\u001b[1;32m    323\u001b[0m         \u001b[0;32melse\u001b[0m\u001b[0;34m:\u001b[0m\u001b[0;34m\u001b[0m\u001b[0;34m\u001b[0m\u001b[0m\n\u001b[1;32m    324\u001b[0m             raise ValueError(\n",
            "\u001b[0;32m/usr/local/lib/python3.9/dist-packages/keras/callbacks.py\u001b[0m in \u001b[0;36m_call_batch_end_hook\u001b[0;34m(self, mode, batch, logs)\u001b[0m\n\u001b[1;32m    343\u001b[0m             \u001b[0mself\u001b[0m\u001b[0;34m.\u001b[0m\u001b[0m_batch_times\u001b[0m\u001b[0;34m.\u001b[0m\u001b[0mappend\u001b[0m\u001b[0;34m(\u001b[0m\u001b[0mbatch_time\u001b[0m\u001b[0;34m)\u001b[0m\u001b[0;34m\u001b[0m\u001b[0;34m\u001b[0m\u001b[0m\n\u001b[1;32m    344\u001b[0m \u001b[0;34m\u001b[0m\u001b[0m\n\u001b[0;32m--> 345\u001b[0;31m         \u001b[0mself\u001b[0m\u001b[0;34m.\u001b[0m\u001b[0m_call_batch_hook_helper\u001b[0m\u001b[0;34m(\u001b[0m\u001b[0mhook_name\u001b[0m\u001b[0;34m,\u001b[0m \u001b[0mbatch\u001b[0m\u001b[0;34m,\u001b[0m \u001b[0mlogs\u001b[0m\u001b[0;34m)\u001b[0m\u001b[0;34m\u001b[0m\u001b[0;34m\u001b[0m\u001b[0m\n\u001b[0m\u001b[1;32m    346\u001b[0m \u001b[0;34m\u001b[0m\u001b[0m\n\u001b[1;32m    347\u001b[0m         \u001b[0;32mif\u001b[0m \u001b[0mlen\u001b[0m\u001b[0;34m(\u001b[0m\u001b[0mself\u001b[0m\u001b[0;34m.\u001b[0m\u001b[0m_batch_times\u001b[0m\u001b[0;34m)\u001b[0m \u001b[0;34m>=\u001b[0m \u001b[0mself\u001b[0m\u001b[0;34m.\u001b[0m\u001b[0m_num_batches_for_timing_check\u001b[0m\u001b[0;34m:\u001b[0m\u001b[0;34m\u001b[0m\u001b[0;34m\u001b[0m\u001b[0m\n",
            "\u001b[0;32m/usr/local/lib/python3.9/dist-packages/keras/callbacks.py\u001b[0m in \u001b[0;36m_call_batch_hook_helper\u001b[0;34m(self, hook_name, batch, logs)\u001b[0m\n\u001b[1;32m    391\u001b[0m         \u001b[0;32mfor\u001b[0m \u001b[0mcallback\u001b[0m \u001b[0;32min\u001b[0m \u001b[0mself\u001b[0m\u001b[0;34m.\u001b[0m\u001b[0mcallbacks\u001b[0m\u001b[0;34m:\u001b[0m\u001b[0;34m\u001b[0m\u001b[0;34m\u001b[0m\u001b[0m\n\u001b[1;32m    392\u001b[0m             \u001b[0mhook\u001b[0m \u001b[0;34m=\u001b[0m \u001b[0mgetattr\u001b[0m\u001b[0;34m(\u001b[0m\u001b[0mcallback\u001b[0m\u001b[0;34m,\u001b[0m \u001b[0mhook_name\u001b[0m\u001b[0;34m)\u001b[0m\u001b[0;34m\u001b[0m\u001b[0;34m\u001b[0m\u001b[0m\n\u001b[0;32m--> 393\u001b[0;31m             \u001b[0mhook\u001b[0m\u001b[0;34m(\u001b[0m\u001b[0mbatch\u001b[0m\u001b[0;34m,\u001b[0m \u001b[0mlogs\u001b[0m\u001b[0;34m)\u001b[0m\u001b[0;34m\u001b[0m\u001b[0;34m\u001b[0m\u001b[0m\n\u001b[0m\u001b[1;32m    394\u001b[0m \u001b[0;34m\u001b[0m\u001b[0m\n\u001b[1;32m    395\u001b[0m         \u001b[0;32mif\u001b[0m \u001b[0mself\u001b[0m\u001b[0;34m.\u001b[0m\u001b[0m_check_timing\u001b[0m\u001b[0;34m:\u001b[0m\u001b[0;34m\u001b[0m\u001b[0;34m\u001b[0m\u001b[0m\n",
            "\u001b[0;32m/usr/local/lib/python3.9/dist-packages/keras/callbacks.py\u001b[0m in \u001b[0;36mon_train_batch_end\u001b[0;34m(self, batch, logs)\u001b[0m\n\u001b[1;32m   1091\u001b[0m \u001b[0;34m\u001b[0m\u001b[0m\n\u001b[1;32m   1092\u001b[0m     \u001b[0;32mdef\u001b[0m \u001b[0mon_train_batch_end\u001b[0m\u001b[0;34m(\u001b[0m\u001b[0mself\u001b[0m\u001b[0;34m,\u001b[0m \u001b[0mbatch\u001b[0m\u001b[0;34m,\u001b[0m \u001b[0mlogs\u001b[0m\u001b[0;34m=\u001b[0m\u001b[0;32mNone\u001b[0m\u001b[0;34m)\u001b[0m\u001b[0;34m:\u001b[0m\u001b[0;34m\u001b[0m\u001b[0;34m\u001b[0m\u001b[0m\n\u001b[0;32m-> 1093\u001b[0;31m         \u001b[0mself\u001b[0m\u001b[0;34m.\u001b[0m\u001b[0m_batch_update_progbar\u001b[0m\u001b[0;34m(\u001b[0m\u001b[0mbatch\u001b[0m\u001b[0;34m,\u001b[0m \u001b[0mlogs\u001b[0m\u001b[0;34m)\u001b[0m\u001b[0;34m\u001b[0m\u001b[0;34m\u001b[0m\u001b[0m\n\u001b[0m\u001b[1;32m   1094\u001b[0m \u001b[0;34m\u001b[0m\u001b[0m\n\u001b[1;32m   1095\u001b[0m     \u001b[0;32mdef\u001b[0m \u001b[0mon_test_batch_end\u001b[0m\u001b[0;34m(\u001b[0m\u001b[0mself\u001b[0m\u001b[0;34m,\u001b[0m \u001b[0mbatch\u001b[0m\u001b[0;34m,\u001b[0m \u001b[0mlogs\u001b[0m\u001b[0;34m=\u001b[0m\u001b[0;32mNone\u001b[0m\u001b[0;34m)\u001b[0m\u001b[0;34m:\u001b[0m\u001b[0;34m\u001b[0m\u001b[0;34m\u001b[0m\u001b[0m\n",
            "\u001b[0;32m/usr/local/lib/python3.9/dist-packages/keras/callbacks.py\u001b[0m in \u001b[0;36m_batch_update_progbar\u001b[0;34m(self, batch, logs)\u001b[0m\n\u001b[1;32m   1167\u001b[0m         \u001b[0;32mif\u001b[0m \u001b[0mself\u001b[0m\u001b[0;34m.\u001b[0m\u001b[0mverbose\u001b[0m \u001b[0;34m==\u001b[0m \u001b[0;36m1\u001b[0m\u001b[0;34m:\u001b[0m\u001b[0;34m\u001b[0m\u001b[0;34m\u001b[0m\u001b[0m\n\u001b[1;32m   1168\u001b[0m             \u001b[0;31m# Only block async when verbose = 1.\u001b[0m\u001b[0;34m\u001b[0m\u001b[0;34m\u001b[0m\u001b[0m\n\u001b[0;32m-> 1169\u001b[0;31m             \u001b[0mlogs\u001b[0m \u001b[0;34m=\u001b[0m \u001b[0mtf_utils\u001b[0m\u001b[0;34m.\u001b[0m\u001b[0msync_to_numpy_or_python_type\u001b[0m\u001b[0;34m(\u001b[0m\u001b[0mlogs\u001b[0m\u001b[0;34m)\u001b[0m\u001b[0;34m\u001b[0m\u001b[0;34m\u001b[0m\u001b[0m\n\u001b[0m\u001b[1;32m   1170\u001b[0m             \u001b[0mself\u001b[0m\u001b[0;34m.\u001b[0m\u001b[0mprogbar\u001b[0m\u001b[0;34m.\u001b[0m\u001b[0mupdate\u001b[0m\u001b[0;34m(\u001b[0m\u001b[0mself\u001b[0m\u001b[0;34m.\u001b[0m\u001b[0mseen\u001b[0m\u001b[0;34m,\u001b[0m \u001b[0mlist\u001b[0m\u001b[0;34m(\u001b[0m\u001b[0mlogs\u001b[0m\u001b[0;34m.\u001b[0m\u001b[0mitems\u001b[0m\u001b[0;34m(\u001b[0m\u001b[0;34m)\u001b[0m\u001b[0;34m)\u001b[0m\u001b[0;34m,\u001b[0m \u001b[0mfinalize\u001b[0m\u001b[0;34m=\u001b[0m\u001b[0;32mFalse\u001b[0m\u001b[0;34m)\u001b[0m\u001b[0;34m\u001b[0m\u001b[0;34m\u001b[0m\u001b[0m\n\u001b[1;32m   1171\u001b[0m \u001b[0;34m\u001b[0m\u001b[0m\n",
            "\u001b[0;32m/usr/local/lib/python3.9/dist-packages/keras/utils/tf_utils.py\u001b[0m in \u001b[0;36msync_to_numpy_or_python_type\u001b[0;34m(tensors)\u001b[0m\n\u001b[1;32m    678\u001b[0m         \u001b[0;32mreturn\u001b[0m \u001b[0mt\u001b[0m\u001b[0;34m.\u001b[0m\u001b[0mitem\u001b[0m\u001b[0;34m(\u001b[0m\u001b[0;34m)\u001b[0m \u001b[0;32mif\u001b[0m \u001b[0mnp\u001b[0m\u001b[0;34m.\u001b[0m\u001b[0mndim\u001b[0m\u001b[0;34m(\u001b[0m\u001b[0mt\u001b[0m\u001b[0;34m)\u001b[0m \u001b[0;34m==\u001b[0m \u001b[0;36m0\u001b[0m \u001b[0;32melse\u001b[0m \u001b[0mt\u001b[0m\u001b[0;34m\u001b[0m\u001b[0;34m\u001b[0m\u001b[0m\n\u001b[1;32m    679\u001b[0m \u001b[0;34m\u001b[0m\u001b[0m\n\u001b[0;32m--> 680\u001b[0;31m     \u001b[0;32mreturn\u001b[0m \u001b[0mtf\u001b[0m\u001b[0;34m.\u001b[0m\u001b[0mnest\u001b[0m\u001b[0;34m.\u001b[0m\u001b[0mmap_structure\u001b[0m\u001b[0;34m(\u001b[0m\u001b[0m_to_single_numpy_or_python_type\u001b[0m\u001b[0;34m,\u001b[0m \u001b[0mtensors\u001b[0m\u001b[0;34m)\u001b[0m\u001b[0;34m\u001b[0m\u001b[0;34m\u001b[0m\u001b[0m\n\u001b[0m\u001b[1;32m    681\u001b[0m \u001b[0;34m\u001b[0m\u001b[0m\n\u001b[1;32m    682\u001b[0m \u001b[0;34m\u001b[0m\u001b[0m\n",
            "\u001b[0;32m/usr/local/lib/python3.9/dist-packages/tensorflow/python/util/nest.py\u001b[0m in \u001b[0;36mmap_structure\u001b[0;34m(func, *structure, **kwargs)\u001b[0m\n\u001b[1;32m    915\u001b[0m \u001b[0;34m\u001b[0m\u001b[0m\n\u001b[1;32m    916\u001b[0m   return pack_sequence_as(\n\u001b[0;32m--> 917\u001b[0;31m       \u001b[0mstructure\u001b[0m\u001b[0;34m[\u001b[0m\u001b[0;36m0\u001b[0m\u001b[0;34m]\u001b[0m\u001b[0;34m,\u001b[0m \u001b[0;34m[\u001b[0m\u001b[0mfunc\u001b[0m\u001b[0;34m(\u001b[0m\u001b[0;34m*\u001b[0m\u001b[0mx\u001b[0m\u001b[0;34m)\u001b[0m \u001b[0;32mfor\u001b[0m \u001b[0mx\u001b[0m \u001b[0;32min\u001b[0m \u001b[0mentries\u001b[0m\u001b[0;34m]\u001b[0m\u001b[0;34m,\u001b[0m\u001b[0;34m\u001b[0m\u001b[0;34m\u001b[0m\u001b[0m\n\u001b[0m\u001b[1;32m    918\u001b[0m       expand_composites=expand_composites)\n\u001b[1;32m    919\u001b[0m \u001b[0;34m\u001b[0m\u001b[0m\n",
            "\u001b[0;32m/usr/local/lib/python3.9/dist-packages/tensorflow/python/util/nest.py\u001b[0m in \u001b[0;36m<listcomp>\u001b[0;34m(.0)\u001b[0m\n\u001b[1;32m    915\u001b[0m \u001b[0;34m\u001b[0m\u001b[0m\n\u001b[1;32m    916\u001b[0m   return pack_sequence_as(\n\u001b[0;32m--> 917\u001b[0;31m       \u001b[0mstructure\u001b[0m\u001b[0;34m[\u001b[0m\u001b[0;36m0\u001b[0m\u001b[0;34m]\u001b[0m\u001b[0;34m,\u001b[0m \u001b[0;34m[\u001b[0m\u001b[0mfunc\u001b[0m\u001b[0;34m(\u001b[0m\u001b[0;34m*\u001b[0m\u001b[0mx\u001b[0m\u001b[0;34m)\u001b[0m \u001b[0;32mfor\u001b[0m \u001b[0mx\u001b[0m \u001b[0;32min\u001b[0m \u001b[0mentries\u001b[0m\u001b[0;34m]\u001b[0m\u001b[0;34m,\u001b[0m\u001b[0;34m\u001b[0m\u001b[0;34m\u001b[0m\u001b[0m\n\u001b[0m\u001b[1;32m    918\u001b[0m       expand_composites=expand_composites)\n\u001b[1;32m    919\u001b[0m \u001b[0;34m\u001b[0m\u001b[0m\n",
            "\u001b[0;32m/usr/local/lib/python3.9/dist-packages/keras/utils/tf_utils.py\u001b[0m in \u001b[0;36m_to_single_numpy_or_python_type\u001b[0;34m(t)\u001b[0m\n\u001b[1;32m    671\u001b[0m         \u001b[0;31m# Don't turn ragged or sparse tensors to NumPy.\u001b[0m\u001b[0;34m\u001b[0m\u001b[0;34m\u001b[0m\u001b[0m\n\u001b[1;32m    672\u001b[0m         \u001b[0;32mif\u001b[0m \u001b[0misinstance\u001b[0m\u001b[0;34m(\u001b[0m\u001b[0mt\u001b[0m\u001b[0;34m,\u001b[0m \u001b[0mtf\u001b[0m\u001b[0;34m.\u001b[0m\u001b[0mTensor\u001b[0m\u001b[0;34m)\u001b[0m\u001b[0;34m:\u001b[0m\u001b[0;34m\u001b[0m\u001b[0;34m\u001b[0m\u001b[0m\n\u001b[0;32m--> 673\u001b[0;31m             \u001b[0mt\u001b[0m \u001b[0;34m=\u001b[0m \u001b[0mt\u001b[0m\u001b[0;34m.\u001b[0m\u001b[0mnumpy\u001b[0m\u001b[0;34m(\u001b[0m\u001b[0;34m)\u001b[0m\u001b[0;34m\u001b[0m\u001b[0;34m\u001b[0m\u001b[0m\n\u001b[0m\u001b[1;32m    674\u001b[0m         \u001b[0;31m# Strings, ragged and sparse tensors don't have .item(). Return them\u001b[0m\u001b[0;34m\u001b[0m\u001b[0;34m\u001b[0m\u001b[0m\n\u001b[1;32m    675\u001b[0m         \u001b[0;31m# as-is.\u001b[0m\u001b[0;34m\u001b[0m\u001b[0;34m\u001b[0m\u001b[0m\n",
            "\u001b[0;32m/usr/local/lib/python3.9/dist-packages/tensorflow/python/framework/ops.py\u001b[0m in \u001b[0;36mnumpy\u001b[0;34m(self)\u001b[0m\n\u001b[1;32m   1158\u001b[0m     \"\"\"\n\u001b[1;32m   1159\u001b[0m     \u001b[0;31m# TODO(slebedev): Consider avoiding a copy for non-CPU or remote tensors.\u001b[0m\u001b[0;34m\u001b[0m\u001b[0;34m\u001b[0m\u001b[0m\n\u001b[0;32m-> 1160\u001b[0;31m     \u001b[0mmaybe_arr\u001b[0m \u001b[0;34m=\u001b[0m \u001b[0mself\u001b[0m\u001b[0;34m.\u001b[0m\u001b[0m_numpy\u001b[0m\u001b[0;34m(\u001b[0m\u001b[0;34m)\u001b[0m  \u001b[0;31m# pylint: disable=protected-access\u001b[0m\u001b[0;34m\u001b[0m\u001b[0;34m\u001b[0m\u001b[0m\n\u001b[0m\u001b[1;32m   1161\u001b[0m     \u001b[0;32mreturn\u001b[0m \u001b[0mmaybe_arr\u001b[0m\u001b[0;34m.\u001b[0m\u001b[0mcopy\u001b[0m\u001b[0;34m(\u001b[0m\u001b[0;34m)\u001b[0m \u001b[0;32mif\u001b[0m \u001b[0misinstance\u001b[0m\u001b[0;34m(\u001b[0m\u001b[0mmaybe_arr\u001b[0m\u001b[0;34m,\u001b[0m \u001b[0mnp\u001b[0m\u001b[0;34m.\u001b[0m\u001b[0mndarray\u001b[0m\u001b[0;34m)\u001b[0m \u001b[0;32melse\u001b[0m \u001b[0mmaybe_arr\u001b[0m\u001b[0;34m\u001b[0m\u001b[0;34m\u001b[0m\u001b[0m\n\u001b[1;32m   1162\u001b[0m \u001b[0;34m\u001b[0m\u001b[0m\n",
            "\u001b[0;32m/usr/local/lib/python3.9/dist-packages/tensorflow/python/framework/ops.py\u001b[0m in \u001b[0;36m_numpy\u001b[0;34m(self)\u001b[0m\n\u001b[1;32m   1124\u001b[0m   \u001b[0;32mdef\u001b[0m \u001b[0m_numpy\u001b[0m\u001b[0;34m(\u001b[0m\u001b[0mself\u001b[0m\u001b[0;34m)\u001b[0m\u001b[0;34m:\u001b[0m\u001b[0;34m\u001b[0m\u001b[0;34m\u001b[0m\u001b[0m\n\u001b[1;32m   1125\u001b[0m     \u001b[0;32mtry\u001b[0m\u001b[0;34m:\u001b[0m\u001b[0;34m\u001b[0m\u001b[0;34m\u001b[0m\u001b[0m\n\u001b[0;32m-> 1126\u001b[0;31m       \u001b[0;32mreturn\u001b[0m \u001b[0mself\u001b[0m\u001b[0;34m.\u001b[0m\u001b[0m_numpy_internal\u001b[0m\u001b[0;34m(\u001b[0m\u001b[0;34m)\u001b[0m\u001b[0;34m\u001b[0m\u001b[0;34m\u001b[0m\u001b[0m\n\u001b[0m\u001b[1;32m   1127\u001b[0m     \u001b[0;32mexcept\u001b[0m \u001b[0mcore\u001b[0m\u001b[0;34m.\u001b[0m\u001b[0m_NotOkStatusException\u001b[0m \u001b[0;32mas\u001b[0m \u001b[0me\u001b[0m\u001b[0;34m:\u001b[0m  \u001b[0;31m# pylint: disable=protected-access\u001b[0m\u001b[0;34m\u001b[0m\u001b[0;34m\u001b[0m\u001b[0m\n\u001b[1;32m   1128\u001b[0m       \u001b[0;32mraise\u001b[0m \u001b[0mcore\u001b[0m\u001b[0;34m.\u001b[0m\u001b[0m_status_to_exception\u001b[0m\u001b[0;34m(\u001b[0m\u001b[0me\u001b[0m\u001b[0;34m)\u001b[0m \u001b[0;32mfrom\u001b[0m \u001b[0;32mNone\u001b[0m  \u001b[0;31m# pylint: disable=protected-access\u001b[0m\u001b[0;34m\u001b[0m\u001b[0;34m\u001b[0m\u001b[0m\n",
            "\u001b[0;31mKeyboardInterrupt\u001b[0m: "
          ]
        }
      ]
    },
    {
      "cell_type": "code",
      "source": [
        "from tensorflow.keras.preprocessing.sequence import pad_sequences\n",
        "\n",
        "def generate(seed_speaker, n_scenes, temperature=1.0, max_words=500):\n",
        "    assert seed_speaker in set(top_speakers), \"Seed speaker is not a top speaker\"\n",
        "\n",
        "    seed_text = f\"{SCENE_START} {SPEAKER_START} {seed_speaker} {SPEAKER_END} {LINE_START} {SENT_START}\".lower()\n",
        "    generated_text = seed_text.split()\n",
        "\n",
        "    scenes_generated = 0\n",
        "    words_generated = 0\n",
        "\n",
        "    while True:\n",
        "        if scenes_generated == n_scenes or words_generated == max_words:\n",
        "            break\n",
        "\n",
        "        # Tokenize and encode the seed text\n",
        "        encoded = tokenizer.texts_to_sequences([seed_text.split(\" \")])\n",
        "        encoded = to_categorical(encoded, vocab_size)\n",
        "        padded_seq = pad_sequences(encoded, maxlen=INPUT_SEQ_LEN, truncating='pre')\n",
        "\n",
        "        # Generate the predicted word\n",
        "        predicted = model.predict(padded_seq, verbose=0)[0]\n",
        "        predicted = np.log(predicted) / temperature\n",
        "        predicted = np.exp(predicted) / np.sum(np.exp(predicted))\n",
        "        predicted_idx = np.random.choice(len(predicted), p=predicted)\n",
        "        predicted_word = tokenizer.index_word[predicted_idx]\n",
        "\n",
        "        words_generated += 1\n",
        "\n",
        "        if predicted_word == SCENE_END.lower():\n",
        "            scenes_generated += 1\n",
        "\n",
        "        # Append the predicted word to the generated text\n",
        "        generated_text.append(predicted_word)\n",
        "\n",
        "        # Update the seed text for the next iteration\n",
        "        seed_text += \" \" + predicted_word\n",
        "\n",
        "    return generated_text"
      ],
      "metadata": {
        "id": "-V2V8Ryynevz"
      },
      "execution_count": null,
      "outputs": []
    },
    {
      "cell_type": "code",
      "source": [
        "def post_process_line(text):\n",
        "    punctuation_to_attach_to_previous_word = ['.', ':', '!', ';', ')', ']', '?', ',', '%']\n",
        "    for punctuation in punctuation_to_attach_to_previous_word:\n",
        "        text = text.replace(' ' + punctuation, punctuation)\n",
        "        \n",
        "    punctuation_to_attach_to_following_word = ['[', '(', '$']\n",
        "    for punctuation in punctuation_to_attach_to_following_word:\n",
        "        text = text.replace(punctuation + ' ', punctuation)\n",
        "        \n",
        "    punctuation_to_attach_to_same_word = [\"'\", '-']\n",
        "    for punctuation in punctuation_to_attach_to_same_word:\n",
        "        text = text.replace(' ' + punctuation + ' ', punctuation)\n",
        "        \n",
        "    text = text.replace(NEWLINE.lower(), \"\\n\")\n",
        "    text = text.replace(\"\\n \", \"\\n\")\n",
        "    \n",
        "    return text"
      ],
      "metadata": {
        "id": "Zx5-7sECkU9h"
      },
      "execution_count": null,
      "outputs": []
    },
    {
      "cell_type": "code",
      "source": [
        "def post_process(text):\n",
        "    output = \"\"\n",
        "    idx = 0\n",
        "\n",
        "    while True:\n",
        "        token = text[idx]\n",
        "        \n",
        "        if token == SCENE_START.lower():\n",
        "            output += \"\\n=== SCENE START ===\"\n",
        "        elif token == SCENE_END.lower():\n",
        "            output += \"\\n=== SCENE END ===\\n\"\n",
        "        elif token == SPEAKER_START.lower():\n",
        "            idx += 1; token = text[idx]\n",
        "            output += f\"\\n{token}: \"\n",
        "        elif token == LINE_END.lower():\n",
        "            output += \".\"\n",
        "        elif token == SENT_START.lower():\n",
        "            idx += 1; token = text[idx]\n",
        "\n",
        "            line = \"\"\n",
        "            while token != SENT_END.lower():\n",
        "                line += token + \" \"\n",
        "                idx += 1; token = text[idx]\n",
        "\n",
        "            output += post_process_line(line)\n",
        "\n",
        "        idx += 1\n",
        "        \n",
        "        if idx == len(text):\n",
        "            break\n",
        "        \n",
        "    return output"
      ],
      "metadata": {
        "id": "CgecMLXh2QkR"
      },
      "execution_count": null,
      "outputs": []
    },
    {
      "cell_type": "code",
      "source": [
        "sent = generate(seed_speaker=\"Michael\", n_scenes=10, temperature=0.7)\n",
        "print(post_process(sent))"
      ],
      "metadata": {
        "id": "FM15IWD4kmd_"
      },
      "execution_count": null,
      "outputs": []
    },
    {
      "cell_type": "code",
      "source": [
        "# model.save('the_office_model')"
      ],
      "metadata": {
        "id": "72r9VPQ4wOwg"
      },
      "execution_count": null,
      "outputs": []
    },
    {
      "cell_type": "code",
      "source": [
        "# !zip the_office_model.zip the_office_model/*"
      ],
      "metadata": {
        "id": "wabVvmI7wZ8g"
      },
      "execution_count": null,
      "outputs": []
    }
  ]
}