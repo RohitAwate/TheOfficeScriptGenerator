{
  "nbformat": 4,
  "nbformat_minor": 0,
  "metadata": {
    "colab": {
      "provenance": []
    },
    "kernelspec": {
      "name": "python3",
      "display_name": "Python 3"
    },
    "language_info": {
      "name": "python"
    },
    "accelerator": "GPU",
    "gpuClass": "standard"
  },
  "cells": [
    {
      "cell_type": "markdown",
      "source": [
        "## Get dataset from Kaggle"
      ],
      "metadata": {
        "id": "QGEp-v_jqWsO"
      }
    },
    {
      "cell_type": "code",
      "execution_count": null,
      "metadata": {
        "id": "6vN_xXflp7Ro"
      },
      "outputs": [],
      "source": [
        "!mkdir -p ~/.kaggle\n",
        "!touch ~/.kaggle/kaggle.json\n",
        "!chmod 600 ~/.kaggle/kaggle.json\n",
        "!echo '{\"username\":\"rohitawate\",\"key\":\"14a69194fa4cd4e37490796b1f37ff69\"}' > ~/.kaggle/kaggle.json"
      ]
    },
    {
      "cell_type": "code",
      "source": [
        "!kaggle datasets download -d nasirkhalid24/the-office-us-complete-dialoguetranscript"
      ],
      "metadata": {
        "colab": {
          "base_uri": "https://localhost:8080/"
        },
        "id": "M47CiWF9qTO2",
        "outputId": "b945c72f-a293-4e24-81d3-473a5bfafe13"
      },
      "execution_count": null,
      "outputs": [
        {
          "output_type": "stream",
          "name": "stdout",
          "text": [
            "Downloading the-office-us-complete-dialoguetranscript.zip to /content\n",
            " 73% 1.00M/1.37M [00:00<00:00, 1.20MB/s]\n",
            "100% 1.37M/1.37M [00:00<00:00, 1.54MB/s]\n"
          ]
        }
      ]
    },
    {
      "cell_type": "code",
      "source": [
        "!ls"
      ],
      "metadata": {
        "colab": {
          "base_uri": "https://localhost:8080/"
        },
        "id": "IQTjR10Yqaer",
        "outputId": "feea6f76-5de6-42de-edc5-9e1fdf51f4f6"
      },
      "execution_count": null,
      "outputs": [
        {
          "output_type": "stream",
          "name": "stdout",
          "text": [
            "sample_data  the-office-us-complete-dialoguetranscript.zip\n"
          ]
        }
      ]
    },
    {
      "cell_type": "code",
      "source": [
        "!unzip the-office-us-complete-dialoguetranscript.zip\n",
        "!ls"
      ],
      "metadata": {
        "colab": {
          "base_uri": "https://localhost:8080/"
        },
        "id": "9qMtUWGZqb-x",
        "outputId": "f2507803-b4a4-474f-f86e-a9f96e1fcb38"
      },
      "execution_count": null,
      "outputs": [
        {
          "output_type": "stream",
          "name": "stdout",
          "text": [
            "Archive:  the-office-us-complete-dialoguetranscript.zip\n",
            "  inflating: The-Office-Lines-V4.csv  \n",
            "sample_data\t\t the-office-us-complete-dialoguetranscript.zip\n",
            "The-Office-Lines-V4.csv\n"
          ]
        }
      ]
    },
    {
      "cell_type": "code",
      "source": [
        "!mv The-Office-Lines-V4.csv data.csv"
      ],
      "metadata": {
        "id": "X46-ux3jqgDZ"
      },
      "execution_count": null,
      "outputs": []
    },
    {
      "cell_type": "markdown",
      "source": [
        "# EDA and Pre-processing"
      ],
      "metadata": {
        "id": "qgdAPJwprWRh"
      }
    },
    {
      "cell_type": "code",
      "source": [
        "import pandas as pd\n",
        "df = pd.read_csv(\"data.csv\")\n",
        "df.head()"
      ],
      "metadata": {
        "colab": {
          "base_uri": "https://localhost:8080/",
          "height": 206
        },
        "id": "F9oR5mqtrYbJ",
        "outputId": "83dabddc-ff44-477b-908f-62a488541ab4"
      },
      "execution_count": null,
      "outputs": [
        {
          "output_type": "execute_result",
          "data": {
            "text/plain": [
              "   season  episode  title  scene  speaker  \\\n",
              "0       1        1  Pilot      1  Michael   \n",
              "1       1        1  Pilot      1      Jim   \n",
              "2       1        1  Pilot      1  Michael   \n",
              "3       1        1  Pilot      1      Jim   \n",
              "4       1        1  Pilot      1  Michael   \n",
              "\n",
              "                                                line Unnamed: 6  \n",
              "0  All right Jim. Your quarterlies look very good...        NaN  \n",
              "1         Oh, I told you. I couldn't close it. So...        NaN  \n",
              "2  So you've come to the master for guidance? Is ...        NaN  \n",
              "3         Actually, you called me in here, but yeah.        NaN  \n",
              "4    All right. Well, let me show you how it's done.        NaN  "
            ],
            "text/html": [
              "\n",
              "  <div id=\"df-a14bf1d3-78cc-47b6-a088-cdc3e00ae6bd\">\n",
              "    <div class=\"colab-df-container\">\n",
              "      <div>\n",
              "<style scoped>\n",
              "    .dataframe tbody tr th:only-of-type {\n",
              "        vertical-align: middle;\n",
              "    }\n",
              "\n",
              "    .dataframe tbody tr th {\n",
              "        vertical-align: top;\n",
              "    }\n",
              "\n",
              "    .dataframe thead th {\n",
              "        text-align: right;\n",
              "    }\n",
              "</style>\n",
              "<table border=\"1\" class=\"dataframe\">\n",
              "  <thead>\n",
              "    <tr style=\"text-align: right;\">\n",
              "      <th></th>\n",
              "      <th>season</th>\n",
              "      <th>episode</th>\n",
              "      <th>title</th>\n",
              "      <th>scene</th>\n",
              "      <th>speaker</th>\n",
              "      <th>line</th>\n",
              "      <th>Unnamed: 6</th>\n",
              "    </tr>\n",
              "  </thead>\n",
              "  <tbody>\n",
              "    <tr>\n",
              "      <th>0</th>\n",
              "      <td>1</td>\n",
              "      <td>1</td>\n",
              "      <td>Pilot</td>\n",
              "      <td>1</td>\n",
              "      <td>Michael</td>\n",
              "      <td>All right Jim. Your quarterlies look very good...</td>\n",
              "      <td>NaN</td>\n",
              "    </tr>\n",
              "    <tr>\n",
              "      <th>1</th>\n",
              "      <td>1</td>\n",
              "      <td>1</td>\n",
              "      <td>Pilot</td>\n",
              "      <td>1</td>\n",
              "      <td>Jim</td>\n",
              "      <td>Oh, I told you. I couldn't close it. So...</td>\n",
              "      <td>NaN</td>\n",
              "    </tr>\n",
              "    <tr>\n",
              "      <th>2</th>\n",
              "      <td>1</td>\n",
              "      <td>1</td>\n",
              "      <td>Pilot</td>\n",
              "      <td>1</td>\n",
              "      <td>Michael</td>\n",
              "      <td>So you've come to the master for guidance? Is ...</td>\n",
              "      <td>NaN</td>\n",
              "    </tr>\n",
              "    <tr>\n",
              "      <th>3</th>\n",
              "      <td>1</td>\n",
              "      <td>1</td>\n",
              "      <td>Pilot</td>\n",
              "      <td>1</td>\n",
              "      <td>Jim</td>\n",
              "      <td>Actually, you called me in here, but yeah.</td>\n",
              "      <td>NaN</td>\n",
              "    </tr>\n",
              "    <tr>\n",
              "      <th>4</th>\n",
              "      <td>1</td>\n",
              "      <td>1</td>\n",
              "      <td>Pilot</td>\n",
              "      <td>1</td>\n",
              "      <td>Michael</td>\n",
              "      <td>All right. Well, let me show you how it's done.</td>\n",
              "      <td>NaN</td>\n",
              "    </tr>\n",
              "  </tbody>\n",
              "</table>\n",
              "</div>\n",
              "      <button class=\"colab-df-convert\" onclick=\"convertToInteractive('df-a14bf1d3-78cc-47b6-a088-cdc3e00ae6bd')\"\n",
              "              title=\"Convert this dataframe to an interactive table.\"\n",
              "              style=\"display:none;\">\n",
              "        \n",
              "  <svg xmlns=\"http://www.w3.org/2000/svg\" height=\"24px\"viewBox=\"0 0 24 24\"\n",
              "       width=\"24px\">\n",
              "    <path d=\"M0 0h24v24H0V0z\" fill=\"none\"/>\n",
              "    <path d=\"M18.56 5.44l.94 2.06.94-2.06 2.06-.94-2.06-.94-.94-2.06-.94 2.06-2.06.94zm-11 1L8.5 8.5l.94-2.06 2.06-.94-2.06-.94L8.5 2.5l-.94 2.06-2.06.94zm10 10l.94 2.06.94-2.06 2.06-.94-2.06-.94-.94-2.06-.94 2.06-2.06.94z\"/><path d=\"M17.41 7.96l-1.37-1.37c-.4-.4-.92-.59-1.43-.59-.52 0-1.04.2-1.43.59L10.3 9.45l-7.72 7.72c-.78.78-.78 2.05 0 2.83L4 21.41c.39.39.9.59 1.41.59.51 0 1.02-.2 1.41-.59l7.78-7.78 2.81-2.81c.8-.78.8-2.07 0-2.86zM5.41 20L4 18.59l7.72-7.72 1.47 1.35L5.41 20z\"/>\n",
              "  </svg>\n",
              "      </button>\n",
              "      \n",
              "  <style>\n",
              "    .colab-df-container {\n",
              "      display:flex;\n",
              "      flex-wrap:wrap;\n",
              "      gap: 12px;\n",
              "    }\n",
              "\n",
              "    .colab-df-convert {\n",
              "      background-color: #E8F0FE;\n",
              "      border: none;\n",
              "      border-radius: 50%;\n",
              "      cursor: pointer;\n",
              "      display: none;\n",
              "      fill: #1967D2;\n",
              "      height: 32px;\n",
              "      padding: 0 0 0 0;\n",
              "      width: 32px;\n",
              "    }\n",
              "\n",
              "    .colab-df-convert:hover {\n",
              "      background-color: #E2EBFA;\n",
              "      box-shadow: 0px 1px 2px rgba(60, 64, 67, 0.3), 0px 1px 3px 1px rgba(60, 64, 67, 0.15);\n",
              "      fill: #174EA6;\n",
              "    }\n",
              "\n",
              "    [theme=dark] .colab-df-convert {\n",
              "      background-color: #3B4455;\n",
              "      fill: #D2E3FC;\n",
              "    }\n",
              "\n",
              "    [theme=dark] .colab-df-convert:hover {\n",
              "      background-color: #434B5C;\n",
              "      box-shadow: 0px 1px 3px 1px rgba(0, 0, 0, 0.15);\n",
              "      filter: drop-shadow(0px 1px 2px rgba(0, 0, 0, 0.3));\n",
              "      fill: #FFFFFF;\n",
              "    }\n",
              "  </style>\n",
              "\n",
              "      <script>\n",
              "        const buttonEl =\n",
              "          document.querySelector('#df-a14bf1d3-78cc-47b6-a088-cdc3e00ae6bd button.colab-df-convert');\n",
              "        buttonEl.style.display =\n",
              "          google.colab.kernel.accessAllowed ? 'block' : 'none';\n",
              "\n",
              "        async function convertToInteractive(key) {\n",
              "          const element = document.querySelector('#df-a14bf1d3-78cc-47b6-a088-cdc3e00ae6bd');\n",
              "          const dataTable =\n",
              "            await google.colab.kernel.invokeFunction('convertToInteractive',\n",
              "                                                     [key], {});\n",
              "          if (!dataTable) return;\n",
              "\n",
              "          const docLinkHtml = 'Like what you see? Visit the ' +\n",
              "            '<a target=\"_blank\" href=https://colab.research.google.com/notebooks/data_table.ipynb>data table notebook</a>'\n",
              "            + ' to learn more about interactive tables.';\n",
              "          element.innerHTML = '';\n",
              "          dataTable['output_type'] = 'display_data';\n",
              "          await google.colab.output.renderOutput(dataTable, element);\n",
              "          const docLink = document.createElement('div');\n",
              "          docLink.innerHTML = docLinkHtml;\n",
              "          element.appendChild(docLink);\n",
              "        }\n",
              "      </script>\n",
              "    </div>\n",
              "  </div>\n",
              "  "
            ]
          },
          "metadata": {},
          "execution_count": 6
        }
      ]
    },
    {
      "cell_type": "markdown",
      "source": [
        "### Drop unnecessary columns"
      ],
      "metadata": {
        "id": "onVliD2HsPfj"
      }
    },
    {
      "cell_type": "code",
      "source": [
        "df = df.drop(columns=[\"season\", \"episode\", \"Unnamed: 6\"], axis=1)\n",
        "df.head()"
      ],
      "metadata": {
        "colab": {
          "base_uri": "https://localhost:8080/",
          "height": 206
        },
        "id": "KaxBgSYmreZq",
        "outputId": "9d1404d2-266c-4391-aa63-ec4fe9707440"
      },
      "execution_count": null,
      "outputs": [
        {
          "output_type": "execute_result",
          "data": {
            "text/plain": [
              "   title  scene  speaker                                               line\n",
              "0  Pilot      1  Michael  All right Jim. Your quarterlies look very good...\n",
              "1  Pilot      1      Jim         Oh, I told you. I couldn't close it. So...\n",
              "2  Pilot      1  Michael  So you've come to the master for guidance? Is ...\n",
              "3  Pilot      1      Jim         Actually, you called me in here, but yeah.\n",
              "4  Pilot      1  Michael    All right. Well, let me show you how it's done."
            ],
            "text/html": [
              "\n",
              "  <div id=\"df-e82c86d0-8e03-4da6-ac9f-af9bd9fa571a\">\n",
              "    <div class=\"colab-df-container\">\n",
              "      <div>\n",
              "<style scoped>\n",
              "    .dataframe tbody tr th:only-of-type {\n",
              "        vertical-align: middle;\n",
              "    }\n",
              "\n",
              "    .dataframe tbody tr th {\n",
              "        vertical-align: top;\n",
              "    }\n",
              "\n",
              "    .dataframe thead th {\n",
              "        text-align: right;\n",
              "    }\n",
              "</style>\n",
              "<table border=\"1\" class=\"dataframe\">\n",
              "  <thead>\n",
              "    <tr style=\"text-align: right;\">\n",
              "      <th></th>\n",
              "      <th>title</th>\n",
              "      <th>scene</th>\n",
              "      <th>speaker</th>\n",
              "      <th>line</th>\n",
              "    </tr>\n",
              "  </thead>\n",
              "  <tbody>\n",
              "    <tr>\n",
              "      <th>0</th>\n",
              "      <td>Pilot</td>\n",
              "      <td>1</td>\n",
              "      <td>Michael</td>\n",
              "      <td>All right Jim. Your quarterlies look very good...</td>\n",
              "    </tr>\n",
              "    <tr>\n",
              "      <th>1</th>\n",
              "      <td>Pilot</td>\n",
              "      <td>1</td>\n",
              "      <td>Jim</td>\n",
              "      <td>Oh, I told you. I couldn't close it. So...</td>\n",
              "    </tr>\n",
              "    <tr>\n",
              "      <th>2</th>\n",
              "      <td>Pilot</td>\n",
              "      <td>1</td>\n",
              "      <td>Michael</td>\n",
              "      <td>So you've come to the master for guidance? Is ...</td>\n",
              "    </tr>\n",
              "    <tr>\n",
              "      <th>3</th>\n",
              "      <td>Pilot</td>\n",
              "      <td>1</td>\n",
              "      <td>Jim</td>\n",
              "      <td>Actually, you called me in here, but yeah.</td>\n",
              "    </tr>\n",
              "    <tr>\n",
              "      <th>4</th>\n",
              "      <td>Pilot</td>\n",
              "      <td>1</td>\n",
              "      <td>Michael</td>\n",
              "      <td>All right. Well, let me show you how it's done.</td>\n",
              "    </tr>\n",
              "  </tbody>\n",
              "</table>\n",
              "</div>\n",
              "      <button class=\"colab-df-convert\" onclick=\"convertToInteractive('df-e82c86d0-8e03-4da6-ac9f-af9bd9fa571a')\"\n",
              "              title=\"Convert this dataframe to an interactive table.\"\n",
              "              style=\"display:none;\">\n",
              "        \n",
              "  <svg xmlns=\"http://www.w3.org/2000/svg\" height=\"24px\"viewBox=\"0 0 24 24\"\n",
              "       width=\"24px\">\n",
              "    <path d=\"M0 0h24v24H0V0z\" fill=\"none\"/>\n",
              "    <path d=\"M18.56 5.44l.94 2.06.94-2.06 2.06-.94-2.06-.94-.94-2.06-.94 2.06-2.06.94zm-11 1L8.5 8.5l.94-2.06 2.06-.94-2.06-.94L8.5 2.5l-.94 2.06-2.06.94zm10 10l.94 2.06.94-2.06 2.06-.94-2.06-.94-.94-2.06-.94 2.06-2.06.94z\"/><path d=\"M17.41 7.96l-1.37-1.37c-.4-.4-.92-.59-1.43-.59-.52 0-1.04.2-1.43.59L10.3 9.45l-7.72 7.72c-.78.78-.78 2.05 0 2.83L4 21.41c.39.39.9.59 1.41.59.51 0 1.02-.2 1.41-.59l7.78-7.78 2.81-2.81c.8-.78.8-2.07 0-2.86zM5.41 20L4 18.59l7.72-7.72 1.47 1.35L5.41 20z\"/>\n",
              "  </svg>\n",
              "      </button>\n",
              "      \n",
              "  <style>\n",
              "    .colab-df-container {\n",
              "      display:flex;\n",
              "      flex-wrap:wrap;\n",
              "      gap: 12px;\n",
              "    }\n",
              "\n",
              "    .colab-df-convert {\n",
              "      background-color: #E8F0FE;\n",
              "      border: none;\n",
              "      border-radius: 50%;\n",
              "      cursor: pointer;\n",
              "      display: none;\n",
              "      fill: #1967D2;\n",
              "      height: 32px;\n",
              "      padding: 0 0 0 0;\n",
              "      width: 32px;\n",
              "    }\n",
              "\n",
              "    .colab-df-convert:hover {\n",
              "      background-color: #E2EBFA;\n",
              "      box-shadow: 0px 1px 2px rgba(60, 64, 67, 0.3), 0px 1px 3px 1px rgba(60, 64, 67, 0.15);\n",
              "      fill: #174EA6;\n",
              "    }\n",
              "\n",
              "    [theme=dark] .colab-df-convert {\n",
              "      background-color: #3B4455;\n",
              "      fill: #D2E3FC;\n",
              "    }\n",
              "\n",
              "    [theme=dark] .colab-df-convert:hover {\n",
              "      background-color: #434B5C;\n",
              "      box-shadow: 0px 1px 3px 1px rgba(0, 0, 0, 0.15);\n",
              "      filter: drop-shadow(0px 1px 2px rgba(0, 0, 0, 0.3));\n",
              "      fill: #FFFFFF;\n",
              "    }\n",
              "  </style>\n",
              "\n",
              "      <script>\n",
              "        const buttonEl =\n",
              "          document.querySelector('#df-e82c86d0-8e03-4da6-ac9f-af9bd9fa571a button.colab-df-convert');\n",
              "        buttonEl.style.display =\n",
              "          google.colab.kernel.accessAllowed ? 'block' : 'none';\n",
              "\n",
              "        async function convertToInteractive(key) {\n",
              "          const element = document.querySelector('#df-e82c86d0-8e03-4da6-ac9f-af9bd9fa571a');\n",
              "          const dataTable =\n",
              "            await google.colab.kernel.invokeFunction('convertToInteractive',\n",
              "                                                     [key], {});\n",
              "          if (!dataTable) return;\n",
              "\n",
              "          const docLinkHtml = 'Like what you see? Visit the ' +\n",
              "            '<a target=\"_blank\" href=https://colab.research.google.com/notebooks/data_table.ipynb>data table notebook</a>'\n",
              "            + ' to learn more about interactive tables.';\n",
              "          element.innerHTML = '';\n",
              "          dataTable['output_type'] = 'display_data';\n",
              "          await google.colab.output.renderOutput(dataTable, element);\n",
              "          const docLink = document.createElement('div');\n",
              "          docLink.innerHTML = docLinkHtml;\n",
              "          element.appendChild(docLink);\n",
              "        }\n",
              "      </script>\n",
              "    </div>\n",
              "  </div>\n",
              "  "
            ]
          },
          "metadata": {},
          "execution_count": 7
        }
      ]
    },
    {
      "cell_type": "markdown",
      "source": [
        "## Sanitize speaker names\n",
        "\n",
        "### Collapse \"Michael: \" into \"Michael\" and similar examples\n",
        "\n",
        "Note: We decided against doing this because the lines corresponding to these\n",
        "speaker names with colons are poor quality as can be observed below. This is likely because the dataset\n",
        "is compiled from a variety of sources.\n",
        "\n",
        "No need to explicitly drop these, we filter out the top 40 characters in terms of number of lines and these ones don't make that cut either way.\n"
      ],
      "metadata": {
        "id": "CVnt0lWBs47i"
      }
    },
    {
      "cell_type": "code",
      "source": [
        "df[df[\"speaker\"] == \"Michael: \"]"
      ],
      "metadata": {
        "colab": {
          "base_uri": "https://localhost:8080/",
          "height": 423
        },
        "id": "T0xITrg4tBxx",
        "outputId": "52cdc40e-7b1b-4ffe-8969-8475021014dc"
      },
      "execution_count": null,
      "outputs": [
        {
          "output_type": "execute_result",
          "data": {
            "text/plain": [
              "            title  scene    speaker  \\\n",
              "31793  Happy Hour   4846  Michael:    \n",
              "31795  Happy Hour   4846  Michael:    \n",
              "31797  Happy Hour   4846  Michael:    \n",
              "31799  Happy Hour   4846  Michael:    \n",
              "31801  Happy Hour   4846  Michael:    \n",
              "...           ...    ...        ...   \n",
              "32088  Happy Hour   4888  Michael:    \n",
              "32090  Happy Hour   4888  Michael:    \n",
              "32102  Happy Hour   4890  Michael:    \n",
              "32145  Happy Hour   4896  Michael:    \n",
              "32148  Happy Hour   4896  Michael:    \n",
              "\n",
              "                                                    line  \n",
              "31793                                    w many is that?  \n",
              "31795                                  unt the last one.  \n",
              "31797                                      , new record!  \n",
              "31799                           , what did you do today?  \n",
              "31801  , yeah, sitting on your big fat butt. Alright,...  \n",
              "...                                                  ...  \n",
              "32088                                              is I.  \n",
              "32090                                       , hey guys.   \n",
              "32102                         y, Julie! You having fun?   \n",
              "32145  lperts, wait up. Oh, what a great night. Got t...  \n",
              "32148  think I did. But I can't take all of the credi...  \n",
              "\n",
              "[74 rows x 4 columns]"
            ],
            "text/html": [
              "\n",
              "  <div id=\"df-3efda317-c151-4cfe-af8f-089a1d200fb0\">\n",
              "    <div class=\"colab-df-container\">\n",
              "      <div>\n",
              "<style scoped>\n",
              "    .dataframe tbody tr th:only-of-type {\n",
              "        vertical-align: middle;\n",
              "    }\n",
              "\n",
              "    .dataframe tbody tr th {\n",
              "        vertical-align: top;\n",
              "    }\n",
              "\n",
              "    .dataframe thead th {\n",
              "        text-align: right;\n",
              "    }\n",
              "</style>\n",
              "<table border=\"1\" class=\"dataframe\">\n",
              "  <thead>\n",
              "    <tr style=\"text-align: right;\">\n",
              "      <th></th>\n",
              "      <th>title</th>\n",
              "      <th>scene</th>\n",
              "      <th>speaker</th>\n",
              "      <th>line</th>\n",
              "    </tr>\n",
              "  </thead>\n",
              "  <tbody>\n",
              "    <tr>\n",
              "      <th>31793</th>\n",
              "      <td>Happy Hour</td>\n",
              "      <td>4846</td>\n",
              "      <td>Michael:</td>\n",
              "      <td>w many is that?</td>\n",
              "    </tr>\n",
              "    <tr>\n",
              "      <th>31795</th>\n",
              "      <td>Happy Hour</td>\n",
              "      <td>4846</td>\n",
              "      <td>Michael:</td>\n",
              "      <td>unt the last one.</td>\n",
              "    </tr>\n",
              "    <tr>\n",
              "      <th>31797</th>\n",
              "      <td>Happy Hour</td>\n",
              "      <td>4846</td>\n",
              "      <td>Michael:</td>\n",
              "      <td>, new record!</td>\n",
              "    </tr>\n",
              "    <tr>\n",
              "      <th>31799</th>\n",
              "      <td>Happy Hour</td>\n",
              "      <td>4846</td>\n",
              "      <td>Michael:</td>\n",
              "      <td>, what did you do today?</td>\n",
              "    </tr>\n",
              "    <tr>\n",
              "      <th>31801</th>\n",
              "      <td>Happy Hour</td>\n",
              "      <td>4846</td>\n",
              "      <td>Michael:</td>\n",
              "      <td>, yeah, sitting on your big fat butt. Alright,...</td>\n",
              "    </tr>\n",
              "    <tr>\n",
              "      <th>...</th>\n",
              "      <td>...</td>\n",
              "      <td>...</td>\n",
              "      <td>...</td>\n",
              "      <td>...</td>\n",
              "    </tr>\n",
              "    <tr>\n",
              "      <th>32088</th>\n",
              "      <td>Happy Hour</td>\n",
              "      <td>4888</td>\n",
              "      <td>Michael:</td>\n",
              "      <td>is I.</td>\n",
              "    </tr>\n",
              "    <tr>\n",
              "      <th>32090</th>\n",
              "      <td>Happy Hour</td>\n",
              "      <td>4888</td>\n",
              "      <td>Michael:</td>\n",
              "      <td>, hey guys.</td>\n",
              "    </tr>\n",
              "    <tr>\n",
              "      <th>32102</th>\n",
              "      <td>Happy Hour</td>\n",
              "      <td>4890</td>\n",
              "      <td>Michael:</td>\n",
              "      <td>y, Julie! You having fun?</td>\n",
              "    </tr>\n",
              "    <tr>\n",
              "      <th>32145</th>\n",
              "      <td>Happy Hour</td>\n",
              "      <td>4896</td>\n",
              "      <td>Michael:</td>\n",
              "      <td>lperts, wait up. Oh, what a great night. Got t...</td>\n",
              "    </tr>\n",
              "    <tr>\n",
              "      <th>32148</th>\n",
              "      <td>Happy Hour</td>\n",
              "      <td>4896</td>\n",
              "      <td>Michael:</td>\n",
              "      <td>think I did. But I can't take all of the credi...</td>\n",
              "    </tr>\n",
              "  </tbody>\n",
              "</table>\n",
              "<p>74 rows × 4 columns</p>\n",
              "</div>\n",
              "      <button class=\"colab-df-convert\" onclick=\"convertToInteractive('df-3efda317-c151-4cfe-af8f-089a1d200fb0')\"\n",
              "              title=\"Convert this dataframe to an interactive table.\"\n",
              "              style=\"display:none;\">\n",
              "        \n",
              "  <svg xmlns=\"http://www.w3.org/2000/svg\" height=\"24px\"viewBox=\"0 0 24 24\"\n",
              "       width=\"24px\">\n",
              "    <path d=\"M0 0h24v24H0V0z\" fill=\"none\"/>\n",
              "    <path d=\"M18.56 5.44l.94 2.06.94-2.06 2.06-.94-2.06-.94-.94-2.06-.94 2.06-2.06.94zm-11 1L8.5 8.5l.94-2.06 2.06-.94-2.06-.94L8.5 2.5l-.94 2.06-2.06.94zm10 10l.94 2.06.94-2.06 2.06-.94-2.06-.94-.94-2.06-.94 2.06-2.06.94z\"/><path d=\"M17.41 7.96l-1.37-1.37c-.4-.4-.92-.59-1.43-.59-.52 0-1.04.2-1.43.59L10.3 9.45l-7.72 7.72c-.78.78-.78 2.05 0 2.83L4 21.41c.39.39.9.59 1.41.59.51 0 1.02-.2 1.41-.59l7.78-7.78 2.81-2.81c.8-.78.8-2.07 0-2.86zM5.41 20L4 18.59l7.72-7.72 1.47 1.35L5.41 20z\"/>\n",
              "  </svg>\n",
              "      </button>\n",
              "      \n",
              "  <style>\n",
              "    .colab-df-container {\n",
              "      display:flex;\n",
              "      flex-wrap:wrap;\n",
              "      gap: 12px;\n",
              "    }\n",
              "\n",
              "    .colab-df-convert {\n",
              "      background-color: #E8F0FE;\n",
              "      border: none;\n",
              "      border-radius: 50%;\n",
              "      cursor: pointer;\n",
              "      display: none;\n",
              "      fill: #1967D2;\n",
              "      height: 32px;\n",
              "      padding: 0 0 0 0;\n",
              "      width: 32px;\n",
              "    }\n",
              "\n",
              "    .colab-df-convert:hover {\n",
              "      background-color: #E2EBFA;\n",
              "      box-shadow: 0px 1px 2px rgba(60, 64, 67, 0.3), 0px 1px 3px 1px rgba(60, 64, 67, 0.15);\n",
              "      fill: #174EA6;\n",
              "    }\n",
              "\n",
              "    [theme=dark] .colab-df-convert {\n",
              "      background-color: #3B4455;\n",
              "      fill: #D2E3FC;\n",
              "    }\n",
              "\n",
              "    [theme=dark] .colab-df-convert:hover {\n",
              "      background-color: #434B5C;\n",
              "      box-shadow: 0px 1px 3px 1px rgba(0, 0, 0, 0.15);\n",
              "      filter: drop-shadow(0px 1px 2px rgba(0, 0, 0, 0.3));\n",
              "      fill: #FFFFFF;\n",
              "    }\n",
              "  </style>\n",
              "\n",
              "      <script>\n",
              "        const buttonEl =\n",
              "          document.querySelector('#df-3efda317-c151-4cfe-af8f-089a1d200fb0 button.colab-df-convert');\n",
              "        buttonEl.style.display =\n",
              "          google.colab.kernel.accessAllowed ? 'block' : 'none';\n",
              "\n",
              "        async function convertToInteractive(key) {\n",
              "          const element = document.querySelector('#df-3efda317-c151-4cfe-af8f-089a1d200fb0');\n",
              "          const dataTable =\n",
              "            await google.colab.kernel.invokeFunction('convertToInteractive',\n",
              "                                                     [key], {});\n",
              "          if (!dataTable) return;\n",
              "\n",
              "          const docLinkHtml = 'Like what you see? Visit the ' +\n",
              "            '<a target=\"_blank\" href=https://colab.research.google.com/notebooks/data_table.ipynb>data table notebook</a>'\n",
              "            + ' to learn more about interactive tables.';\n",
              "          element.innerHTML = '';\n",
              "          dataTable['output_type'] = 'display_data';\n",
              "          await google.colab.output.renderOutput(dataTable, element);\n",
              "          const docLink = document.createElement('div');\n",
              "          docLink.innerHTML = docLinkHtml;\n",
              "          element.appendChild(docLink);\n",
              "        }\n",
              "      </script>\n",
              "    </div>\n",
              "  </div>\n",
              "  "
            ]
          },
          "metadata": {},
          "execution_count": 8
        }
      ]
    },
    {
      "cell_type": "markdown",
      "source": [
        "### Correct typos: Deangelo > DeAngelo"
      ],
      "metadata": {
        "id": "fwljeygDt80S"
      }
    },
    {
      "cell_type": "code",
      "source": [
        "typos = {\n",
        "    \"Deangelo\": \"DeAngelo\"\n",
        "}\n",
        "\n",
        "df[\"speaker\"] = df[\"speaker\"].replace(typos, regex=True)"
      ],
      "metadata": {
        "id": "SwVCdk_Cut4H"
      },
      "execution_count": null,
      "outputs": []
    },
    {
      "cell_type": "markdown",
      "source": [
        "### Drop lines from characters that don't fall in the top 40 in terms of number of lines"
      ],
      "metadata": {
        "id": "F5b_mr13sRc1"
      }
    },
    {
      "cell_type": "code",
      "source": [
        "TOP_COUNT = 40\n",
        "\n",
        "top_speakers = df.value_counts(\"speaker\").head(TOP_COUNT).keys()"
      ],
      "metadata": {
        "id": "KTY77Ma6sKBS"
      },
      "execution_count": null,
      "outputs": []
    },
    {
      "cell_type": "code",
      "source": [
        "import matplotlib.pyplot as plt\n",
        "\n",
        "top_speakers = df.value_counts(\"speaker\").head(15).keys()\n",
        "\n",
        "speaker_counts = df[df[\"speaker\"].isin(top_speakers)][\"speaker\"].value_counts()\n",
        "speaker_names = speaker_counts.index\n",
        "counts = speaker_counts.values\n",
        "\n",
        "plt.bar(speaker_names, counts)\n",
        "plt.xticks(rotation=90)\n",
        "plt.xlabel(\"Speaker\")\n",
        "plt.ylabel(\"Dialogue Count\")\n",
        "plt.title(\"Dialogues per Speaker (top 15 speakers)\")\n",
        "\n",
        "plt.show()\n"
      ],
      "metadata": {
        "colab": {
          "base_uri": "https://localhost:8080/",
          "height": 511
        },
        "id": "uiQtiQKydo3s",
        "outputId": "e8003962-c230-4eb2-806d-3456039c6484"
      },
      "execution_count": null,
      "outputs": [
        {
          "output_type": "display_data",
          "data": {
            "text/plain": [
              "<Figure size 640x480 with 1 Axes>"
            ],
            "image/png": "[encoded data removed]"
          },
          "metadata": {}
        }
      ]
    },
    {
      "cell_type": "code",
      "source": [
        "df = df[df[\"speaker\"].isin(top_speakers)]\n",
        "df = df.reset_index(drop=True)\n",
        "df.info()"
      ],
      "metadata": {
        "colab": {
          "base_uri": "https://localhost:8080/"
        },
        "id": "yf6nywb-wshe",
        "outputId": "8c469116-04ef-4b31-e83e-353f2ab648e2"
      },
      "execution_count": null,
      "outputs": [
        {
          "output_type": "stream",
          "name": "stdout",
          "text": [
            "<class 'pandas.core.frame.DataFrame'>\n",
            "RangeIndex: 43981 entries, 0 to 43980\n",
            "Data columns (total 4 columns):\n",
            " #   Column   Non-Null Count  Dtype \n",
            "---  ------   --------------  ----- \n",
            " 0   title    43981 non-null  object\n",
            " 1   scene    43981 non-null  int64 \n",
            " 2   speaker  43981 non-null  object\n",
            " 3   line     43981 non-null  object\n",
            "dtypes: int64(1), object(3)\n",
            "memory usage: 1.3+ MB\n"
          ]
        }
      ]
    },
    {
      "cell_type": "markdown",
      "source": [
        "### Save new CSV to disk"
      ],
      "metadata": {
        "id": "Z-YWl-48x4hT"
      }
    },
    {
      "cell_type": "code",
      "source": [
        "with open(\"processed_data.csv\", \"w\") as out_fd:\n",
        "    df.to_csv(out_fd, index=False)"
      ],
      "metadata": {
        "id": "EHggPsoNxpmB"
      },
      "execution_count": null,
      "outputs": []
    },
    {
      "cell_type": "code",
      "source": [
        "!ls -lh"
      ],
      "metadata": {
        "colab": {
          "base_uri": "https://localhost:8080/"
        },
        "id": "E1mudIXMyMNs",
        "outputId": "8dbb2fe7-0f76-4f8d-ef45-2aedd8ccf280"
      },
      "execution_count": null,
      "outputs": [
        {
          "output_type": "stream",
          "name": "stdout",
          "text": [
            "total 9.5M\n",
            "-rw-r--r-- 1 root root 4.6M Jan 18  2021 data.csv\n",
            "-rw-r--r-- 1 root root 3.5M Apr 17 21:24 processed_data.csv\n",
            "drwxr-xr-x 1 root root 4.0K Apr 14 13:35 sample_data\n",
            "-rw-r--r-- 1 root root 1.4M Apr 17 21:23 the-office-us-complete-dialoguetranscript.zip\n"
          ]
        }
      ]
    },
    {
      "cell_type": "code",
      "source": [
        "!head -10 processed_data.csv"
      ],
      "metadata": {
        "colab": {
          "base_uri": "https://localhost:8080/"
        },
        "id": "MnopHFxwz_e9",
        "outputId": "b5ebfd86-7263-46f5-a15a-a0e49101a321"
      },
      "execution_count": null,
      "outputs": [
        {
          "output_type": "stream",
          "name": "stdout",
          "text": [
            "title,scene,speaker,line\n",
            "Pilot,1,Michael,All right Jim. Your quarterlies look very good. How are things at the library?\n",
            "Pilot,1,Jim,\"Oh, I told you. I couldn't close it. So...\"\n",
            "Pilot,1,Michael,\"So you've come to the master for guidance? Is this what you're saying, grasshopper?\"\n",
            "Pilot,1,Jim,\"Actually, you called me in here, but yeah.\"\n",
            "Pilot,1,Michael,\"All right. Well, let me show you how it's done.\"\n",
            "Pilot,2,Michael,\" Yes, I'd like to speak to your office manager, please. Yes, hello. This is Michael Scott. I am the Regional Manager of Dunder Mifflin Paper Products. Just wanted to talk to you manager-a-manger.  All right. Done deal. Thank you very much, sir. You're a gentleman and a scholar. Oh, I'm sorry. OK. I'm sorry. My mistake.  That was a woman I was talking to, so... She had a very low voice. Probably a smoker, so...  So that's the way it's done.\"\n",
            "Pilot,3,Michael,\"I've, uh, I've been at Dunder Mifflin for 12 years, the last four as Regional Manager. If you want to come through here... See we have the entire floor. So this is my kingdom, as far as the eye can see. This is our receptionist, Pam. Pam! Pam-Pam! Pam Beesly. Pam has been with us for... forever. Right, Pam?\"\n",
            "Pilot,3,Pam,Well. I don't know.\n",
            "Pilot,3,Michael,\"If you think she's cute now, you should have seen her a couple of years ago. \"\n"
          ]
        }
      ]
    },
    {
      "cell_type": "markdown",
      "source": [
        "# Convert .csv to a textual script for tokenization"
      ],
      "metadata": {
        "id": "kGznrYjyqo_J"
      }
    },
    {
      "cell_type": "markdown",
      "source": [
        "### Meta tokens for the script text"
      ],
      "metadata": {
        "id": "c4CZmtAW0ee7"
      }
    },
    {
      "cell_type": "code",
      "source": [
        "SCENE_START = \"<scene_start>\"\n",
        "SCENE_END = \"<scene_end>\"\n",
        "\n",
        "SPEAKER_START = \"<speaker_start>\"\n",
        "SPEAKER_END = \"<speaker_end>\"\n",
        "\n",
        "LINE_START = \"<line_start>\"\n",
        "LINE_END = \"<line_end>\"\n",
        "\n",
        "SENT_START = \"<sent_start>\"\n",
        "SENT_END = \"<sent_end>\"\n",
        "\n",
        "NEWLINE = \"<NEWLINE>\""
      ],
      "metadata": {
        "id": "8AecOdW40Rnz"
      },
      "execution_count": null,
      "outputs": []
    },
    {
      "cell_type": "code",
      "source": [
        "import csv\n",
        "import nltk\n",
        "import string\n",
        "from nltk.tokenize import sent_tokenize\n",
        "\n",
        "nltk.download('punkt')\n",
        "\n",
        "# Used to remove punctuation from strings\n",
        "translator = str.maketrans('', '', string.punctuation)\n",
        "\n",
        "with open(\"script.txt\", \"w\") as out_fd:\n",
        "    out_fd.write(SCENE_START + \" \")\n",
        "\n",
        "    with open(\"processed_data.csv\") as in_fd:\n",
        "        csv_reader = csv.DictReader(in_fd)\n",
        "\n",
        "        scene = 1\n",
        "        for row in csv_reader:\n",
        "            if int(row[\"scene\"]) > scene:\n",
        "                scene = int(row[\"scene\"])\n",
        "                out_fd.write(SCENE_END + \" \" + SCENE_START + \" \")\n",
        "\n",
        "            out_fd.write(f\"{SPEAKER_START} {row['speaker']} {SPEAKER_END} {LINE_START} \")\n",
        "            \n",
        "            # A line may have multiple sentences\n",
        "            sentences = sent_tokenize(row['line'])\n",
        "            for sentence in sentences:\n",
        "                sentence = sentence.translate(translator)\n",
        "                out_fd.write(f\"{SENT_START} {sentence} {SENT_END} \")\n",
        "\n",
        "            out_fd.write(LINE_END + \" \")\n",
        "\n",
        "    out_fd.write(SCENE_END + \" \")"
      ],
      "metadata": {
        "colab": {
          "base_uri": "https://localhost:8080/"
        },
        "id": "nhwwQDiLqnyg",
        "outputId": "c4717424-76e8-4a04-fb3a-e5e6122893ef"
      },
      "execution_count": null,
      "outputs": [
        {
          "output_type": "stream",
          "name": "stderr",
          "text": [
            "[nltk_data] Downloading package punkt to /root/nltk_data...\n",
            "[nltk_data]   Unzipping tokenizers/punkt.zip.\n"
          ]
        }
      ]
    },
    {
      "cell_type": "code",
      "source": [
        "# Checking the first 500 characters of the file\n",
        "!head -c500 script.txt"
      ],
      "metadata": {
        "colab": {
          "base_uri": "https://localhost:8080/"
        },
        "id": "qFFLJnvf12uP",
        "outputId": "b66a80bf-1e12-4efe-bf04-2601b1a22ba4"
      },
      "execution_count": null,
      "outputs": [
        {
          "output_type": "stream",
          "name": "stdout",
          "text": [
            "<scene_start> <speaker_start> Michael <speaker_end> <line_start> <sent_start> All right Jim <sent_end> <sent_start> Your quarterlies look very good <sent_end> <sent_start> How are things at the library <sent_end> <line_end> <speaker_start> Jim <speaker_end> <line_start> <sent_start> Oh I told you <sent_end> <sent_start> I couldnt close it <sent_end> <sent_start> So <sent_end> <line_end> <speaker_start> Michael <speaker_end> <line_start> <sent_start> So youve come to the master for guidance <sent"
          ]
        }
      ]
    },
    {
      "cell_type": "code",
      "source": [
        "import csv\n",
        "import nltk\n",
        "import string\n",
        "from nltk.tokenize import sent_tokenize\n",
        "\n",
        "nltk.download('punkt')\n",
        "\n",
        "# Used to remove punctuation from strings\n",
        "translator = str.maketrans('', '', string.punctuation)\n",
        "\n",
        "with open(\"script_simple.txt\", \"w\") as out_fd:\n",
        "    with open(\"processed_data.csv\") as in_fd:\n",
        "        csv_reader = csv.DictReader(in_fd)\n",
        "\n",
        "        scene = 1\n",
        "        for row in csv_reader:\n",
        "            if int(row[\"scene\"]) > scene:\n",
        "                scene = int(row[\"scene\"])\n",
        "\n",
        "            out_fd.write(f\"{row['speaker']}: {row['line']}\\n\")"
      ],
      "metadata": {
        "colab": {
          "base_uri": "https://localhost:8080/"
        },
        "id": "NUBa82fvTiyz",
        "outputId": "9eaf468f-0c0b-4fae-be86-c98a1a7db8e1"
      },
      "execution_count": null,
      "outputs": [
        {
          "output_type": "stream",
          "name": "stderr",
          "text": [
            "[nltk_data] Downloading package punkt to /root/nltk_data...\n",
            "[nltk_data]   Package punkt is already up-to-date!\n"
          ]
        }
      ]
    },
    {
      "cell_type": "code",
      "source": [
        "# Checking the first 500 characters of the file\n",
        "!head -c500 script_simple.txt"
      ],
      "metadata": {
        "colab": {
          "base_uri": "https://localhost:8080/"
        },
        "id": "pfIXpWE4T-M9",
        "outputId": "eb3188c6-fc16-4717-8e9b-2d63da73e52e"
      },
      "execution_count": null,
      "outputs": [
        {
          "output_type": "stream",
          "name": "stdout",
          "text": [
            "Michael: All right Jim. Your quarterlies look very good. How are things at the library?\n",
            "Jim: Oh, I told you. I couldn't close it. So...\n",
            "Michael: So you've come to the master for guidance? Is this what you're saying, grasshopper?\n",
            "Jim: Actually, you called me in here, but yeah.\n",
            "Michael: All right. Well, let me show you how it's done.\n",
            "Michael:  Yes, I'd like to speak to your office manager, please. Yes, hello. This is Michael Scott. I am the Regional Manager of Dunder Mifflin Paper Products. Just w"
          ]
        }
      ]
    },
    {
      "cell_type": "markdown",
      "source": [
        "# Train word embedding model"
      ],
      "metadata": {
        "id": "1VE-OEAW21FK"
      }
    },
    {
      "cell_type": "code",
      "source": [
        "!wget https://nlp.stanford.edu/data/glove.6B.zip"
      ],
      "metadata": {
        "colab": {
          "base_uri": "https://localhost:8080/"
        },
        "id": "FDSToABUvR6H",
        "outputId": "6cd16b58-6678-45fc-8b9f-d36f39a659ac"
      },
      "execution_count": null,
      "outputs": [
        {
          "output_type": "stream",
          "name": "stdout",
          "text": [
            "--2023-04-17 21:24:05--  https://nlp.stanford.edu/data/glove.6B.zip\n",
            "Resolving nlp.stanford.edu (nlp.stanford.edu)... 171.64.67.140\n",
            "Connecting to nlp.stanford.edu (nlp.stanford.edu)|171.64.67.140|:443... connected.\n",
            "HTTP request sent, awaiting response... 301 Moved Permanently\n",
            "Location: https://downloads.cs.stanford.edu/nlp/data/glove.6B.zip [following]\n",
            "--2023-04-17 21:24:06--  https://downloads.cs.stanford.edu/nlp/data/glove.6B.zip\n",
            "Resolving downloads.cs.stanford.edu (downloads.cs.stanford.edu)... 171.64.64.22\n",
            "Connecting to downloads.cs.stanford.edu (downloads.cs.stanford.edu)|171.64.64.22|:443... connected.\n",
            "HTTP request sent, awaiting response... 200 OK\n",
            "Length: 862182613 (822M) [application/zip]\n",
            "Saving to: ‘glove.6B.zip’\n",
            "\n",
            "glove.6B.zip        100%[===================>] 822.24M  5.09MB/s    in 2m 39s  \n",
            "\n",
            "2023-04-17 21:26:46 (5.17 MB/s) - ‘glove.6B.zip’ saved [862182613/862182613]\n",
            "\n"
          ]
        }
      ]
    },
    {
      "cell_type": "code",
      "source": [
        "!unzip glove.6B.zip && ls"
      ],
      "metadata": {
        "colab": {
          "base_uri": "https://localhost:8080/"
        },
        "id": "vdX5-Au4wEu7",
        "outputId": "5c1e9bfd-e6b3-4e1c-a647-344cfcc33a67"
      },
      "execution_count": null,
      "outputs": [
        {
          "output_type": "stream",
          "name": "stdout",
          "text": [
            "Archive:  glove.6B.zip\n",
            "  inflating: glove.6B.50d.txt        \n",
            "  inflating: glove.6B.100d.txt       \n",
            "  inflating: glove.6B.200d.txt       \n",
            "  inflating: glove.6B.300d.txt       \n",
            "data.csv\t   processed_data.csv\n",
            "glove.6B.100d.txt  sample_data\n",
            "glove.6B.200d.txt  script_simple.txt\n",
            "glove.6B.300d.txt  script.txt\n",
            "glove.6B.50d.txt   the-office-us-complete-dialoguetranscript.zip\n",
            "glove.6B.zip\n"
          ]
        }
      ]
    },
    {
      "cell_type": "code",
      "source": [
        "import numpy as np\n",
        "\n",
        "def load_glove_model(filepath):\n",
        "    glove_model = {}\n",
        "    with open(filepath,'r') as f:\n",
        "        for line in f:\n",
        "            split_line = line.split()\n",
        "            word = split_line[0]\n",
        "            embedding = np.array(split_line[1:], dtype=np.float64)\n",
        "            glove_model[word] = embedding\n",
        "    return glove_model"
      ],
      "metadata": {
        "id": "5FBK_o0SwLsM"
      },
      "execution_count": null,
      "outputs": []
    },
    {
      "cell_type": "code",
      "source": [
        "EMBED_SIZE = 300\n",
        "glove_model = load_glove_model(f\"glove.6B.{EMBED_SIZE}d.txt\")"
      ],
      "metadata": {
        "id": "nY0H2NTvxVMv"
      },
      "execution_count": null,
      "outputs": []
    },
    {
      "cell_type": "code",
      "source": [
        "# Load the training script\n",
        "filename = \"script_simple.txt\"\n",
        "raw_text = open(filename, \"r\").read()"
      ],
      "metadata": {
        "id": "z2rn6aH5AEhV"
      },
      "execution_count": null,
      "outputs": []
    },
    {
      "cell_type": "markdown",
      "source": [
        "### Separate punctuation from words"
      ],
      "metadata": {
        "id": "fPlqju33bzpF"
      }
    },
    {
      "cell_type": "code",
      "source": [
        "PUNCTUATIONS = set(['.', '[', ']', '(', ')', ';', ':', \"'\", '/', '\"', ',', '?', '*', '!', '-', '$', '%', '&'])\n",
        "\n",
        "for punct in PUNCTUATIONS:\n",
        "    raw_text = raw_text.replace(punct, f\" {punct} \")\n",
        "\n",
        "# Keras' tokenizer gets rid of \\n\n",
        "raw_text = raw_text.replace(\"\\n\", f\" {NEWLINE} \")"
      ],
      "metadata": {
        "id": "bukwI7RMb209"
      },
      "execution_count": null,
      "outputs": []
    },
    {
      "cell_type": "code",
      "source": [
        "raw_text[:120]"
      ],
      "metadata": {
        "colab": {
          "base_uri": "https://localhost:8080/",
          "height": 35
        },
        "id": "w_0KhAkPcK4R",
        "outputId": "1e2c5a87-5697-4405-c29d-7062a999661c"
      },
      "execution_count": null,
      "outputs": [
        {
          "output_type": "execute_result",
          "data": {
            "text/plain": [
              "'Michael :  All right Jim .  Your quarterlies look very good .  How are things at the library ?  <NEWLINE> Jim :  Oh ,  I'"
            ],
            "application/vnd.google.colaboratory.intrinsic+json": {
              "type": "string"
            }
          },
          "metadata": {},
          "execution_count": 35
        }
      ]
    },
    {
      "cell_type": "code",
      "source": [
        "# Convert all tokens to lower-case\n",
        "tokens = raw_text.split()\n",
        "tokens = [token.lower() for token in tokens]"
      ],
      "metadata": {
        "id": "GVj-NolvcfK5"
      },
      "execution_count": null,
      "outputs": []
    },
    {
      "cell_type": "code",
      "source": [
        "tokens[:20]"
      ],
      "metadata": {
        "colab": {
          "base_uri": "https://localhost:8080/"
        },
        "id": "TRqvdrmcbLfj",
        "outputId": "7900a54c-e2ca-490c-c206-56177a5f4054"
      },
      "execution_count": null,
      "outputs": [
        {
          "output_type": "execute_result",
          "data": {
            "text/plain": [
              "['michael',\n",
              " ':',\n",
              " 'all',\n",
              " 'right',\n",
              " 'jim',\n",
              " '.',\n",
              " 'your',\n",
              " 'quarterlies',\n",
              " 'look',\n",
              " 'very',\n",
              " 'good',\n",
              " '.',\n",
              " 'how',\n",
              " 'are',\n",
              " 'things',\n",
              " 'at',\n",
              " 'the',\n",
              " 'library',\n",
              " '?',\n",
              " '<newline>']"
            ]
          },
          "metadata": {},
          "execution_count": 37
        }
      ]
    },
    {
      "cell_type": "code",
      "source": [
        "glove_model[\"michael\"]"
      ],
      "metadata": {
        "colab": {
          "base_uri": "https://localhost:8080/"
        },
        "id": "82knCiRyOIrx",
        "outputId": "0f2e6570-e81f-4781-f89f-9f670b42b7c1"
      },
      "execution_count": null,
      "outputs": [
        {
          "output_type": "execute_result",
          "data": {
            "text/plain": [
              "array([ 3.6337e-01, -2.1047e-01,  6.4684e-01, -1.8417e-01,  2.0612e-01,\n",
              "       -2.3688e-01, -3.4095e-01, -4.6431e-01, -3.1739e-01, -4.0770e-01,\n",
              "        4.5746e-01,  2.1086e-01,  2.9473e-02,  1.3390e-01, -5.3772e-01,\n",
              "       -1.0975e-01, -4.0693e-01, -4.6384e-01,  2.7349e-03,  6.6778e-01,\n",
              "        5.5350e-01,  6.4761e-01,  2.6879e-02, -7.1526e-01,  2.6706e-01,\n",
              "       -3.2590e-01,  1.7212e-01,  6.6302e-02, -6.4462e-01, -2.5713e-01,\n",
              "       -5.2984e-02,  1.1503e-01,  2.1070e-01,  3.7471e-01, -1.8613e+00,\n",
              "       -5.7297e-02,  4.2245e-01,  2.1364e-01,  3.1534e-01, -2.9126e-01,\n",
              "       -3.9728e-01,  8.2748e-02,  1.3529e-01,  6.2794e-02,  5.7100e-02,\n",
              "       -3.4083e-01, -2.8055e-01, -3.8088e-02, -2.4010e-02,  3.6893e-01,\n",
              "        2.7360e-01, -6.2168e-01, -2.6288e-01,  2.0785e-01,  7.6890e-02,\n",
              "        1.3224e-01, -9.4557e-02,  3.9737e-01, -5.0603e-01, -5.9722e-01,\n",
              "        1.2466e-01,  4.4408e-01,  1.5798e-01,  4.2499e-02, -1.5451e-01,\n",
              "       -7.1794e-01, -1.2439e-02, -6.5191e-01,  2.0474e-01, -4.5136e-01,\n",
              "       -5.5451e-01, -2.8234e-01,  3.5566e-01, -4.8267e-01, -3.1210e-01,\n",
              "       -3.2978e-02, -5.2702e-01,  5.9240e-01, -3.9838e-01,  5.4249e-01,\n",
              "        5.7100e-01,  9.2924e-02,  3.3269e-02, -1.6900e-01,  8.0313e-02,\n",
              "        7.7001e-01, -2.8142e-02,  7.6940e-01,  1.8877e-01, -5.8329e-01,\n",
              "       -2.5825e-01,  7.5064e-01, -1.3520e-01, -2.8257e-01, -3.2777e-01,\n",
              "        1.8991e-01, -2.6734e-01,  4.3893e-01, -3.6980e-01, -3.8055e-01,\n",
              "       -2.7250e-01, -4.6923e-02,  3.0274e-01, -2.2704e-01,  2.6902e-01,\n",
              "        7.9739e-02,  4.7587e-01,  6.9592e-02, -1.0994e-01, -2.3052e-01,\n",
              "       -8.5252e-02,  3.6691e-01,  3.2991e-01,  3.6448e-01, -1.7872e-02,\n",
              "        2.2771e-01, -2.5396e-01, -6.1050e-02, -6.6773e-01, -4.5582e-01,\n",
              "       -1.3634e-01,  8.6195e-02, -2.5565e-01, -5.0691e-01, -2.1398e-01,\n",
              "       -5.3643e-01,  1.2876e-01,  1.2104e-01,  1.9526e-03,  3.4588e-01,\n",
              "       -1.2063e-01, -2.4090e-01,  4.3098e-01, -1.7300e-01,  9.7809e-02,\n",
              "        1.8958e-01,  4.6328e-01, -1.6400e-01, -2.8838e-01,  2.1752e-03,\n",
              "       -2.2318e-01, -2.2662e-01,  7.3407e-01,  1.5158e-01, -6.2768e-01,\n",
              "        1.3454e-01,  9.0787e-02, -3.8933e-01, -1.0728e-01, -1.6983e-01,\n",
              "        1.1109e+00, -5.0344e-01, -2.2489e-01, -3.2711e-02, -8.0434e-02,\n",
              "        9.0627e-02, -1.9399e-01,  2.2703e-01,  2.6137e-01,  6.2915e-02,\n",
              "        4.2642e-01, -5.7029e-01,  3.3196e-01, -4.3403e-01, -5.4475e-01,\n",
              "        3.9774e-01, -9.1087e-02,  3.6381e-01,  1.4573e-02, -1.3154e-02,\n",
              "        9.8814e-02, -5.4216e-02, -3.5060e-01,  1.8292e-01, -1.9404e-02,\n",
              "        1.7977e-01,  3.5974e-01, -1.3690e-03,  2.1274e-01, -2.8280e-02,\n",
              "       -1.6384e-01,  4.1741e-01, -6.6894e-01, -2.1749e-01,  2.7527e-01,\n",
              "       -1.6718e-01, -1.1370e+00, -2.8746e-01,  1.8201e-01,  1.3787e-01,\n",
              "        1.2798e-01, -1.2369e-01,  3.5783e-01,  5.0200e-01, -4.1234e-02,\n",
              "       -1.7318e-01,  5.8265e-01,  1.1121e-01, -1.6572e-01, -2.6343e-01,\n",
              "        1.3591e+00,  2.3387e-01, -3.7153e-01,  1.9062e-01, -1.0968e-01,\n",
              "       -1.3195e-01,  1.4675e-01, -1.1776e-01, -1.7371e-01, -6.6867e-01,\n",
              "        5.4749e-02, -9.1042e-01,  2.1961e-01, -3.0963e-01,  5.7075e-01,\n",
              "       -3.9253e-01, -2.1581e-01, -6.1477e-02,  1.8446e-01, -3.0974e-01,\n",
              "       -6.2122e-02, -2.7457e-01, -5.5575e-02,  1.6411e-01,  2.8462e-01,\n",
              "        1.3544e-01,  1.1042e-01, -3.5713e-01,  4.0190e-02, -1.6801e-01,\n",
              "        3.0653e-01,  1.0029e+00, -5.5574e-02, -6.4344e-02, -5.3705e-01,\n",
              "        6.2514e-01,  1.6720e-01,  2.6372e-01, -4.8114e-01,  2.9852e-01,\n",
              "       -5.9738e-01, -4.7117e-01,  2.8303e-01, -1.2719e-01, -1.6950e-01,\n",
              "        2.9634e-01,  3.4336e-02, -2.0416e-01, -4.8526e-01, -1.7229e-02,\n",
              "       -3.2879e-01,  1.3811e-01, -1.9601e-01,  1.8964e-01,  6.8701e-01,\n",
              "        3.6047e-01,  3.6909e-01, -7.6835e-01,  1.3381e-01, -3.1847e-01,\n",
              "        1.4805e-02,  3.7470e-02,  5.3139e-01, -8.7039e-03, -1.8287e-01,\n",
              "        1.6768e-01, -1.0415e-01, -8.2984e-02,  9.9728e-02, -3.5287e-01,\n",
              "       -1.5617e-01, -3.6957e-01, -2.2852e-01, -5.7825e-01, -3.1884e-01,\n",
              "       -2.9808e-01, -7.1111e-01, -4.2504e-01, -2.7508e-02, -6.4850e-01,\n",
              "        9.2916e-02, -5.4598e-01,  7.2340e-02, -4.2177e-02, -3.9228e-01,\n",
              "        2.2798e-01, -1.8293e-01, -6.0339e-01,  3.1605e-01, -5.4955e-02,\n",
              "        5.1253e-01, -1.7594e-01, -2.3262e-01,  6.6599e-01, -2.3075e-01,\n",
              "       -7.6109e-02, -4.2683e-02,  4.5360e-02, -4.6374e-01,  4.4062e-01])"
            ]
          },
          "metadata": {},
          "execution_count": 38
        }
      ]
    },
    {
      "cell_type": "markdown",
      "source": [
        "### Tokenize and encode the text"
      ],
      "metadata": {
        "id": "Ivu6FetMAXAy"
      }
    },
    {
      "cell_type": "code",
      "source": [
        "from keras.models import Model, Sequential\n",
        "from keras.layers import Embedding, Dense, LSTM, Dropout, Input\n",
        "from keras.utils import to_categorical\n",
        "from keras.preprocessing.text import Tokenizer"
      ],
      "metadata": {
        "id": "2Vo1xTGy2-h8"
      },
      "execution_count": null,
      "outputs": []
    },
    {
      "cell_type": "code",
      "source": [
        "tokenizer = Tokenizer()\n",
        "tokenizer.fit_on_texts([tokens])\n",
        "encoded = tokenizer.texts_to_sequences([tokens])[0]"
      ],
      "metadata": {
        "id": "qeAWCeYWAR70"
      },
      "execution_count": null,
      "outputs": []
    },
    {
      "cell_type": "code",
      "source": [
        "encoded[:10]"
      ],
      "metadata": {
        "colab": {
          "base_uri": "https://localhost:8080/"
        },
        "id": "H2o6-zc0Aa2L",
        "outputId": "9683bc03-e65b-4b00-a5ff-a22389a9733b"
      },
      "execution_count": null,
      "outputs": [
        {
          "output_type": "execute_result",
          "data": {
            "text/plain": [
              "[9, 2, 53, 57, 19, 1, 50, 9469, 124, 127]"
            ]
          },
          "metadata": {},
          "execution_count": 41
        }
      ]
    },
    {
      "cell_type": "code",
      "source": [
        "vocab_size = len(tokenizer.word_index) + 1\n",
        "print(vocab_size)"
      ],
      "metadata": {
        "colab": {
          "base_uri": "https://localhost:8080/"
        },
        "id": "KrINAPipBanv",
        "outputId": "20848fc1-1b49-4799-b6c1-bf745422e026"
      },
      "execution_count": null,
      "outputs": [
        {
          "output_type": "stream",
          "name": "stdout",
          "text": [
            "17389\n"
          ]
        }
      ]
    },
    {
      "cell_type": "markdown",
      "source": [
        "### Generate input and output sequences"
      ],
      "metadata": {
        "id": "DjAHEuzxA4q0"
      }
    },
    {
      "cell_type": "code",
      "source": [
        "INPUT_SEQ_LEN = 100\n",
        "STEP_SIZE = 5\n",
        "\n",
        "X = []\n",
        "Y = []\n",
        "\n",
        "for idx in range(0, len(encoded) - INPUT_SEQ_LEN, STEP_SIZE):\n",
        "    X.append(encoded[idx : idx + INPUT_SEQ_LEN])\n",
        "    Y.append(encoded[idx + INPUT_SEQ_LEN])\n",
        "\n",
        "X = np.array(X)\n",
        "Y = np.array(Y)"
      ],
      "metadata": {
        "id": "gLhdBO4vBcj4"
      },
      "execution_count": null,
      "outputs": []
    },
    {
      "cell_type": "markdown",
      "source": [
        "### Build embeddings matrix"
      ],
      "metadata": {
        "id": "IUhfv_U5cB35"
      }
    },
    {
      "cell_type": "code",
      "source": [
        "embedding_matrix = np.zeros((vocab_size, EMBED_SIZE))\n",
        "for word, idx in tokenizer.word_index.items():\n",
        "    embedding_vector = glove_model.get(word, 0)\n",
        "    embedding_matrix[idx] = embedding_vector"
      ],
      "metadata": {
        "id": "ZgYnlE7Ebm2r"
      },
      "execution_count": null,
      "outputs": []
    },
    {
      "cell_type": "markdown",
      "source": [
        "# LSTM Model"
      ],
      "metadata": {
        "id": "J0tuXNJ9Ed3R"
      }
    },
    {
      "cell_type": "code",
      "source": [
        "def data_generator(X, Y, batch_size, shuffle):\n",
        "    while True:\n",
        "        # Shuffle the data\n",
        "        if shuffle:\n",
        "            indices = np.random.permutation(len(X))\n",
        "            X = X[indices]\n",
        "            Y = Y[indices]\n",
        "\n",
        "        # Generate batches\n",
        "        for i in range(0, len(X), batch_size):\n",
        "            X_batch = X[i:i+batch_size]\n",
        "            Y_batch = Y[i:i+batch_size]\n",
        "\n",
        "            # Convert labels to one-hot vectors\n",
        "            Y_batch = to_categorical(Y_batch, vocab_size)\n",
        "\n",
        "            # Yield the batch\n",
        "            yield X_batch, Y_batch"
      ],
      "metadata": {
        "id": "fvPt6d9EFaVl"
      },
      "execution_count": null,
      "outputs": []
    },
    {
      "cell_type": "code",
      "source": [
        "from tensorflow.keras.models import Sequential\n",
        "from tensorflow.keras.layers import Embedding, LSTM, Dense, Dropout, Bidirectional\n",
        "from tensorflow.keras.optimizers import Adam\n",
        "from tensorflow.keras.callbacks import ModelCheckpoint, ReduceLROnPlateau\n",
        "\n",
        "# Define the model architecture\n",
        "model = Sequential()\n",
        "model.add(Embedding(input_dim=vocab_size, output_dim=EMBED_SIZE, input_length=INPUT_SEQ_LEN, weights=[embedding_matrix], trainable=False))\n",
        "model.add(Bidirectional(LSTM(512, return_sequences=True)))\n",
        "model.add(Dropout(0.5))\n",
        "model.add(Bidirectional(LSTM(256)))\n",
        "model.add(Dense(vocab_size, activation='softmax'))"
      ],
      "metadata": {
        "id": "i7R7V98_DWyD"
      },
      "execution_count": null,
      "outputs": []
    },
    {
      "cell_type": "code",
      "source": [
        "# Compile the model with Adam optimizer and categorical crossentropy loss\n",
        "optimizer = Adam(lr=0.001)\n",
        "model.compile(optimizer=optimizer, loss='categorical_crossentropy')"
      ],
      "metadata": {
        "colab": {
          "base_uri": "https://localhost:8080/"
        },
        "id": "5neZKSNI6pyZ",
        "outputId": "fa25c77a-3fa6-4aff-d875-bd214e90038e"
      },
      "execution_count": null,
      "outputs": [
        {
          "output_type": "stream",
          "name": "stderr",
          "text": [
            "WARNING:absl:`lr` is deprecated in Keras optimizer, please use `learning_rate` or use the legacy optimizer, e.g.,tf.keras.optimizers.legacy.Adam.\n"
          ]
        }
      ]
    },
    {
      "cell_type": "code",
      "source": [
        "model.summary()"
      ],
      "metadata": {
        "colab": {
          "base_uri": "https://localhost:8080/"
        },
        "id": "2voF3Tjdbbjh",
        "outputId": "1ba008b3-c386-4982-9e45-f22d83bb3684"
      },
      "execution_count": null,
      "outputs": [
        {
          "output_type": "stream",
          "name": "stdout",
          "text": [
            "Model: \"sequential\"\n",
            "_________________________________________________________________\n",
            " Layer (type)                Output Shape              Param #   \n",
            "=================================================================\n",
            " embedding (Embedding)       (None, 100, 300)          5216700   \n",
            "                                                                 \n",
            " bidirectional (Bidirectiona  (None, 100, 1024)        3330048   \n",
            " l)                                                              \n",
            "                                                                 \n",
            " dropout (Dropout)           (None, 100, 1024)         0         \n",
            "                                                                 \n",
            " bidirectional_1 (Bidirectio  (None, 512)              2623488   \n",
            " nal)                                                            \n",
            "                                                                 \n",
            " dense (Dense)               (None, 17389)             8920557   \n",
            "                                                                 \n",
            "=================================================================\n",
            "Total params: 20,090,793\n",
            "Trainable params: 14,874,093\n",
            "Non-trainable params: 5,216,700\n",
            "_________________________________________________________________\n"
          ]
        }
      ]
    },
    {
      "cell_type": "code",
      "source": [
        "# Define the batch size and number of epochs\n",
        "BATCH_SIZE = 128\n",
        "EPOCHS =20\n",
        "STEPS_PER_EPOCH = len(X) // BATCH_SIZE"
      ],
      "metadata": {
        "id": "KOGPGYVoEq9Z"
      },
      "execution_count": null,
      "outputs": []
    },
    {
      "cell_type": "code",
      "source": [
        "# Define the callbacks for model checkpoint and learning rate reduction\n",
        "checkpoint = ModelCheckpoint(\"weights.hdf5\", monitor='loss', verbose=1, save_best_only=True, mode='min')\n",
        "reduce_lr = ReduceLROnPlateau(monitor='loss', factor=0.5, patience=1, min_lr=0.0001)\n",
        "callbacks = [checkpoint, reduce_lr]"
      ],
      "metadata": {
        "id": "NFzV-vITXVyh"
      },
      "execution_count": null,
      "outputs": []
    },
    {
      "cell_type": "code",
      "source": [
        "# Train the model using the data generator\n",
        "train_generator = data_generator(X, Y, BATCH_SIZE, shuffle=True)\n",
        "model.fit(train_generator, steps_per_epoch=STEPS_PER_EPOCH, epochs=EPOCHS, callbacks=callbacks)"
      ],
      "metadata": {
        "id": "CwFjVL-oXYaT",
        "colab": {
          "base_uri": "https://localhost:8080/"
        },
        "outputId": "4953be94-dcf0-4b84-8097-a9efc3703de3"
      },
      "execution_count": null,
      "outputs": [
        {
          "output_type": "stream",
          "name": "stdout",
          "text": [
            "Epoch 1/20\n",
            "1242/1242 [==============================] - ETA: 0s - loss: 4.0134\n",
            "Epoch 1: loss improved from inf to 4.01339, saving model to weights.hdf5\n",
            "1242/1242 [==============================] - 200s 161ms/step - loss: 4.0134 - lr: 0.0010\n",
            "Epoch 2/20\n",
            "1242/1242 [==============================] - ETA: 0s - loss: 3.7866\n",
            "Epoch 2: loss improved from 4.01339 to 3.78663, saving model to weights.hdf5\n",
            "1242/1242 [==============================] - 200s 161ms/step - loss: 3.7866 - lr: 0.0010\n",
            "Epoch 3/20\n",
            "1242/1242 [==============================] - ETA: 0s - loss: 3.6295\n",
            "Epoch 3: loss improved from 3.78663 to 3.62946, saving model to weights.hdf5\n",
            "1242/1242 [==============================] - 199s 161ms/step - loss: 3.6295 - lr: 0.0010\n",
            "Epoch 4/20\n",
            "1242/1242 [==============================] - ETA: 0s - loss: 3.4903\n",
            "Epoch 4: loss improved from 3.62946 to 3.49031, saving model to weights.hdf5\n",
            "1242/1242 [==============================] - 199s 160ms/step - loss: 3.4903 - lr: 0.0010\n",
            "Epoch 5/20\n",
            "1242/1242 [==============================] - ETA: 0s - loss: 3.3614\n",
            "Epoch 5: loss improved from 3.49031 to 3.36136, saving model to weights.hdf5\n",
            "1242/1242 [==============================] - 199s 161ms/step - loss: 3.3614 - lr: 0.0010\n",
            "Epoch 6/20\n",
            "1242/1242 [==============================] - ETA: 0s - loss: 3.2327\n",
            "Epoch 6: loss improved from 3.36136 to 3.23273, saving model to weights.hdf5\n",
            "1242/1242 [==============================] - 200s 161ms/step - loss: 3.2327 - lr: 0.0010\n",
            "Epoch 7/20\n",
            "1242/1242 [==============================] - ETA: 0s - loss: 3.1071\n",
            "Epoch 7: loss improved from 3.23273 to 3.10707, saving model to weights.hdf5\n",
            "1242/1242 [==============================] - 200s 161ms/step - loss: 3.1071 - lr: 0.0010\n",
            "Epoch 8/20\n",
            "1242/1242 [==============================] - ETA: 0s - loss: 2.9827\n",
            "Epoch 8: loss improved from 3.10707 to 2.98268, saving model to weights.hdf5\n",
            "1242/1242 [==============================] - 200s 161ms/step - loss: 2.9827 - lr: 0.0010\n",
            "Epoch 9/20\n",
            "1242/1242 [==============================] - ETA: 0s - loss: 2.8699\n",
            "Epoch 9: loss improved from 2.98268 to 2.86994, saving model to weights.hdf5\n",
            "1242/1242 [==============================] - 200s 161ms/step - loss: 2.8699 - lr: 0.0010\n",
            "Epoch 10/20\n",
            "1242/1242 [==============================] - ETA: 0s - loss: 2.7592\n",
            "Epoch 10: loss improved from 2.86994 to 2.75922, saving model to weights.hdf5\n",
            "1242/1242 [==============================] - 200s 161ms/step - loss: 2.7592 - lr: 0.0010\n",
            "Epoch 11/20\n",
            "1242/1242 [==============================] - ETA: 0s - loss: 2.6534\n",
            "Epoch 11: loss improved from 2.75922 to 2.65338, saving model to weights.hdf5\n",
            "1242/1242 [==============================] - 200s 161ms/step - loss: 2.6534 - lr: 0.0010\n",
            "Epoch 12/20\n",
            "1242/1242 [==============================] - ETA: 0s - loss: 2.5539\n",
            "Epoch 12: loss improved from 2.65338 to 2.55392, saving model to weights.hdf5\n",
            "1242/1242 [==============================] - 200s 161ms/step - loss: 2.5539 - lr: 0.0010\n",
            "Epoch 13/20\n",
            "1242/1242 [==============================] - ETA: 0s - loss: 2.4532\n",
            "Epoch 13: loss improved from 2.55392 to 2.45315, saving model to weights.hdf5\n",
            "1242/1242 [==============================] - 200s 161ms/step - loss: 2.4532 - lr: 0.0010\n",
            "Epoch 14/20\n",
            "1242/1242 [==============================] - ETA: 0s - loss: 2.3619\n",
            "Epoch 14: loss improved from 2.45315 to 2.36185, saving model to weights.hdf5\n",
            "1242/1242 [==============================] - 200s 161ms/step - loss: 2.3619 - lr: 0.0010\n",
            "Epoch 15/20\n",
            "1242/1242 [==============================] - ETA: 0s - loss: 2.2722\n",
            "Epoch 15: loss improved from 2.36185 to 2.27225, saving model to weights.hdf5\n",
            "1242/1242 [==============================] - 200s 161ms/step - loss: 2.2722 - lr: 0.0010\n",
            "Epoch 16/20\n",
            "1242/1242 [==============================] - ETA: 0s - loss: 2.1913\n",
            "Epoch 16: loss improved from 2.27225 to 2.19126, saving model to weights.hdf5\n",
            "1242/1242 [==============================] - 200s 161ms/step - loss: 2.1913 - lr: 0.0010\n",
            "Epoch 17/20\n",
            "1242/1242 [==============================] - ETA: 0s - loss: 2.1092\n",
            "Epoch 17: loss improved from 2.19126 to 2.10919, saving model to weights.hdf5\n",
            "1242/1242 [==============================] - 200s 161ms/step - loss: 2.1092 - lr: 0.0010\n",
            "Epoch 18/20\n",
            "1242/1242 [==============================] - ETA: 0s - loss: 2.0342\n",
            "Epoch 18: loss improved from 2.10919 to 2.03417, saving model to weights.hdf5\n",
            "1242/1242 [==============================] - 200s 161ms/step - loss: 2.0342 - lr: 0.0010\n",
            "Epoch 19/20\n",
            "1242/1242 [==============================] - ETA: 0s - loss: 1.9563\n",
            "Epoch 19: loss improved from 2.03417 to 1.95632, saving model to weights.hdf5\n",
            "1242/1242 [==============================] - 200s 161ms/step - loss: 1.9563 - lr: 0.0010\n",
            "Epoch 20/20\n",
            "1242/1242 [==============================] - ETA: 0s - loss: 1.8892\n",
            "Epoch 20: loss improved from 1.95632 to 1.88924, saving model to weights.hdf5\n",
            "1242/1242 [==============================] - 200s 161ms/step - loss: 1.8892 - lr: 0.0010\n"
          ]
        },
        {
          "output_type": "execute_result",
          "data": {
            "text/plain": [
              "<keras.callbacks.History at 0x7fb7c8ad9b50>"
            ]
          },
          "metadata": {},
          "execution_count": 53
        }
      ]
    },
    {
      "cell_type": "code",
      "source": [
        "from tensorflow.keras.preprocessing.sequence import pad_sequences\n",
        "\n",
        "def generate_top_p_sampling(seed_speaker, n_lines, temperature=1.0, max_words=500, top_p=0.9):\n",
        "    assert seed_speaker in set(top_speakers), \"Seed speaker is not a top speaker\"\n",
        "\n",
        "    seed_text = generated_text = f\"{seed_speaker.lower()} : \"\n",
        "\n",
        "    lines_generated = 0\n",
        "    words_generated = 0\n",
        "\n",
        "    while True:\n",
        "        if lines_generated == n_lines or words_generated == max_words:\n",
        "            break\n",
        "\n",
        "        # Tokenize and encode the seed text\n",
        "        encoded = tokenizer.texts_to_sequences([seed_text.split(\" \")])\n",
        "        padded_seq = pad_sequences(encoded, maxlen=model.input_shape[1], truncating='pre')\n",
        "\n",
        "        # Generate the predicted word\n",
        "        predicted = model.predict(padded_seq, verbose=0)[0]\n",
        "        predicted = np.log(predicted) / temperature\n",
        "        predicted = np.exp(predicted) / np.sum(np.exp(predicted))\n",
        "        sorted_preds = np.argsort(predicted)[::-1]  # sort in descending order\n",
        "        cumulative_probs = np.cumsum(predicted[sorted_preds])\n",
        "        sorted_preds_to_remove = cumulative_probs > top_p\n",
        "        sorted_preds_to_remove[1:] = sorted_preds_to_remove[:-1]\n",
        "        sorted_preds_to_remove[0] = False\n",
        "        predicted[sorted_preds[sorted_preds_to_remove]] = 0\n",
        "        predicted = predicted / np.sum(predicted)\n",
        "        predicted_idx = np.random.choice(len(predicted), p=predicted)\n",
        "        predicted_word = tokenizer.index_word[predicted_idx]\n",
        "\n",
        "        words_generated += 1\n",
        "\n",
        "        if predicted_word == NEWLINE.lower():\n",
        "            lines_generated += 1\n",
        "\n",
        "        # Append the predicted word to the generated text\n",
        "        generated_text += \" \" + predicted_word\n",
        "\n",
        "        # Update the seed text for the next iteration\n",
        "        seed_text += \" \" + predicted_word\n",
        "\n",
        "    return generated_text"
      ],
      "metadata": {
        "id": "c0KOzXI6y4Dx"
      },
      "execution_count": null,
      "outputs": []
    },
    {
      "cell_type": "code",
      "source": [
        "def post_process(text):\n",
        "    punctuation_to_attach_to_previous_word = ['.', ':', '!', ';', ')', ']', '?', ',', '%']\n",
        "    for punctuation in punctuation_to_attach_to_previous_word:\n",
        "        text = text.replace(' ' + punctuation, punctuation)\n",
        "        \n",
        "    punctuation_to_attach_to_following_word = ['[', '(', '$']\n",
        "    for punctuation in punctuation_to_attach_to_following_word:\n",
        "        text = text.replace(punctuation + ' ', punctuation)\n",
        "        \n",
        "    punctuation_to_attach_to_same_word = [\"'\", '-']\n",
        "    for punctuation in punctuation_to_attach_to_same_word:\n",
        "        text = text.replace(' ' + punctuation + ' ', punctuation)\n",
        "        \n",
        "    text = text.replace(NEWLINE.lower(), \"\\n\")\n",
        "    text = text.replace(\"\\n \", \"\\n\")\n",
        "    \n",
        "    return text"
      ],
      "metadata": {
        "id": "Zx5-7sECkU9h"
      },
      "execution_count": null,
      "outputs": []
    },
    {
      "cell_type": "code",
      "source": [
        "script = generate_top_p_sampling(\n",
        "    seed_speaker=\"Dwight\",\n",
        "    n_lines=15,\n",
        "    temperature=0.9,\n",
        "    top_p=0.9\n",
        ")\n",
        "\n",
        "print(post_process(script))"
      ],
      "metadata": {
        "colab": {
          "base_uri": "https://localhost:8080/"
        },
        "id": "FM15IWD4kmd_",
        "outputId": "1f9f3d34-1676-47a7-8300-41badad336be"
      },
      "execution_count": null,
      "outputs": [
        {
          "output_type": "stream",
          "name": "stderr",
          "text": [
            "<ipython-input-54-a1a3815a71d7>:21: RuntimeWarning: divide by zero encountered in log\n",
            "  predicted = np.log(predicted) / temperature\n"
          ]
        },
        {
          "output_type": "stream",
          "name": "stdout",
          "text": [
            "dwight:  kids my deliciousity, uh, you did dwight, um, toby, um, jan, um, i don't know, i did, but, thanks bye bye. \n",
            "michael: what? \n",
            "jim: no, actually, toby, did people, um, much, enjoy your baby can come and be baby \n",
            "dwight: hey, hey, hey, hey, hey, hey, hey, hey, hey, hey, hey, hey, hey, hey, hey, how do you mean? \n",
            "jim: you know, hooters? did you look... i just... \n",
            "jim: so, thanks. i'm pretty cool. \n",
            "michael: okay, let's do anything. i'm equipped-- i mean, we're just worried... i'm sorry i'm doing it. \n",
            "pam: oh, god. \n",
            "michael: hey! \n",
            "pam: michael, listen to me, it was just, incredibly late for tonight. but, i think she'd be great, but it's coming to you, i promise it. i am so proud of that. \n",
            "pam: yeah, but you know what? honestly, i blew the gifts. and i'm a regional manager. i think it's really bad. \n",
            "michael: oh, yeah. \n",
            "pam: uh, you're the dad to make sure whatever you, \" the company will still be a show of strengths, right? \n",
            "pam: hey! \n",
            "michael: okay. \n",
            "\n"
          ]
        }
      ]
    },
    {
      "cell_type": "code",
      "source": [
        "script"
      ],
      "metadata": {
        "colab": {
          "base_uri": "https://localhost:8080/",
          "height": 160
        },
        "id": "Fh7KouOlXckj",
        "outputId": "a82a4851-f6df-41a6-fc6b-5307b9be12f0"
      },
      "execution_count": null,
      "outputs": [
        {
          "output_type": "execute_result",
          "data": {
            "text/plain": [
              "'dwight :  kids my deliciousity , uh , you did dwight , um , toby , um , jan , um , i don \\' t know , i did , but , thanks bye bye . <newline> michael : what ? <newline> jim : no , actually , toby , did people , um , much , enjoy your baby can come and be baby <newline> dwight : hey , hey , hey , hey , hey , hey , hey , hey , hey , hey , hey , hey , hey , hey , hey , how do you mean ? <newline> jim : you know , hooters ? did you look . . . i just . . . <newline> jim : so , thanks . i \\' m pretty cool . <newline> michael : okay , let \\' s do anything . i \\' m equipped - - i mean , we \\' re just worried . . . i \\' m sorry i \\' m doing it . <newline> pam : oh , god . <newline> michael : hey ! <newline> pam : michael , listen to me , it was just , incredibly late for tonight . but , i think she \\' d be great , but it \\' s coming to you , i promise it . i am so proud of that . <newline> pam : yeah , but you know what ? honestly , i blew the gifts . and i \\' m a regional manager . i think it \\' s really bad . <newline> michael : oh , yeah . <newline> pam : uh , you \\' re the dad to make sure whatever you , \" the company will still be a show of strengths , right ? <newline> pam : hey ! <newline> michael : okay . <newline>'"
            ],
            "application/vnd.google.colaboratory.intrinsic+json": {
              "type": "string"
            }
          },
          "metadata": {},
          "execution_count": 57
        }
      ]
    },
    {
      "cell_type": "code",
      "source": [
        "model.save('the_office_model')"
      ],
      "metadata": {
        "colab": {
          "base_uri": "https://localhost:8080/"
        },
        "id": "AB7P_AiLUNuM",
        "outputId": "860fa088-f56b-4f64-b8d2-05cb9b407b16"
      },
      "execution_count": null,
      "outputs": [
        {
          "output_type": "stream",
          "name": "stderr",
          "text": [
            "WARNING:absl:Found untraced functions such as lstm_cell_1_layer_call_fn, lstm_cell_1_layer_call_and_return_conditional_losses, lstm_cell_2_layer_call_fn, lstm_cell_2_layer_call_and_return_conditional_losses, lstm_cell_4_layer_call_fn while saving (showing 5 of 8). These functions will not be directly callable after loading.\n"
          ]
        }
      ]
    },
    {
      "cell_type": "code",
      "source": [
        "!zip the_office_model.zip the_office_model/*"
      ],
      "metadata": {
        "id": "wabVvmI7wZ8g",
        "colab": {
          "base_uri": "https://localhost:8080/"
        },
        "outputId": "e3c48afe-3d22-4750-a37e-608d1f61b243"
      },
      "execution_count": null,
      "outputs": [
        {
          "output_type": "stream",
          "name": "stdout",
          "text": [
            "  adding: the_office_model/assets/ (stored 0%)\n",
            "  adding: the_office_model/fingerprint.pb (stored 0%)\n",
            "  adding: the_office_model/keras_metadata.pb (deflated 92%)\n",
            "  adding: the_office_model/saved_model.pb (deflated 91%)\n",
            "  adding: the_office_model/variables/ (stored 0%)\n"
          ]
        }
      ]
    },
    {
      "cell_type": "code",
      "source": [
        "from numpy.ma.core import count\n",
        "import pandas as pd\n",
        "import seaborn as sns\n",
        "import matplotlib.pyplot as plt\n",
        "\n",
        "# Load the dataset\n",
        "data = pd.read_csv('processed_data.csv')\n",
        "\n",
        "# Select top 15 speakers\n",
        "top_speakers_15 = data['speaker'].value_counts().head(15).index.tolist()\n",
        "data = data[data['speaker'].isin(top_speakers_15)]\n",
        "\n",
        "# Create a pivot table\n",
        "table = data.pivot_table(index='speaker', columns='speaker', aggfunc='count', fill_value=0)\n",
        "\n",
        "# Create heatmap\n",
        "sns.heatmap(table, cmap='YlGnBu')\n",
        "\n",
        "# Show plot\n",
        "plt.show()\n"
      ],
      "metadata": {
        "colab": {
          "base_uri": "https://localhost:8080/",
          "height": 534
        },
        "id": "pcuLHCVLntWX",
        "outputId": "d78fcbaa-7e5d-4c68-ec5c-a7e941d4d8a6"
      },
      "execution_count": null,
      "outputs": [
        {
          "output_type": "display_data",
          "data": {
            "text/plain": [
              "<Figure size 640x480 with 2 Axes>"
            ],
            "image/png": "[encoded data removed]"
          },
          "metadata": {}
        }
      ]
    },
    {
      "cell_type": "code",
      "source": [
        "data.head()"
      ],
      "metadata": {
        "colab": {
          "base_uri": "https://localhost:8080/",
          "height": 206
        },
        "id": "C10uBX9TrqpS",
        "outputId": "8c57dbc4-b193-4475-a704-c97e733bf9fb"
      },
      "execution_count": null,
      "outputs": [
        {
          "output_type": "execute_result",
          "data": {
            "text/plain": [
              "   title  scene  speaker                                               line\n",
              "0  Pilot      1  Michael  All right Jim. Your quarterlies look very good...\n",
              "1  Pilot      1      Jim         Oh, I told you. I couldn't close it. So...\n",
              "2  Pilot      1  Michael  So you've come to the master for guidance? Is ...\n",
              "3  Pilot      1      Jim         Actually, you called me in here, but yeah.\n",
              "4  Pilot      1  Michael    All right. Well, let me show you how it's done."
            ],
            "text/html": [
              "\n",
              "  <div id=\"df-3d2ffa5c-a501-442a-a106-d9f50e9a5a6f\">\n",
              "    <div class=\"colab-df-container\">\n",
              "      <div>\n",
              "<style scoped>\n",
              "    .dataframe tbody tr th:only-of-type {\n",
              "        vertical-align: middle;\n",
              "    }\n",
              "\n",
              "    .dataframe tbody tr th {\n",
              "        vertical-align: top;\n",
              "    }\n",
              "\n",
              "    .dataframe thead th {\n",
              "        text-align: right;\n",
              "    }\n",
              "</style>\n",
              "<table border=\"1\" class=\"dataframe\">\n",
              "  <thead>\n",
              "    <tr style=\"text-align: right;\">\n",
              "      <th></th>\n",
              "      <th>title</th>\n",
              "      <th>scene</th>\n",
              "      <th>speaker</th>\n",
              "      <th>line</th>\n",
              "    </tr>\n",
              "  </thead>\n",
              "  <tbody>\n",
              "    <tr>\n",
              "      <th>0</th>\n",
              "      <td>Pilot</td>\n",
              "      <td>1</td>\n",
              "      <td>Michael</td>\n",
              "      <td>All right Jim. Your quarterlies look very good...</td>\n",
              "    </tr>\n",
              "    <tr>\n",
              "      <th>1</th>\n",
              "      <td>Pilot</td>\n",
              "      <td>1</td>\n",
              "      <td>Jim</td>\n",
              "      <td>Oh, I told you. I couldn't close it. So...</td>\n",
              "    </tr>\n",
              "    <tr>\n",
              "      <th>2</th>\n",
              "      <td>Pilot</td>\n",
              "      <td>1</td>\n",
              "      <td>Michael</td>\n",
              "      <td>So you've come to the master for guidance? Is ...</td>\n",
              "    </tr>\n",
              "    <tr>\n",
              "      <th>3</th>\n",
              "      <td>Pilot</td>\n",
              "      <td>1</td>\n",
              "      <td>Jim</td>\n",
              "      <td>Actually, you called me in here, but yeah.</td>\n",
              "    </tr>\n",
              "    <tr>\n",
              "      <th>4</th>\n",
              "      <td>Pilot</td>\n",
              "      <td>1</td>\n",
              "      <td>Michael</td>\n",
              "      <td>All right. Well, let me show you how it's done.</td>\n",
              "    </tr>\n",
              "  </tbody>\n",
              "</table>\n",
              "</div>\n",
              "      <button class=\"colab-df-convert\" onclick=\"convertToInteractive('df-3d2ffa5c-a501-442a-a106-d9f50e9a5a6f')\"\n",
              "              title=\"Convert this dataframe to an interactive table.\"\n",
              "              style=\"display:none;\">\n",
              "        \n",
              "  <svg xmlns=\"http://www.w3.org/2000/svg\" height=\"24px\"viewBox=\"0 0 24 24\"\n",
              "       width=\"24px\">\n",
              "    <path d=\"M0 0h24v24H0V0z\" fill=\"none\"/>\n",
              "    <path d=\"M18.56 5.44l.94 2.06.94-2.06 2.06-.94-2.06-.94-.94-2.06-.94 2.06-2.06.94zm-11 1L8.5 8.5l.94-2.06 2.06-.94-2.06-.94L8.5 2.5l-.94 2.06-2.06.94zm10 10l.94 2.06.94-2.06 2.06-.94-2.06-.94-.94-2.06-.94 2.06-2.06.94z\"/><path d=\"M17.41 7.96l-1.37-1.37c-.4-.4-.92-.59-1.43-.59-.52 0-1.04.2-1.43.59L10.3 9.45l-7.72 7.72c-.78.78-.78 2.05 0 2.83L4 21.41c.39.39.9.59 1.41.59.51 0 1.02-.2 1.41-.59l7.78-7.78 2.81-2.81c.8-.78.8-2.07 0-2.86zM5.41 20L4 18.59l7.72-7.72 1.47 1.35L5.41 20z\"/>\n",
              "  </svg>\n",
              "      </button>\n",
              "      \n",
              "  <style>\n",
              "    .colab-df-container {\n",
              "      display:flex;\n",
              "      flex-wrap:wrap;\n",
              "      gap: 12px;\n",
              "    }\n",
              "\n",
              "    .colab-df-convert {\n",
              "      background-color: #E8F0FE;\n",
              "      border: none;\n",
              "      border-radius: 50%;\n",
              "      cursor: pointer;\n",
              "      display: none;\n",
              "      fill: #1967D2;\n",
              "      height: 32px;\n",
              "      padding: 0 0 0 0;\n",
              "      width: 32px;\n",
              "    }\n",
              "\n",
              "    .colab-df-convert:hover {\n",
              "      background-color: #E2EBFA;\n",
              "      box-shadow: 0px 1px 2px rgba(60, 64, 67, 0.3), 0px 1px 3px 1px rgba(60, 64, 67, 0.15);\n",
              "      fill: #174EA6;\n",
              "    }\n",
              "\n",
              "    [theme=dark] .colab-df-convert {\n",
              "      background-color: #3B4455;\n",
              "      fill: #D2E3FC;\n",
              "    }\n",
              "\n",
              "    [theme=dark] .colab-df-convert:hover {\n",
              "      background-color: #434B5C;\n",
              "      box-shadow: 0px 1px 3px 1px rgba(0, 0, 0, 0.15);\n",
              "      filter: drop-shadow(0px 1px 2px rgba(0, 0, 0, 0.3));\n",
              "      fill: #FFFFFF;\n",
              "    }\n",
              "  </style>\n",
              "\n",
              "      <script>\n",
              "        const buttonEl =\n",
              "          document.querySelector('#df-3d2ffa5c-a501-442a-a106-d9f50e9a5a6f button.colab-df-convert');\n",
              "        buttonEl.style.display =\n",
              "          google.colab.kernel.accessAllowed ? 'block' : 'none';\n",
              "\n",
              "        async function convertToInteractive(key) {\n",
              "          const element = document.querySelector('#df-3d2ffa5c-a501-442a-a106-d9f50e9a5a6f');\n",
              "          const dataTable =\n",
              "            await google.colab.kernel.invokeFunction('convertToInteractive',\n",
              "                                                     [key], {});\n",
              "          if (!dataTable) return;\n",
              "\n",
              "          const docLinkHtml = 'Like what you see? Visit the ' +\n",
              "            '<a target=\"_blank\" href=https://colab.research.google.com/notebooks/data_table.ipynb>data table notebook</a>'\n",
              "            + ' to learn more about interactive tables.';\n",
              "          element.innerHTML = '';\n",
              "          dataTable['output_type'] = 'display_data';\n",
              "          await google.colab.output.renderOutput(dataTable, element);\n",
              "          const docLink = document.createElement('div');\n",
              "          docLink.innerHTML = docLinkHtml;\n",
              "          element.appendChild(docLink);\n",
              "        }\n",
              "      </script>\n",
              "    </div>\n",
              "  </div>\n",
              "  "
            ]
          },
          "metadata": {},
          "execution_count": 62
        }
      ]
    },
    {
      "cell_type": "code",
      "source": [
        "df_temp = data.drop(['title', 'scene'], axis=1)"
      ],
      "metadata": {
        "id": "VNDBrP6JtONu"
      },
      "execution_count": null,
      "outputs": []
    },
    {
      "cell_type": "code",
      "source": [
        "df_temp.head()"
      ],
      "metadata": {
        "colab": {
          "base_uri": "https://localhost:8080/",
          "height": 206
        },
        "id": "NdqfcVCTtd_T",
        "outputId": "44ec10b0-ee86-4894-91dc-c3d42389e1d4"
      },
      "execution_count": null,
      "outputs": [
        {
          "output_type": "execute_result",
          "data": {
            "text/plain": [
              "   speaker                                               line\n",
              "0  Michael  All right Jim. Your quarterlies look very good...\n",
              "1      Jim         Oh, I told you. I couldn't close it. So...\n",
              "2  Michael  So you've come to the master for guidance? Is ...\n",
              "3      Jim         Actually, you called me in here, but yeah.\n",
              "4  Michael    All right. Well, let me show you how it's done."
            ],
            "text/html": [
              "\n",
              "  <div id=\"df-810c0d29-99ff-49f8-b401-f85639c53a81\">\n",
              "    <div class=\"colab-df-container\">\n",
              "      <div>\n",
              "<style scoped>\n",
              "    .dataframe tbody tr th:only-of-type {\n",
              "        vertical-align: middle;\n",
              "    }\n",
              "\n",
              "    .dataframe tbody tr th {\n",
              "        vertical-align: top;\n",
              "    }\n",
              "\n",
              "    .dataframe thead th {\n",
              "        text-align: right;\n",
              "    }\n",
              "</style>\n",
              "<table border=\"1\" class=\"dataframe\">\n",
              "  <thead>\n",
              "    <tr style=\"text-align: right;\">\n",
              "      <th></th>\n",
              "      <th>speaker</th>\n",
              "      <th>line</th>\n",
              "    </tr>\n",
              "  </thead>\n",
              "  <tbody>\n",
              "    <tr>\n",
              "      <th>0</th>\n",
              "      <td>Michael</td>\n",
              "      <td>All right Jim. Your quarterlies look very good...</td>\n",
              "    </tr>\n",
              "    <tr>\n",
              "      <th>1</th>\n",
              "      <td>Jim</td>\n",
              "      <td>Oh, I told you. I couldn't close it. So...</td>\n",
              "    </tr>\n",
              "    <tr>\n",
              "      <th>2</th>\n",
              "      <td>Michael</td>\n",
              "      <td>So you've come to the master for guidance? Is ...</td>\n",
              "    </tr>\n",
              "    <tr>\n",
              "      <th>3</th>\n",
              "      <td>Jim</td>\n",
              "      <td>Actually, you called me in here, but yeah.</td>\n",
              "    </tr>\n",
              "    <tr>\n",
              "      <th>4</th>\n",
              "      <td>Michael</td>\n",
              "      <td>All right. Well, let me show you how it's done.</td>\n",
              "    </tr>\n",
              "  </tbody>\n",
              "</table>\n",
              "</div>\n",
              "      <button class=\"colab-df-convert\" onclick=\"convertToInteractive('df-810c0d29-99ff-49f8-b401-f85639c53a81')\"\n",
              "              title=\"Convert this dataframe to an interactive table.\"\n",
              "              style=\"display:none;\">\n",
              "        \n",
              "  <svg xmlns=\"http://www.w3.org/2000/svg\" height=\"24px\"viewBox=\"0 0 24 24\"\n",
              "       width=\"24px\">\n",
              "    <path d=\"M0 0h24v24H0V0z\" fill=\"none\"/>\n",
              "    <path d=\"M18.56 5.44l.94 2.06.94-2.06 2.06-.94-2.06-.94-.94-2.06-.94 2.06-2.06.94zm-11 1L8.5 8.5l.94-2.06 2.06-.94-2.06-.94L8.5 2.5l-.94 2.06-2.06.94zm10 10l.94 2.06.94-2.06 2.06-.94-2.06-.94-.94-2.06-.94 2.06-2.06.94z\"/><path d=\"M17.41 7.96l-1.37-1.37c-.4-.4-.92-.59-1.43-.59-.52 0-1.04.2-1.43.59L10.3 9.45l-7.72 7.72c-.78.78-.78 2.05 0 2.83L4 21.41c.39.39.9.59 1.41.59.51 0 1.02-.2 1.41-.59l7.78-7.78 2.81-2.81c.8-.78.8-2.07 0-2.86zM5.41 20L4 18.59l7.72-7.72 1.47 1.35L5.41 20z\"/>\n",
              "  </svg>\n",
              "      </button>\n",
              "      \n",
              "  <style>\n",
              "    .colab-df-container {\n",
              "      display:flex;\n",
              "      flex-wrap:wrap;\n",
              "      gap: 12px;\n",
              "    }\n",
              "\n",
              "    .colab-df-convert {\n",
              "      background-color: #E8F0FE;\n",
              "      border: none;\n",
              "      border-radius: 50%;\n",
              "      cursor: pointer;\n",
              "      display: none;\n",
              "      fill: #1967D2;\n",
              "      height: 32px;\n",
              "      padding: 0 0 0 0;\n",
              "      width: 32px;\n",
              "    }\n",
              "\n",
              "    .colab-df-convert:hover {\n",
              "      background-color: #E2EBFA;\n",
              "      box-shadow: 0px 1px 2px rgba(60, 64, 67, 0.3), 0px 1px 3px 1px rgba(60, 64, 67, 0.15);\n",
              "      fill: #174EA6;\n",
              "    }\n",
              "\n",
              "    [theme=dark] .colab-df-convert {\n",
              "      background-color: #3B4455;\n",
              "      fill: #D2E3FC;\n",
              "    }\n",
              "\n",
              "    [theme=dark] .colab-df-convert:hover {\n",
              "      background-color: #434B5C;\n",
              "      box-shadow: 0px 1px 3px 1px rgba(0, 0, 0, 0.15);\n",
              "      filter: drop-shadow(0px 1px 2px rgba(0, 0, 0, 0.3));\n",
              "      fill: #FFFFFF;\n",
              "    }\n",
              "  </style>\n",
              "\n",
              "      <script>\n",
              "        const buttonEl =\n",
              "          document.querySelector('#df-810c0d29-99ff-49f8-b401-f85639c53a81 button.colab-df-convert');\n",
              "        buttonEl.style.display =\n",
              "          google.colab.kernel.accessAllowed ? 'block' : 'none';\n",
              "\n",
              "        async function convertToInteractive(key) {\n",
              "          const element = document.querySelector('#df-810c0d29-99ff-49f8-b401-f85639c53a81');\n",
              "          const dataTable =\n",
              "            await google.colab.kernel.invokeFunction('convertToInteractive',\n",
              "                                                     [key], {});\n",
              "          if (!dataTable) return;\n",
              "\n",
              "          const docLinkHtml = 'Like what you see? Visit the ' +\n",
              "            '<a target=\"_blank\" href=https://colab.research.google.com/notebooks/data_table.ipynb>data table notebook</a>'\n",
              "            + ' to learn more about interactive tables.';\n",
              "          element.innerHTML = '';\n",
              "          dataTable['output_type'] = 'display_data';\n",
              "          await google.colab.output.renderOutput(dataTable, element);\n",
              "          const docLink = document.createElement('div');\n",
              "          docLink.innerHTML = docLinkHtml;\n",
              "          element.appendChild(docLink);\n",
              "        }\n",
              "      </script>\n",
              "    </div>\n",
              "  </div>\n",
              "  "
            ]
          },
          "metadata": {},
          "execution_count": 64
        }
      ]
    },
    {
      "cell_type": "code",
      "source": [
        "\n",
        "\n",
        "# Create a new column for next speaker\n",
        "df_temp['next_speaker'] = df_temp.groupby(['line'])['speaker'].shift(-1)\n",
        "\n",
        "df_temp = df_temp[df_temp['next_speaker'].isin(top_speakers_15)]\n",
        "\n",
        "# Create a pivot table\n",
        "table = df_temp.pivot_table(index='speaker', columns='next_speaker', aggfunc=len, fill_value=0)\n",
        "\n",
        "# Create heatmap\n",
        "sns.heatmap(table, cmap='YlGnBu')\n",
        "plt.xlabel('Next Speaker')\n",
        "plt.ylabel('Speaker')\n",
        "# Show plot\n",
        "plt.show()\n"
      ],
      "metadata": {
        "colab": {
          "base_uri": "https://localhost:8080/",
          "height": 519
        },
        "id": "V43rcnXssMph",
        "outputId": "5ebd4650-4a72-44e0-e240-944067aee444"
      },
      "execution_count": null,
      "outputs": [
        {
          "output_type": "display_data",
          "data": {
            "text/plain": [
              "<Figure size 640x480 with 2 Axes>"
            ],
            "image/png": "[encoded data removed]"
          },
          "metadata": {}
        }
      ]
    },
    {
      "cell_type": "code",
      "source": [],
      "metadata": {
        "id": "EVdz7UQi6Lvl"
      },
      "execution_count": null,
      "outputs": []
    },
    {
      "cell_type": "markdown",
      "source": [
        "# Neural Net Classifier"
      ],
      "metadata": {
        "id": "VzM_NSzkiTFp"
      }
    },
    {
      "cell_type": "code",
      "source": [
        "import pandas as pd\n",
        "import tensorflow as tf\n",
        "from tensorflow.keras.preprocessing.sequence import pad_sequences\n",
        "from sklearn.model_selection import train_test_split\n",
        "from sklearn.utils import compute_class_weight\n",
        "import numpy as np\n",
        "\n",
        "# Step 1: Prepare the data\n",
        "data = pd.read_csv('processed_data.csv')\n",
        "speaker = data['speaker'].values\n",
        "dialogue = data['line'].values\n",
        "\n",
        "unique_speakers = list(set(speaker))\n",
        "print(unique_speakers)\n",
        "\n",
        "# Split the data into training, validation, and testing sets\n",
        "train_dialogue, test_dialogue, train_speaker, test_speaker = train_test_split(dialogue, speaker, test_size=0.2, random_state=42)\n",
        "train_dialogue, val_dialogue, train_speaker, val_speaker = train_test_split(train_dialogue, train_speaker, test_size=0.2, random_state=42)\n",
        "\n",
        "# Step 2: Convert the data to numerical form\n",
        "tokenizer = Tokenizer()\n",
        "tokenizer.fit_on_texts(train_dialogue)\n",
        "\n",
        "max_length = max([len(d.split()) for d in train_dialogue])\n",
        "vocab_size = len(tokenizer.word_index) + 1\n",
        "\n",
        "train_seq = tokenizer.texts_to_sequences(train_dialogue)\n",
        "train_seq = pad_sequences(train_seq, maxlen=max_length, padding='post')\n",
        "\n",
        "val_seq = tokenizer.texts_to_sequences(val_dialogue)\n",
        "val_seq = pad_sequences(val_seq, maxlen=max_length, padding='post')\n",
        "\n",
        "test_seq = tokenizer.texts_to_sequences(test_dialogue)\n",
        "test_seq = pad_sequences(test_seq, maxlen=max_length, padding='post')\n",
        "\n",
        "train_labels = tf.one_hot([unique_speakers.index(s) for s in train_speaker], depth=len(unique_speakers))\n",
        "val_labels = tf.one_hot([unique_speakers.index(s) for s in val_speaker], depth=len(unique_speakers))\n",
        "test_labels = tf.one_hot([unique_speakers.index(s) for s in test_speaker], depth=len(unique_speakers))\n",
        "\n",
        "embedding_matrix_ = np.zeros((vocab_size, EMBED_SIZE))\n",
        "for word, i in tokenizer.word_index.items():\n",
        "    embedding_vector = embedding_matrix[i-1] # subtract 1 to account for the zero index\n",
        "    if embedding_vector is not None:\n",
        "        embedding_matrix_[i] = embedding_vector\n",
        "\n",
        "train_labels_list = train_labels.numpy().argmax(axis=1).tolist()\n",
        "\n",
        "\n",
        "# Calculate class weights\n",
        "class_weights = compute_class_weight(class_weight=\"balanced\", classes=np.unique(train_labels_list), y=train_labels_list)\n",
        "\n",
        "# Convert class indices to Python integers\n",
        "class_indices = [int(c) for c in np.unique(train_labels_list)]\n",
        "\n",
        "# Create class weight dictionary\n",
        "class_weight_dict = {class_indices[i]: class_weights[i] for i in range(len(class_indices))}\n",
        "\n",
        "                                              \n",
        "\n",
        "model = tf.keras.Sequential([\n",
        "    tf.keras.layers.Embedding(vocab_size, 300, weights=[embedding_matrix_], input_length=max_length, trainable=True),\n",
        "    tf.keras.layers.LSTM(512),\n",
        "    tf.keras.layers.Dense(len(unique_speakers), activation='softmax')\n",
        "])\n",
        "\n",
        "model.compile(loss='categorical_crossentropy', optimizer='adam', metrics=['accuracy'])\n",
        "\n",
        "# Step 4: Train and evaluate the model\n",
        "history = model.fit(train_seq, train_labels, epochs=25,  class_weight=class_weight_dict, validation_data=(val_seq, val_labels))\n",
        "\n",
        "test_loss, test_acc = model.evaluate(test_seq, test_labels)\n",
        "print('Test accuracy:', test_acc)"
      ],
      "metadata": {
        "id": "JOpmtkaNie8s",
        "colab": {
          "base_uri": "https://localhost:8080/"
        },
        "outputId": "edebd252-519d-4383-8a09-2dcab042dbf0"
      },
      "execution_count": null,
      "outputs": [
        {
          "output_type": "stream",
          "name": "stdout",
          "text": [
            "['Phyllis', 'Darryl', 'Kevin', 'Jim', 'Pam', 'Toby', 'Jan', 'Oscar', 'Angela', 'Kelly', 'Andy', 'Ryan', 'Erin', 'Michael', 'Dwight']\n",
            "Epoch 1/25\n",
            "880/880 [==============================] - 68s 75ms/step - loss: 2.7106 - accuracy: 0.0527 - val_loss: 2.7207 - val_accuracy: 0.0217\n",
            "Epoch 2/25\n",
            "880/880 [==============================] - 41s 46ms/step - loss: 2.7096 - accuracy: 0.0562 - val_loss: 2.7004 - val_accuracy: 0.0280\n",
            "Epoch 3/25\n",
            "880/880 [==============================] - 39s 44ms/step - loss: 2.7096 - accuracy: 0.0466 - val_loss: 2.7113 - val_accuracy: 0.0217\n",
            "Epoch 4/25\n",
            "880/880 [==============================] - 39s 44ms/step - loss: 2.7270 - accuracy: 0.0544 - val_loss: 2.8530 - val_accuracy: 0.1363\n",
            "Epoch 5/25\n",
            "880/880 [==============================] - 37s 42ms/step - loss: 2.7744 - accuracy: 0.0515 - val_loss: 2.8226 - val_accuracy: 0.0249\n",
            "Epoch 6/25\n",
            "880/880 [==============================] - 36s 41ms/step - loss: 2.6809 - accuracy: 0.0832 - val_loss: 2.7567 - val_accuracy: 0.0409\n",
            "Epoch 7/25\n",
            "880/880 [==============================] - 38s 44ms/step - loss: 2.5657 - accuracy: 0.1321 - val_loss: 2.7547 - val_accuracy: 0.0915\n",
            "Epoch 8/25\n",
            "880/880 [==============================] - 38s 43ms/step - loss: 2.3974 - accuracy: 0.1865 - val_loss: 2.5814 - val_accuracy: 0.1377\n",
            "Epoch 9/25\n",
            "880/880 [==============================] - 37s 42ms/step - loss: 2.1421 - accuracy: 0.2528 - val_loss: 2.6293 - val_accuracy: 0.1603\n",
            "Epoch 10/25\n",
            "880/880 [==============================] - 36s 41ms/step - loss: 1.8077 - accuracy: 0.3401 - val_loss: 2.6533 - val_accuracy: 0.1665\n",
            "Epoch 11/25\n",
            "880/880 [==============================] - 38s 43ms/step - loss: 1.4858 - accuracy: 0.4276 - val_loss: 2.8609 - val_accuracy: 0.1577\n",
            "Epoch 12/25\n",
            "880/880 [==============================] - 39s 44ms/step - loss: 1.2329 - accuracy: 0.4991 - val_loss: 2.9758 - val_accuracy: 0.1813\n",
            "Epoch 13/25\n",
            "880/880 [==============================] - 38s 44ms/step - loss: 1.0377 - accuracy: 0.5629 - val_loss: 3.0886 - val_accuracy: 0.1910\n",
            "Epoch 14/25\n",
            "880/880 [==============================] - 36s 41ms/step - loss: 0.8936 - accuracy: 0.6127 - val_loss: 3.3837 - val_accuracy: 0.1640\n",
            "Epoch 15/25\n",
            "880/880 [==============================] - 38s 43ms/step - loss: 0.7857 - accuracy: 0.6520 - val_loss: 3.6448 - val_accuracy: 0.1738\n",
            "Epoch 16/25\n",
            "880/880 [==============================] - 39s 44ms/step - loss: 0.7113 - accuracy: 0.6832 - val_loss: 3.7201 - val_accuracy: 0.1995\n",
            "Epoch 17/25\n",
            "880/880 [==============================] - 38s 44ms/step - loss: 0.6506 - accuracy: 0.7123 - val_loss: 3.9387 - val_accuracy: 0.2001\n",
            "Epoch 18/25\n",
            "880/880 [==============================] - 37s 42ms/step - loss: 0.6002 - accuracy: 0.7338 - val_loss: 4.0077 - val_accuracy: 0.1989\n",
            "Epoch 19/25\n",
            "880/880 [==============================] - 39s 44ms/step - loss: 0.5756 - accuracy: 0.7490 - val_loss: 4.2205 - val_accuracy: 0.1917\n",
            "Epoch 20/25\n",
            "880/880 [==============================] - 36s 41ms/step - loss: 0.5389 - accuracy: 0.7672 - val_loss: 4.3416 - val_accuracy: 0.2009\n",
            "Epoch 21/25\n",
            "880/880 [==============================] - 37s 42ms/step - loss: 0.5191 - accuracy: 0.7769 - val_loss: 4.5483 - val_accuracy: 0.1943\n",
            "Epoch 22/25\n",
            "880/880 [==============================] - 36s 41ms/step - loss: 0.4963 - accuracy: 0.7881 - val_loss: 4.4744 - val_accuracy: 0.2012\n",
            "Epoch 23/25\n",
            "880/880 [==============================] - 36s 41ms/step - loss: 0.4970 - accuracy: 0.7882 - val_loss: 4.6898 - val_accuracy: 0.1830\n",
            "Epoch 24/25\n",
            "880/880 [==============================] - 38s 43ms/step - loss: 0.4707 - accuracy: 0.8000 - val_loss: 4.6572 - val_accuracy: 0.1911\n",
            "Epoch 25/25\n",
            "880/880 [==============================] - 36s 41ms/step - loss: 0.4598 - accuracy: 0.8082 - val_loss: 4.9685 - val_accuracy: 0.1910\n",
            "275/275 [==============================] - 4s 15ms/step - loss: 5.0026 - accuracy: 0.1862\n",
            "Test accuracy: 0.1861998438835144\n"
          ]
        }
      ]
    },
    {
      "cell_type": "code",
      "source": [
        "dialogue = \"That's what she said\"\n",
        "new_seq = tokenizer.texts_to_sequences([dialogue])\n",
        "new_seq = pad_sequences(new_seq, maxlen=max_length, padding='post')\n",
        "\n",
        "# Get the predicted speaker\n",
        "predicted_probs = model.predict(new_seq)[0]\n",
        "predicted_speaker_index = np.argmax(predicted_probs)\n",
        "predicted_speaker = unique_speakers[predicted_speaker_index]\n",
        "print(predicted_speaker)"
      ],
      "metadata": {
        "colab": {
          "base_uri": "https://localhost:8080/"
        },
        "id": "pQo4X8IAgQVp",
        "outputId": "fae380dd-623f-42f6-88c9-23483e016712"
      },
      "execution_count": null,
      "outputs": [
        {
          "output_type": "stream",
          "name": "stdout",
          "text": [
            "1/1 [==============================] - 0s 483ms/step\n",
            "Michael\n"
          ]
        }
      ]
    },
    {
      "cell_type": "markdown",
      "source": [
        "# Pass the generated text through Neural Net Classifier"
      ],
      "metadata": {
        "id": "D08IUfw6ksPT"
      }
    },
    {
      "cell_type": "code",
      "source": [
        "def post_process_line(text):\n",
        "    punctuation_to_attach_to_previous_word = ['.', ':', '!', ';', ')', ']', '?', ',', '%']\n",
        "    for punctuation in punctuation_to_attach_to_previous_word:\n",
        "        text = text.replace(' ' + punctuation, punctuation)\n",
        "        \n",
        "    punctuation_to_attach_to_following_word = ['[', '(', '$']\n",
        "    for punctuation in punctuation_to_attach_to_following_word:\n",
        "        text = text.replace(punctuation + ' ', punctuation)\n",
        "        \n",
        "    punctuation_to_attach_to_same_word = [\"'\", '-']\n",
        "    for punctuation in punctuation_to_attach_to_same_word:\n",
        "        text = text.replace(' ' + punctuation + ' ', punctuation)\n",
        "        \n",
        "    text = text.replace(NEWLINE.lower(), \"\\n\")\n",
        "    text = text.replace(\"\\n \", \"\\n\")\n",
        "    \n",
        "    return text"
      ],
      "metadata": {
        "id": "AORly9WH9Z_E"
      },
      "execution_count": null,
      "outputs": []
    },
    {
      "cell_type": "code",
      "source": [
        "from collections import defaultdict\n",
        "\n",
        "LSTM_output = post_process_line(script)\n",
        "lines = LSTM_output.split(\"\\n\")\n",
        "\n",
        "output_dict = defaultdict(list)\n",
        "\n",
        "for line in lines:\n",
        "    if \":\" in line:\n",
        "        key, value = line.split(\":\", 1)\n",
        "        output_dict[key.strip()].append(value.strip())\n",
        "\n",
        "\n",
        "predicted_speakers = []\n",
        "\n",
        "\n",
        "for speaker, dialogues in output_dict.items():\n",
        "    for dialogue in dialogues:\n",
        "        # Preprocess the dialogue\n",
        "        new_seq = tokenizer.texts_to_sequences([dialogue])\n",
        "        new_seq = pad_sequences(new_seq, maxlen=max_length, padding='post')\n",
        "\n",
        "        # Get the predicted speaker\n",
        "        predicted_probs = model.predict(new_seq)[0]\n",
        "        predicted_speaker_index = np.argmax(predicted_probs)\n",
        "        predicted_speaker = unique_speakers[predicted_speaker_index]\n",
        "        # predicted_speakers.append(predicted_speaker)\n",
        "        print(f\"The predicted speaker for the dialogue '{dialogue}' by {speaker} is {predicted_speaker}\")\n",
        "\n",
        "#print(predicted_speakers)\n"
      ],
      "metadata": {
        "id": "Ny7msBGZlByL",
        "colab": {
          "base_uri": "https://localhost:8080/"
        },
        "outputId": "cbb36466-a516-427d-81be-06149448447c"
      },
      "execution_count": null,
      "outputs": [
        {
          "output_type": "stream",
          "name": "stdout",
          "text": [
            "1/1 [==============================] - 0s 20ms/step\n",
            "The predicted speaker for the dialogue 'kids my deliciousity, uh, you did dwight, um, toby, um, jan, um, i don't know, i did, but, thanks bye bye.' by dwight is Jim\n",
            "1/1 [==============================] - 0s 25ms/step\n",
            "The predicted speaker for the dialogue 'hey, hey, hey, hey, hey, hey, hey, hey, hey, hey, hey, hey, hey, hey, hey, how do you mean?' by dwight is Dwight\n",
            "1/1 [==============================] - 0s 22ms/step\n",
            "The predicted speaker for the dialogue 'what?' by michael is Oscar\n",
            "1/1 [==============================] - 0s 21ms/step\n",
            "The predicted speaker for the dialogue 'okay, let's do anything. i'm equipped-- i mean, we're just worried... i'm sorry i'm doing it.' by michael is Jim\n",
            "1/1 [==============================] - 0s 20ms/step\n",
            "The predicted speaker for the dialogue 'hey!' by michael is Erin\n",
            "1/1 [==============================] - 0s 20ms/step\n",
            "The predicted speaker for the dialogue 'oh, yeah.' by michael is Erin\n",
            "1/1 [==============================] - 0s 20ms/step\n",
            "The predicted speaker for the dialogue 'okay.' by michael is Michael\n",
            "1/1 [==============================] - 0s 19ms/step\n",
            "The predicted speaker for the dialogue 'no, actually, toby, did people, um, much, enjoy your baby can come and be baby' by jim is Ryan\n",
            "1/1 [==============================] - 0s 19ms/step\n",
            "The predicted speaker for the dialogue 'you know, hooters? did you look... i just...' by jim is Michael\n",
            "1/1 [==============================] - 0s 21ms/step\n",
            "The predicted speaker for the dialogue 'so, thanks. i'm pretty cool.' by jim is Andy\n",
            "1/1 [==============================] - 0s 19ms/step\n",
            "The predicted speaker for the dialogue 'oh, god.' by pam is Erin\n",
            "1/1 [==============================] - 0s 21ms/step\n",
            "The predicted speaker for the dialogue 'michael, listen to me, it was just, incredibly late for tonight. but, i think she'd be great, but it's coming to you, i promise it. i am so proud of that.' by pam is Jim\n",
            "1/1 [==============================] - 0s 21ms/step\n",
            "The predicted speaker for the dialogue 'yeah, but you know what? honestly, i blew the gifts. and i'm a regional manager. i think it's really bad.' by pam is Jim\n",
            "1/1 [==============================] - 0s 21ms/step\n",
            "The predicted speaker for the dialogue 'uh, you're the dad to make sure whatever you, \" the company will still be a show of strengths, right?' by pam is Dwight\n",
            "1/1 [==============================] - 0s 22ms/step\n",
            "The predicted speaker for the dialogue 'hey!' by pam is Erin\n"
          ]
        }
      ]
    }
  ]
}